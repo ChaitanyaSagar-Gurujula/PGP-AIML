{
 "cells": [
  {
   "cell_type": "markdown",
   "metadata": {
    "colab_type": "text",
    "id": "QYjrxXEvJO1z"
   },
   "source": [
    "## Neural Networks Project\n",
    "\n",
    "### The Problem Description: \n",
    "Recognizing multi-digit numbers in photographs captured at street level is an important component of modern-day map making. A classic example of a corpus of such street level photographs is Google’s Street View imagery comprised of hundreds of millions of geo-located 360 degree panoramic images. The ability to automatically transcribe an address number from a geo-located patch of pixels and associate the transcribed number with a known street address helps pinpoint, with a high degree of accuracy, the location of the building it represents.<br>\n",
    "<br>\n",
    "More broadly, recognizing numbers in photographs is a problem of interest to the optical character recognition community. While OCR on constrained domains like document processing is well studied, arbitrary multi-character text recognition in photographs is still highly challenging. This difficulty arises due to the wide variability in the visual appearance of text in the wild on account of a large range of fonts, colours, styles, orientations, and character arrangements. The recognition problem is further complicated by environmental factors such as lighting, shadows, secularities, and occlusions as well as by image acquisition factors such as resolution, motion, and focus blurs. <br>\n",
    "<br>\n",
    "In this project we will use dataset with images centred around a single digit (many of the images do contain some distractors at the sides). Although we are taking a sample of the data which is simpler, it is more complex than MNIST because of the distractors. <br>\n",
    "\n",
    "### Data Description:\n",
    "\n",
    "The Street View House Numbers (SVHN) Dataset SVHN is a real-world image dataset for developing machine learning and object recognition algorithms with minimal requirement on data formatting but comes from a significantly harder, unsolved, real world problem (recognizing digits and numbers in natural scene images). SVHN is obtained from house numbers in Google Street View images.\n",
    "\n",
    "### Link to the dataset:\n",
    "\n",
    "https://drive.google.com/file/d/1L2-WXzguhUsCArrFUc8EEkXcj33pahoS/view?usp=sharing\n",
    "\n",
    "### Acknowledgement for the datasets.\n",
    "\n",
    "Yuval Netzer, Tao Wang, Adam Coates, Alessandro Bissacco, Bo Wu, Andrew Y. Ng Reading Digits in Natural Images with Unsupervised Feature Learning NIPS Workshop on Deep Learning and Unsupervised Feature Learning 2011. PDF http://ufldl.stanford.edu/housenumbers as the URL for this site when necessary\n",
    "\n",
    "### Objective:\n",
    "The objective of the project is to learn how to implement a simple image classification pipeline based on a deep neural network. The goals of this project are as follows:\n",
    "\n",
    "### Steps and tasks:"
   ]
  },
  {
   "cell_type": "markdown",
   "metadata": {
    "colab_type": "text",
    "id": "rizdjNowif2x"
   },
   "source": [
    "### 1. Load Dataset"
   ]
  },
  {
   "cell_type": "code",
   "execution_count": 1,
   "metadata": {
    "colab": {
     "base_uri": "https://localhost:8080/",
     "height": 121
    },
    "colab_type": "code",
    "id": "fbKQtFMoG8fX",
    "outputId": "e033a48c-5286-4eff-d0e4-5be37e599198"
   },
   "outputs": [
    {
     "name": "stdout",
     "output_type": "stream",
     "text": [
      "Go to this URL in a browser: https://accounts.google.com/o/oauth2/auth?client_id=947318989803-6bn6qk8qdgf4n4g3pfee6491hc0brc4i.apps.googleusercontent.com&redirect_uri=urn%3aietf%3awg%3aoauth%3a2.0%3aoob&response_type=code&scope=email%20https%3a%2f%2fwww.googleapis.com%2fauth%2fdocs.test%20https%3a%2f%2fwww.googleapis.com%2fauth%2fdrive%20https%3a%2f%2fwww.googleapis.com%2fauth%2fdrive.photos.readonly%20https%3a%2f%2fwww.googleapis.com%2fauth%2fpeopleapi.readonly\n",
      "\n",
      "Enter your authorization code:\n",
      "··········\n",
      "Mounted at /content/drive\n"
     ]
    }
   ],
   "source": [
    "from google.colab import drive\n",
    "drive.mount('/content/drive')"
   ]
  },
  {
   "cell_type": "code",
   "execution_count": 2,
   "metadata": {
    "colab": {},
    "colab_type": "code",
    "id": "lCAJM5T4JY14"
   },
   "outputs": [],
   "source": [
    "import h5py\n",
    "import numpy as np\n",
    "import pandas as pd\n",
    "import matplotlib.pyplot as plt\n",
    "# fix random seed for reproducibility\n",
    "seed = 7\n",
    "# Set `PYTHONHASHSEED` environment variable at a fixed value\n",
    "import os\n",
    "os.environ['PYTHONHASHSEED']=str(seed)\n",
    "# numpy random value set\n",
    "np.random.seed(seed)\n"
   ]
  },
  {
   "cell_type": "code",
   "execution_count": 3,
   "metadata": {
    "colab": {
     "base_uri": "https://localhost:8080/",
     "height": 34
    },
    "colab_type": "code",
    "id": "x0JjfHu_KkFB",
    "outputId": "66a11247-2fe0-4de1-fffc-04fd538a22d2"
   },
   "outputs": [
    {
     "name": "stdout",
     "output_type": "stream",
     "text": [
      "Keys: ['X_test', 'X_train', 'X_val', 'y_test', 'y_train', 'y_val']\n"
     ]
    }
   ],
   "source": [
    "# load the file\n",
    "filename = \"/content/drive/My Drive/SVHN_single_grey1.h5\"\n",
    "\n",
    "with h5py.File(filename, \"r\") as f:\n",
    "    keys=list(f.keys())\n",
    "    # List all groups\n",
    "    print(\"Keys:\", keys)\n",
    "    X_test =list(f['X_test'])\n",
    "    X_train =list(f['X_train'])\n",
    "    X_val =list(f['X_val'])\n",
    "    y_test =list(f['y_test'])\n",
    "    y_train =list(f['y_train'])\n",
    "    y_val =list(f['y_val'])"
   ]
  },
  {
   "cell_type": "markdown",
   "metadata": {
    "colab_type": "text",
    "id": "V2VEtJiIif3Z"
   },
   "source": [
    "### 2. Understand the basic Image Classification pipeline and the data-driven approach (train/predict stages)"
   ]
  },
  {
   "cell_type": "code",
   "execution_count": null,
   "metadata": {
    "colab": {
     "base_uri": "https://localhost:8080/",
     "height": 118
    },
    "colab_type": "code",
    "id": "Zt6RDSnCK1CE",
    "outputId": "37fa3e76-f0a9-4d2b-c707-436ad4f468d1"
   },
   "outputs": [
    {
     "name": "stdout",
     "output_type": "stream",
     "text": [
      " X_train Shape:  42000 * 32 * 32\n",
      " X_val Shape:  60000 * 32 * 32\n",
      " X_test Shape:  18000 * 32 * 32\n",
      " y_train Shape:  42000\n",
      " y_val Shape:  60000\n",
      " y_test Shape:  18000\n"
     ]
    }
   ],
   "source": [
    "# Shape of the data for train/val/test\n",
    "print(\" X_train Shape: \", len(X_train),\"*\",X_train[0].shape[0],\"*\",X_train[0].shape[1])\n",
    "print(\" X_val Shape: \", len(X_val),\"*\",X_val[0].shape[0],\"*\",X_val[0].shape[1])\n",
    "print(\" X_test Shape: \", len(X_test),\"*\",X_test[0].shape[0],\"*\",X_test[0].shape[1])\n",
    "\n",
    "print(\" y_train Shape: \", len(y_train))\n",
    "print(\" y_val Shape: \", len(y_val))\n",
    "print(\" y_test Shape: \", len(y_test))"
   ]
  },
  {
   "cell_type": "markdown",
   "metadata": {
    "colab_type": "text",
    "id": "fhGWzvblRJmg"
   },
   "source": [
    "#### Observations:\n",
    "Validation dataset is more compared to train set which is not the case in general."
   ]
  },
  {
   "cell_type": "code",
   "execution_count": null,
   "metadata": {
    "colab": {
     "base_uri": "https://localhost:8080/",
     "height": 283
    },
    "colab_type": "code",
    "id": "HDDDwK2fLPx6",
    "outputId": "e081d878-cec0-4f53-ee4f-339b34d2a91f"
   },
   "outputs": [
    {
     "data": {
      "image/png": "[encoded data removed]",
      "text/plain": [
       "<Figure size 432x288 with 1 Axes>"
      ]
     },
     "metadata": {
      "needs_background": "light",
      "tags": []
     },
     "output_type": "display_data"
    },
    {
     "name": "stdout",
     "output_type": "stream",
     "text": [
      "Label: 8\n"
     ]
    }
   ],
   "source": [
    "random_inx = np.random.choice(len(X_train))\n",
    "\n",
    "test_image = X_train[random_inx]\n",
    "plt.imshow(test_image)\n",
    "plt.show()\n",
    "\n",
    "print(\"Label:\",y_train[random_inx])"
   ]
  },
  {
   "cell_type": "markdown",
   "metadata": {
    "colab_type": "text",
    "id": "ocCkz1QDif32"
   },
   "source": [
    "### 3. Data fetching and understand the train/val/test splits. (15 points)"
   ]
  },
  {
   "cell_type": "code",
   "execution_count": null,
   "metadata": {
    "colab": {},
    "colab_type": "code",
    "id": "d8ixszzfTZgD"
   },
   "outputs": [],
   "source": [
    "# Get the counts of each digit from different sets\n",
    "def digit_counts(y):\n",
    "    print(\"Below is the split across digits:\")\n",
    "    for i in range(0,10):\n",
    "         print(i,\":\",y.count(i))"
   ]
  },
  {
   "cell_type": "code",
   "execution_count": null,
   "metadata": {
    "colab": {
     "base_uri": "https://localhost:8080/",
     "height": 672
    },
    "colab_type": "code",
    "id": "WYuyGvvFWU94",
    "outputId": "afe1f332-c012-4f12-fe6a-c1fe1f751c6f"
   },
   "outputs": [
    {
     "name": "stdout",
     "output_type": "stream",
     "text": [
      "Train Dataset:\n",
      "Below is the split across digits:\n",
      "0 : 4186\n",
      "1 : 4172\n",
      "2 : 4197\n",
      "3 : 4281\n",
      "4 : 4188\n",
      "5 : 4232\n",
      "6 : 4168\n",
      "7 : 4192\n",
      "8 : 4188\n",
      "9 : 4196\n",
      "------------------------\n",
      "Test Dataset:\n",
      "Below is the split across digits:\n",
      "0 : 1814\n",
      "1 : 1828\n",
      "2 : 1803\n",
      "3 : 1719\n",
      "4 : 1812\n",
      "5 : 1768\n",
      "6 : 1832\n",
      "7 : 1808\n",
      "8 : 1812\n",
      "9 : 1804\n",
      "------------------------\n",
      "Validation Dataset:\n",
      "Below is the split across digits:\n",
      "0 : 6000\n",
      "1 : 6000\n",
      "2 : 6000\n",
      "3 : 6000\n",
      "4 : 6000\n",
      "5 : 6000\n",
      "6 : 6000\n",
      "7 : 6000\n",
      "8 : 6000\n",
      "9 : 6000\n",
      "------------------------\n"
     ]
    }
   ],
   "source": [
    "# Train data set:\n",
    "\n",
    "print(\"Train Dataset:\")\n",
    "digit_counts(y_train)\n",
    "print(\"------------------------\")\n",
    "print(\"Test Dataset:\")\n",
    "digit_counts(y_test)\n",
    "print(\"------------------------\")\n",
    "print(\"Validation Dataset:\")\n",
    "digit_counts(y_val)\n",
    "print(\"------------------------\")"
   ]
  },
  {
   "cell_type": "code",
   "execution_count": 16,
   "metadata": {
    "colab": {},
    "colab_type": "code",
    "id": "jNewsZRtSn6c"
   },
   "outputs": [],
   "source": [
    "# Converting the datasets in numpy arrays\n",
    "X_test=np.array(X_test).reshape(18000,1024)\n",
    "X_train=np.array(X_train).reshape(42000,1024)\n",
    "y_train=np.array(y_train).reshape(42000,1)\n",
    "y_test=np.array(y_test).reshape(18000,1)\n",
    "X_val=np.array(X_val).reshape(60000,1024)\n",
    "y_val=np.array(y_val).reshape(60000,1)"
   ]
  },
  {
   "cell_type": "markdown",
   "metadata": {
    "colab_type": "text",
    "id": "Qf-PNvhlYTgY"
   },
   "source": [
    "#### Counts in all datasets are uniformly split across digits. Hence we should be able to train the model , can do validation and test the model by giving equal importance for all digits."
   ]
  },
  {
   "cell_type": "markdown",
   "metadata": {
    "colab_type": "text",
    "id": "ama5iYpAif4k"
   },
   "source": [
    "### 4. Implement and apply a deep neural network classifier including (feedforward neural network, RELU, activations) (25 points)"
   ]
  },
  {
   "cell_type": "code",
   "execution_count": 5,
   "metadata": {
    "colab": {
     "base_uri": "https://localhost:8080/",
     "height": 34
    },
    "colab_type": "code",
    "id": "RGU5I2uFXi0y",
    "outputId": "b166a8f0-a95e-4ba3-fcff-401dafc4739c"
   },
   "outputs": [
    {
     "name": "stdout",
     "output_type": "stream",
     "text": [
      "2.3.0\n"
     ]
    }
   ],
   "source": [
    "import tensorflow as tf\n",
    "print(tf.__version__)\n",
    "from tensorflow.random import set_seed\n",
    "set_seed(seed)"
   ]
  },
  {
   "cell_type": "code",
   "execution_count": 6,
   "metadata": {
    "colab": {},
    "colab_type": "code",
    "id": "KFnrIbaodGWW"
   },
   "outputs": [],
   "source": [
    "from tensorflow.keras import Sequential\n",
    "from tensorflow.keras.layers import Dense,Flatten,InputLayer,ReLU,Softmax,BatchNormalization,Dropout\n",
    "#from tensorflow.keras.activations import relu,softmax\n",
    "from tensorflow.keras.optimizers import SGD\n",
    "from tensorflow.keras.losses import SparseCategoricalCrossentropy\n",
    "from tensorflow.keras.metrics import SparseCategoricalAccuracy\n",
    "from tensorflow.keras.optimizers.schedules import InverseTimeDecay\n",
    "from tensorflow.keras.regularizers import L2\n",
    "from tensorflow.keras.callbacks import EarlyStopping,ModelCheckpoint\n",
    "from tensorflow.keras.models import load_model"
   ]
  },
  {
   "cell_type": "code",
   "execution_count": null,
   "metadata": {
    "colab": {},
    "colab_type": "code",
    "id": "QKbDB8Ps9Yyc"
   },
   "outputs": [],
   "source": [
    "# Deploying a basic model\n",
    "model=Sequential()\n",
    "model.add(InputLayer(input_shape=(1024,)))\n",
    "#model.add(Dense(units=64,use_bias=True, kernel_initializer='glorot_uniform', bias_initializer='zeros',name='Hidden_Layer_1'))\n",
    "#model.add(ReLU())\n",
    "model.add(Dense(units=10,use_bias=True, kernel_initializer='glorot_uniform', bias_initializer='zeros',name='Output_Layer'))\n",
    "model.add(Softmax())\n"
   ]
  },
  {
   "cell_type": "code",
   "execution_count": null,
   "metadata": {
    "colab": {
     "base_uri": "https://localhost:8080/",
     "height": 218
    },
    "colab_type": "code",
    "id": "4ZJlqLT6NjV2",
    "outputId": "ab0f845c-6332-418a-c72c-0b7d8b699fac"
   },
   "outputs": [
    {
     "name": "stdout",
     "output_type": "stream",
     "text": [
      "Model: \"sequential_3\"\n",
      "_________________________________________________________________\n",
      "Layer (type)                 Output Shape              Param #   \n",
      "=================================================================\n",
      "Output_Layer (Dense)         (None, 10)                10250     \n",
      "_________________________________________________________________\n",
      "softmax_3 (Softmax)          (None, 10)                0         \n",
      "=================================================================\n",
      "Total params: 10,250\n",
      "Trainable params: 10,250\n",
      "Non-trainable params: 0\n",
      "_________________________________________________________________\n"
     ]
    }
   ],
   "source": [
    "model.summary()"
   ]
  },
  {
   "cell_type": "code",
   "execution_count": null,
   "metadata": {
    "colab": {},
    "colab_type": "code",
    "id": "IPOIKhIEO_F-"
   },
   "outputs": [],
   "source": [
    "model.compile(optimizer=SGD(), loss=SparseCategoricalCrossentropy(), metrics=SparseCategoricalAccuracy(), run_eagerly=None)"
   ]
  },
  {
   "cell_type": "code",
   "execution_count": null,
   "metadata": {
    "colab": {},
    "colab_type": "code",
    "id": "MuqD82fQk6j-"
   },
   "outputs": [],
   "source": [
    "# Data Normalization for faster convergence\n",
    "X_test_norm=X_test/255.0\n",
    "X_train_norm=X_train/255.0\n",
    "X_val_norm=X_val/255.0"
   ]
  },
  {
   "cell_type": "code",
   "execution_count": null,
   "metadata": {
    "colab": {
     "base_uri": "https://localhost:8080/",
     "height": 1000
    },
    "colab_type": "code",
    "id": "vHebry3LZBdg",
    "outputId": "2d0ffa74-232b-4c9b-da47-e614207051fe"
   },
   "outputs": [
    {
     "name": "stdout",
     "output_type": "stream",
     "text": [
      "Epoch 1/30\n",
      "1313/1313 - 4s - loss: 2.3196 - sparse_categorical_accuracy: 0.1104 - val_loss: 2.3082 - val_sparse_categorical_accuracy: 0.1245\n",
      "Epoch 2/30\n",
      "1313/1313 - 4s - loss: 2.3049 - sparse_categorical_accuracy: 0.1266 - val_loss: 2.3116 - val_sparse_categorical_accuracy: 0.1239\n",
      "Epoch 3/30\n",
      "1313/1313 - 5s - loss: 2.2958 - sparse_categorical_accuracy: 0.1410 - val_loss: 2.3013 - val_sparse_categorical_accuracy: 0.1461\n",
      "Epoch 4/30\n",
      "1313/1313 - 4s - loss: 2.2891 - sparse_categorical_accuracy: 0.1514 - val_loss: 2.2814 - val_sparse_categorical_accuracy: 0.1736\n",
      "Epoch 5/30\n",
      "1313/1313 - 4s - loss: 2.2849 - sparse_categorical_accuracy: 0.1607 - val_loss: 2.2807 - val_sparse_categorical_accuracy: 0.1710\n",
      "Epoch 6/30\n",
      "1313/1313 - 5s - loss: 2.2829 - sparse_categorical_accuracy: 0.1622 - val_loss: 2.2736 - val_sparse_categorical_accuracy: 0.1685\n",
      "Epoch 7/30\n",
      "1313/1313 - 4s - loss: 2.2794 - sparse_categorical_accuracy: 0.1666 - val_loss: 2.2879 - val_sparse_categorical_accuracy: 0.1376\n",
      "Epoch 8/30\n",
      "1313/1313 - 4s - loss: 2.2788 - sparse_categorical_accuracy: 0.1684 - val_loss: 2.2864 - val_sparse_categorical_accuracy: 0.1602\n",
      "Epoch 9/30\n",
      "1313/1313 - 4s - loss: 2.2758 - sparse_categorical_accuracy: 0.1711 - val_loss: 2.2865 - val_sparse_categorical_accuracy: 0.1680\n",
      "Epoch 10/30\n",
      "1313/1313 - 4s - loss: 2.2749 - sparse_categorical_accuracy: 0.1743 - val_loss: 2.3011 - val_sparse_categorical_accuracy: 0.1528\n",
      "Epoch 11/30\n",
      "1313/1313 - 4s - loss: 2.2740 - sparse_categorical_accuracy: 0.1766 - val_loss: 2.2916 - val_sparse_categorical_accuracy: 0.1693\n",
      "Epoch 12/30\n",
      "1313/1313 - 4s - loss: 2.2705 - sparse_categorical_accuracy: 0.1825 - val_loss: 2.2880 - val_sparse_categorical_accuracy: 0.1569\n",
      "Epoch 13/30\n",
      "1313/1313 - 4s - loss: 2.2710 - sparse_categorical_accuracy: 0.1825 - val_loss: 2.2756 - val_sparse_categorical_accuracy: 0.1649\n",
      "Epoch 14/30\n",
      "1313/1313 - 4s - loss: 2.2683 - sparse_categorical_accuracy: 0.1851 - val_loss: 2.2794 - val_sparse_categorical_accuracy: 0.1569\n",
      "Epoch 15/30\n",
      "1313/1313 - 4s - loss: 2.2684 - sparse_categorical_accuracy: 0.1869 - val_loss: 2.3149 - val_sparse_categorical_accuracy: 0.1391\n",
      "Epoch 16/30\n",
      "1313/1313 - 4s - loss: 2.2679 - sparse_categorical_accuracy: 0.1852 - val_loss: 2.2807 - val_sparse_categorical_accuracy: 0.1661\n",
      "Epoch 17/30\n",
      "1313/1313 - 4s - loss: 2.2670 - sparse_categorical_accuracy: 0.1887 - val_loss: 2.2833 - val_sparse_categorical_accuracy: 0.1674\n",
      "Epoch 18/30\n",
      "1313/1313 - 4s - loss: 2.2662 - sparse_categorical_accuracy: 0.1905 - val_loss: 2.2763 - val_sparse_categorical_accuracy: 0.1824\n",
      "Epoch 19/30\n",
      "1313/1313 - 4s - loss: 2.2654 - sparse_categorical_accuracy: 0.1875 - val_loss: 2.2942 - val_sparse_categorical_accuracy: 0.1495\n",
      "Epoch 20/30\n",
      "1313/1313 - 4s - loss: 2.2665 - sparse_categorical_accuracy: 0.1900 - val_loss: 2.2833 - val_sparse_categorical_accuracy: 0.1725\n",
      "Epoch 21/30\n",
      "1313/1313 - 4s - loss: 2.2648 - sparse_categorical_accuracy: 0.1930 - val_loss: 2.2602 - val_sparse_categorical_accuracy: 0.2030\n",
      "Epoch 22/30\n",
      "1313/1313 - 4s - loss: 2.2634 - sparse_categorical_accuracy: 0.1901 - val_loss: 2.2709 - val_sparse_categorical_accuracy: 0.1982\n",
      "Epoch 23/30\n",
      "1313/1313 - 5s - loss: 2.2636 - sparse_categorical_accuracy: 0.1944 - val_loss: 2.2732 - val_sparse_categorical_accuracy: 0.1737\n",
      "Epoch 24/30\n",
      "1313/1313 - 4s - loss: 2.2627 - sparse_categorical_accuracy: 0.1912 - val_loss: 2.2884 - val_sparse_categorical_accuracy: 0.1829\n",
      "Epoch 25/30\n",
      "1313/1313 - 4s - loss: 2.2632 - sparse_categorical_accuracy: 0.1960 - val_loss: 2.2936 - val_sparse_categorical_accuracy: 0.1677\n",
      "Epoch 26/30\n",
      "1313/1313 - 4s - loss: 2.2627 - sparse_categorical_accuracy: 0.1934 - val_loss: 2.2731 - val_sparse_categorical_accuracy: 0.1766\n",
      "Epoch 27/30\n",
      "1313/1313 - 4s - loss: 2.2623 - sparse_categorical_accuracy: 0.1929 - val_loss: 2.2614 - val_sparse_categorical_accuracy: 0.1989\n",
      "Epoch 28/30\n",
      "1313/1313 - 4s - loss: 2.2620 - sparse_categorical_accuracy: 0.1956 - val_loss: 2.2675 - val_sparse_categorical_accuracy: 0.1979\n",
      "Epoch 29/30\n",
      "1313/1313 - 4s - loss: 2.2612 - sparse_categorical_accuracy: 0.1987 - val_loss: 2.2632 - val_sparse_categorical_accuracy: 0.1997\n",
      "Epoch 30/30\n",
      "1313/1313 - 4s - loss: 2.2609 - sparse_categorical_accuracy: 0.1969 - val_loss: 2.2702 - val_sparse_categorical_accuracy: 0.1850\n"
     ]
    }
   ],
   "source": [
    "his=model.fit(x=X_train_norm,y=y_train,batch_size=32,epochs=30,validation_data=(X_val_norm,y_val) ,verbose=2)"
   ]
  },
  {
   "cell_type": "markdown",
   "metadata": {
    "colab_type": "text",
    "id": "yXoicjbl5ZZU"
   },
   "source": [
    "There is no point in checking the test data accuracy as train and validation accuracy itself is very low. "
   ]
  },
  {
   "cell_type": "markdown",
   "metadata": {
    "colab_type": "text",
    "id": "70UNt7QHif53"
   },
   "source": [
    "### 5. Implement batch normalization for training the neural network(10 points)"
   ]
  },
  {
   "cell_type": "markdown",
   "metadata": {
    "colab_type": "text",
    "id": "4sToYj-s56NE"
   },
   "source": [
    "#### Hyperparameter Tunning:\n",
    "\n",
    "Below is one approach through which model can be tuned:\n",
    "\n",
    "1. Try different Optimizers. Adam should be enough and work for most of the cases because its the combination of Momentum and RMSProp.\n",
    "2. Add Hidden Layers and Introduce batch normalization.\n",
    "3. Modify the batch size.\n",
    "4. Change the learning rate and adjust the no. of epochs accordingly.\n",
    "   Change momentum parameters - beta1 and beta2 if needed.\n",
    "5. Add Learning rate decay method.\n",
    "6. Try Regularization techniques - Dropout or L2-Regularization.\n"
   ]
  },
  {
   "cell_type": "markdown",
   "metadata": {
    "colab_type": "text",
    "id": "BXOq40Z6-2mc"
   },
   "source": [
    "#### Optimizer:"
   ]
  },
  {
   "cell_type": "code",
   "execution_count": null,
   "metadata": {
    "colab": {
     "base_uri": "https://localhost:8080/",
     "height": 1000
    },
    "colab_type": "code",
    "id": "hhvEKhSI-7M4",
    "outputId": "d4b3bc74-bd93-4f12-87de-8e8977d7bbf3"
   },
   "outputs": [
    {
     "name": "stdout",
     "output_type": "stream",
     "text": [
      "Epoch 1/30\n",
      "1313/1313 - 4s - loss: 2.2975 - sparse_categorical_accuracy: 0.1742 - val_loss: 2.2640 - val_sparse_categorical_accuracy: 0.1924\n",
      "Epoch 2/30\n",
      "1313/1313 - 5s - loss: 2.2988 - sparse_categorical_accuracy: 0.1744 - val_loss: 2.3156 - val_sparse_categorical_accuracy: 0.1671\n",
      "Epoch 3/30\n",
      "1313/1313 - 4s - loss: 2.2982 - sparse_categorical_accuracy: 0.1751 - val_loss: 2.3366 - val_sparse_categorical_accuracy: 0.1601\n",
      "Epoch 4/30\n",
      "1313/1313 - 4s - loss: 2.2965 - sparse_categorical_accuracy: 0.1793 - val_loss: 2.3072 - val_sparse_categorical_accuracy: 0.1659\n",
      "Epoch 5/30\n",
      "1313/1313 - 4s - loss: 2.2983 - sparse_categorical_accuracy: 0.1782 - val_loss: 2.2973 - val_sparse_categorical_accuracy: 0.1782\n",
      "Epoch 6/30\n",
      "1313/1313 - 4s - loss: 2.2920 - sparse_categorical_accuracy: 0.1797 - val_loss: 2.2923 - val_sparse_categorical_accuracy: 0.1741\n",
      "Epoch 7/30\n",
      "1313/1313 - 4s - loss: 2.2958 - sparse_categorical_accuracy: 0.1799 - val_loss: 2.2899 - val_sparse_categorical_accuracy: 0.1638\n",
      "Epoch 8/30\n",
      "1313/1313 - 4s - loss: 2.2933 - sparse_categorical_accuracy: 0.1814 - val_loss: 2.3122 - val_sparse_categorical_accuracy: 0.1491\n",
      "Epoch 9/30\n",
      "1313/1313 - 4s - loss: 2.2909 - sparse_categorical_accuracy: 0.1830 - val_loss: 2.2821 - val_sparse_categorical_accuracy: 0.1897\n",
      "Epoch 10/30\n",
      "1313/1313 - 4s - loss: 2.2911 - sparse_categorical_accuracy: 0.1825 - val_loss: 2.3200 - val_sparse_categorical_accuracy: 0.1490\n",
      "Epoch 11/30\n",
      "1313/1313 - 4s - loss: 2.2921 - sparse_categorical_accuracy: 0.1835 - val_loss: 2.3187 - val_sparse_categorical_accuracy: 0.1616\n",
      "Epoch 12/30\n",
      "1313/1313 - 5s - loss: 2.2947 - sparse_categorical_accuracy: 0.1805 - val_loss: 2.2703 - val_sparse_categorical_accuracy: 0.2027\n",
      "Epoch 13/30\n",
      "1313/1313 - 5s - loss: 2.2922 - sparse_categorical_accuracy: 0.1818 - val_loss: 2.2902 - val_sparse_categorical_accuracy: 0.1883\n",
      "Epoch 14/30\n",
      "1313/1313 - 4s - loss: 2.2923 - sparse_categorical_accuracy: 0.1836 - val_loss: 2.3034 - val_sparse_categorical_accuracy: 0.1805\n",
      "Epoch 15/30\n",
      "1313/1313 - 4s - loss: 2.2961 - sparse_categorical_accuracy: 0.1795 - val_loss: 2.2772 - val_sparse_categorical_accuracy: 0.1968\n",
      "Epoch 16/30\n",
      "1313/1313 - 4s - loss: 2.2884 - sparse_categorical_accuracy: 0.1857 - val_loss: 2.3020 - val_sparse_categorical_accuracy: 0.1738\n",
      "Epoch 17/30\n",
      "1313/1313 - 4s - loss: 2.2897 - sparse_categorical_accuracy: 0.1860 - val_loss: 2.2924 - val_sparse_categorical_accuracy: 0.1776\n",
      "Epoch 18/30\n",
      "1313/1313 - 4s - loss: 2.2886 - sparse_categorical_accuracy: 0.1842 - val_loss: 2.2630 - val_sparse_categorical_accuracy: 0.2036\n",
      "Epoch 19/30\n",
      "1313/1313 - 4s - loss: 2.2899 - sparse_categorical_accuracy: 0.1862 - val_loss: 2.3112 - val_sparse_categorical_accuracy: 0.1569\n",
      "Epoch 20/30\n",
      "1313/1313 - 5s - loss: 2.2940 - sparse_categorical_accuracy: 0.1822 - val_loss: 2.2798 - val_sparse_categorical_accuracy: 0.1882\n",
      "Epoch 21/30\n",
      "1313/1313 - 4s - loss: 2.2912 - sparse_categorical_accuracy: 0.1832 - val_loss: 2.2806 - val_sparse_categorical_accuracy: 0.1711\n",
      "Epoch 22/30\n",
      "1313/1313 - 4s - loss: 2.2876 - sparse_categorical_accuracy: 0.1858 - val_loss: 2.3409 - val_sparse_categorical_accuracy: 0.1685\n",
      "Epoch 23/30\n",
      "1313/1313 - 4s - loss: 2.2853 - sparse_categorical_accuracy: 0.1873 - val_loss: 2.2991 - val_sparse_categorical_accuracy: 0.1864\n",
      "Epoch 24/30\n",
      "1313/1313 - 5s - loss: 2.2878 - sparse_categorical_accuracy: 0.1852 - val_loss: 2.3178 - val_sparse_categorical_accuracy: 0.1667\n",
      "Epoch 25/30\n",
      "1313/1313 - 4s - loss: 2.2871 - sparse_categorical_accuracy: 0.1879 - val_loss: 2.2879 - val_sparse_categorical_accuracy: 0.1698\n",
      "Epoch 26/30\n",
      "1313/1313 - 4s - loss: 2.2882 - sparse_categorical_accuracy: 0.1858 - val_loss: 2.2607 - val_sparse_categorical_accuracy: 0.2052\n",
      "Epoch 27/30\n",
      "1313/1313 - 4s - loss: 2.2864 - sparse_categorical_accuracy: 0.1871 - val_loss: 2.2784 - val_sparse_categorical_accuracy: 0.1942\n",
      "Epoch 28/30\n",
      "1313/1313 - 4s - loss: 2.2872 - sparse_categorical_accuracy: 0.1891 - val_loss: 2.2931 - val_sparse_categorical_accuracy: 0.1738\n",
      "Epoch 29/30\n",
      "1313/1313 - 4s - loss: 2.2862 - sparse_categorical_accuracy: 0.1865 - val_loss: 2.3437 - val_sparse_categorical_accuracy: 0.1444\n",
      "Epoch 30/30\n",
      "1313/1313 - 4s - loss: 2.2836 - sparse_categorical_accuracy: 0.1884 - val_loss: 2.3227 - val_sparse_categorical_accuracy: 0.1836\n"
     ]
    },
    {
     "data": {
      "text/plain": [
       "<tensorflow.python.keras.callbacks.History at 0x7f490020a278>"
      ]
     },
     "execution_count": 31,
     "metadata": {
      "tags": []
     },
     "output_type": "execute_result"
    }
   ],
   "source": [
    "# Using Adam Optimizer\n",
    "model.compile(optimizer=tf.keras.optimizers.Adam(), loss=SparseCategoricalCrossentropy(), metrics=SparseCategoricalAccuracy(), run_eagerly=None)\n",
    "model.fit(x=X_train_norm,y=y_train,batch_size=32,epochs=30,validation_data=(X_val_norm,y_val) ,verbose=2)"
   ]
  },
  {
   "cell_type": "markdown",
   "metadata": {
    "colab_type": "text",
    "id": "GOQeXITzCZKQ"
   },
   "source": [
    "#### Introducing Hidden Layers:"
   ]
  },
  {
   "cell_type": "markdown",
   "metadata": {
    "colab_type": "text",
    "id": "6d-goDsZif6R"
   },
   "source": [
    "As a standard approach, have reduced the neurons in hidden layers by half w.r.t. corresponding Input layer."
   ]
  },
  {
   "cell_type": "code",
   "execution_count": 7,
   "metadata": {
    "colab": {},
    "colab_type": "code",
    "id": "CbvNHy5BCQee"
   },
   "outputs": [],
   "source": [
    "# function to create model and fit based on the params. This doesnt include Dropout\n",
    "def create_model(learning_rate= 0.001,beta_1=0.9,batch_size=32,epochs=100,kernel_regularizer=0):\n",
    "    model=Sequential()\n",
    "    model.add(InputLayer(input_shape=(1024,)))\n",
    "    model.add(Dense(units=512,use_bias=True, kernel_initializer='glorot_uniform', bias_initializer='zeros',name='Hidden_Layer_1',kernel_regularizer=L2(l2=kernel_regularizer)))\n",
    "    model.add(BatchNormalization(axis=-1, momentum=0.99))\n",
    "    model.add(ReLU())\n",
    "    model.add(Dense(units=256,use_bias=True, kernel_initializer='glorot_uniform', bias_initializer='zeros',name='Hidden_Layer_2',kernel_regularizer=L2(l2=kernel_regularizer)))\n",
    "    model.add(BatchNormalization(axis=-1, momentum=0.99))\n",
    "    model.add(ReLU())\n",
    "    model.add(Dense(units=128,use_bias=True, kernel_initializer='glorot_uniform', bias_initializer='zeros',name='Hidden_Layer_3',kernel_regularizer=L2(l2=kernel_regularizer)))\n",
    "    model.add(BatchNormalization(axis=-1, momentum=0.99))\n",
    "    model.add(ReLU())\n",
    "    model.add(Dense(units=64,use_bias=True, kernel_initializer='glorot_uniform', bias_initializer='zeros',name='Hidden_Layer_4',kernel_regularizer=L2(l2=kernel_regularizer)))\n",
    "    model.add(BatchNormalization(axis=-1, momentum=0.99))\n",
    "    model.add(ReLU())\n",
    "    model.add(Dense(units=32,use_bias=True, kernel_initializer='glorot_uniform', bias_initializer='zeros',name='Hidden_Layer_5',kernel_regularizer=L2(l2=kernel_regularizer)))\n",
    "    model.add(BatchNormalization(axis=-1, momentum=0.99))\n",
    "    model.add(ReLU())\n",
    "    model.add(Dense(units=10,use_bias=True, kernel_initializer='glorot_uniform', bias_initializer='zeros',name='Output_Layer',kernel_regularizer=L2(l2=kernel_regularizer)))\n",
    "    model.add(Softmax())\n",
    "    # Compile\n",
    "    model.compile(optimizer=tf.keras.optimizers.Adam(learning_rate=learning_rate,beta_1=beta_1), loss=SparseCategoricalCrossentropy(), metrics=SparseCategoricalAccuracy(), run_eagerly=None)\n",
    "    # Fit\n",
    "    history=model.fit(x=X_train,y=y_train,batch_size=batch_size,epochs=epochs,validation_data=(X_val,y_val) ,verbose=0)\n",
    "    return model,history"
   ]
  },
  {
   "cell_type": "code",
   "execution_count": 8,
   "metadata": {
    "colab": {},
    "colab_type": "code",
    "id": "UNAy-vhrjHiZ"
   },
   "outputs": [],
   "source": [
    "# function to create model and fit based on the params. This includes Dropout\n",
    "def create_model_dropout(return_only_model=False, learning_rate= 0.001,beta_1=0.9,batch_size=32,epochs=100,kernel_regularizer=0,dropout_bias=0):\n",
    "    model=Sequential()\n",
    "    model.add(InputLayer(input_shape=(1024,)))\n",
    "    model.add(Dense(units=512,use_bias=True, kernel_initializer='glorot_uniform', bias_initializer='zeros',name='Hidden_Layer_1',kernel_regularizer=L2(l2=kernel_regularizer)))\n",
    "    model.add(Dropout(rate=0.1+dropout_bias,seed=seed))\n",
    "    model.add(BatchNormalization(axis=-1, momentum=0.99))\n",
    "    model.add(ReLU())\n",
    "    model.add(Dense(units=256,use_bias=True, kernel_initializer='glorot_uniform', bias_initializer='zeros',name='Hidden_Layer_2',kernel_regularizer=L2(l2=kernel_regularizer)))\n",
    "    model.add(Dropout(rate=0.1+dropout_bias,seed=seed))\n",
    "    model.add(BatchNormalization(axis=-1, momentum=0.99))\n",
    "    model.add(ReLU())\n",
    "    model.add(Dense(units=128,use_bias=True, kernel_initializer='glorot_uniform', bias_initializer='zeros',name='Hidden_Layer_3',kernel_regularizer=L2(l2=kernel_regularizer)))\n",
    "    model.add(Dropout(rate=0.05+dropout_bias,seed=seed))\n",
    "    model.add(BatchNormalization(axis=-1, momentum=0.99))\n",
    "    model.add(ReLU())\n",
    "    model.add(Dense(units=64,use_bias=True, kernel_initializer='glorot_uniform', bias_initializer='zeros',name='Hidden_Layer_4',kernel_regularizer=L2(l2=kernel_regularizer)))\n",
    "    model.add(Dropout(rate=0.05+dropout_bias,seed=seed))\n",
    "    model.add(BatchNormalization(axis=-1, momentum=0.99))\n",
    "    model.add(ReLU())\n",
    "    model.add(Dense(units=32,use_bias=True, kernel_initializer='glorot_uniform', bias_initializer='zeros',name='Hidden_Layer_5',kernel_regularizer=L2(l2=kernel_regularizer)))\n",
    "    model.add(Dropout(rate=dropout_bias,seed=seed))\n",
    "    model.add(BatchNormalization(axis=-1, momentum=0.99))\n",
    "    model.add(ReLU())\n",
    "    model.add(Dense(units=10,use_bias=True, kernel_initializer='glorot_uniform', bias_initializer='zeros',name='Output_Layer',kernel_regularizer=L2(l2=kernel_regularizer)))\n",
    "    model.add(Softmax())\n",
    "    # Compile\n",
    "    model.compile(optimizer=tf.keras.optimizers.Adam(learning_rate=learning_rate,beta_1=beta_1), loss=SparseCategoricalCrossentropy(), metrics=SparseCategoricalAccuracy(), run_eagerly=None)\n",
    "    if return_only_model:\n",
    "        return model\n",
    "    else: \n",
    "        # Fit\n",
    "        history=model.fit(x=X_train,y=y_train,batch_size=batch_size,epochs=epochs,validation_data=(X_val,y_val) ,verbose=0)\n",
    "        return model,history"
   ]
  },
  {
   "cell_type": "markdown",
   "metadata": {
    "colab_type": "text",
    "id": "D4kJlI8Dg59O"
   },
   "source": [
    "#### Learning rate and Batch size:"
   ]
  },
  {
   "cell_type": "code",
   "execution_count": null,
   "metadata": {
    "colab": {
     "base_uri": "https://localhost:8080/",
     "height": 168
    },
    "colab_type": "code",
    "id": "8XvNpo1APl2-",
    "outputId": "c456546b-35b0-4ab4-9c2f-0d4b4154c56e"
   },
   "outputs": [
    {
     "name": "stdout",
     "output_type": "stream",
     "text": [
      "Execution completed for learning_rate:  0.001  , batch_size:  32  ,momentum(beta_1):  0.9\n",
      "Execution completed for learning_rate:  0.001  , batch_size:  64  ,momentum(beta_1):  0.9\n",
      "Execution completed for learning_rate:  0.001  , batch_size:  128  ,momentum(beta_1):  0.9\n",
      "Execution completed for learning_rate:  0.002  , batch_size:  32  ,momentum(beta_1):  0.9\n",
      "Execution completed for learning_rate:  0.002  , batch_size:  64  ,momentum(beta_1):  0.9\n",
      "Execution completed for learning_rate:  0.002  , batch_size:  128  ,momentum(beta_1):  0.9\n",
      "Execution completed for learning_rate:  0.005  , batch_size:  32  ,momentum(beta_1):  0.9\n",
      "Execution completed for learning_rate:  0.005  , batch_size:  64  ,momentum(beta_1):  0.9\n",
      "Execution completed for learning_rate:  0.005  , batch_size:  128  ,momentum(beta_1):  0.9\n"
     ]
    }
   ],
   "source": [
    "# Trying different combinations of learning_rate and batch_size for a fixed momentum.\n",
    "learning_rate=[0.001,0.002,0.005]\n",
    "batch_size=[32,64,128]\n",
    "momentum=[0.9]\n",
    "\n",
    "\n",
    "perf_df= pd.DataFrame({'steps':[],'learning_rate':[],'batch_size':[],'momentum':[],'loss':[],\n",
    "                      'sparse_categorical_accuracy':[],'val_loss':[],'val_sparse_categorical_accuracy':[]})\n",
    "for lr in learning_rate:\n",
    "    for bs in batch_size:\n",
    "        for m in momentum:\n",
    "            model,history=create_model(learning_rate=lr,beta_1=m)\n",
    "            h=pd.DataFrame(history.history)\n",
    "            d=pd.DataFrame({'learning_rate':[lr],'batch_size':[bs],'momentum':[m]})\n",
    "            d['key'] = 1\n",
    "            h['key'] = 1\n",
    "            data=pd.merge(d,h,on='key').drop('key',axis=1).reset_index()\n",
    "            data.rename(columns={'index':'steps'},inplace=True)\n",
    "            data['steps']=data['steps']+1\n",
    "            perf_df=pd.concat([perf_df,data],axis=0,ignore_index=True)\n",
    "            print(\"Execution completed for learning_rate: \",lr,\" , batch_size: \",bs,\" ,momentum(beta_1): \", m)\n"
   ]
  },
  {
   "cell_type": "code",
   "execution_count": null,
   "metadata": {
    "colab": {
     "base_uri": "https://localhost:8080/",
     "height": 343
    },
    "colab_type": "code",
    "id": "vtcfkn4k3hXW",
    "outputId": "06618083-45f2-4cbe-ab82-3ff75afb1a5c"
   },
   "outputs": [
    {
     "data": {
      "text/html": [
       "<div>\n",
       "<style scoped>\n",
       "    .dataframe tbody tr th:only-of-type {\n",
       "        vertical-align: middle;\n",
       "    }\n",
       "\n",
       "    .dataframe tbody tr th {\n",
       "        vertical-align: top;\n",
       "    }\n",
       "\n",
       "    .dataframe thead th {\n",
       "        text-align: right;\n",
       "    }\n",
       "</style>\n",
       "<table border=\"1\" class=\"dataframe\">\n",
       "  <thead>\n",
       "    <tr style=\"text-align: right;\">\n",
       "      <th></th>\n",
       "      <th>steps</th>\n",
       "      <th>learning_rate</th>\n",
       "      <th>batch_size</th>\n",
       "      <th>momentum</th>\n",
       "      <th>loss</th>\n",
       "      <th>sparse_categorical_accuracy</th>\n",
       "      <th>val_loss</th>\n",
       "      <th>val_sparse_categorical_accuracy</th>\n",
       "    </tr>\n",
       "  </thead>\n",
       "  <tbody>\n",
       "    <tr>\n",
       "      <th>499</th>\n",
       "      <td>100.0</td>\n",
       "      <td>0.002</td>\n",
       "      <td>64.0</td>\n",
       "      <td>0.9</td>\n",
       "      <td>0.154896</td>\n",
       "      <td>0.947905</td>\n",
       "      <td>0.257008</td>\n",
       "      <td>0.934017</td>\n",
       "    </tr>\n",
       "    <tr>\n",
       "      <th>897</th>\n",
       "      <td>98.0</td>\n",
       "      <td>0.005</td>\n",
       "      <td>128.0</td>\n",
       "      <td>0.9</td>\n",
       "      <td>0.188816</td>\n",
       "      <td>0.935524</td>\n",
       "      <td>0.268814</td>\n",
       "      <td>0.929767</td>\n",
       "    </tr>\n",
       "    <tr>\n",
       "      <th>673</th>\n",
       "      <td>74.0</td>\n",
       "      <td>0.005</td>\n",
       "      <td>32.0</td>\n",
       "      <td>0.9</td>\n",
       "      <td>0.226134</td>\n",
       "      <td>0.925452</td>\n",
       "      <td>0.258994</td>\n",
       "      <td>0.928533</td>\n",
       "    </tr>\n",
       "    <tr>\n",
       "      <th>599</th>\n",
       "      <td>100.0</td>\n",
       "      <td>0.002</td>\n",
       "      <td>128.0</td>\n",
       "      <td>0.9</td>\n",
       "      <td>0.157493</td>\n",
       "      <td>0.946786</td>\n",
       "      <td>0.289028</td>\n",
       "      <td>0.927033</td>\n",
       "    </tr>\n",
       "    <tr>\n",
       "      <th>296</th>\n",
       "      <td>97.0</td>\n",
       "      <td>0.001</td>\n",
       "      <td>128.0</td>\n",
       "      <td>0.9</td>\n",
       "      <td>0.156229</td>\n",
       "      <td>0.947738</td>\n",
       "      <td>0.288423</td>\n",
       "      <td>0.923417</td>\n",
       "    </tr>\n",
       "    <tr>\n",
       "      <th>390</th>\n",
       "      <td>91.0</td>\n",
       "      <td>0.002</td>\n",
       "      <td>32.0</td>\n",
       "      <td>0.9</td>\n",
       "      <td>0.168418</td>\n",
       "      <td>0.944595</td>\n",
       "      <td>0.289128</td>\n",
       "      <td>0.922817</td>\n",
       "    </tr>\n",
       "    <tr>\n",
       "      <th>97</th>\n",
       "      <td>98.0</td>\n",
       "      <td>0.001</td>\n",
       "      <td>32.0</td>\n",
       "      <td>0.9</td>\n",
       "      <td>0.158131</td>\n",
       "      <td>0.946286</td>\n",
       "      <td>0.295682</td>\n",
       "      <td>0.921250</td>\n",
       "    </tr>\n",
       "    <tr>\n",
       "      <th>84</th>\n",
       "      <td>85.0</td>\n",
       "      <td>0.001</td>\n",
       "      <td>32.0</td>\n",
       "      <td>0.9</td>\n",
       "      <td>0.173892</td>\n",
       "      <td>0.942524</td>\n",
       "      <td>0.296005</td>\n",
       "      <td>0.921067</td>\n",
       "    </tr>\n",
       "    <tr>\n",
       "      <th>98</th>\n",
       "      <td>99.0</td>\n",
       "      <td>0.001</td>\n",
       "      <td>32.0</td>\n",
       "      <td>0.9</td>\n",
       "      <td>0.154705</td>\n",
       "      <td>0.948000</td>\n",
       "      <td>0.296077</td>\n",
       "      <td>0.920700</td>\n",
       "    </tr>\n",
       "    <tr>\n",
       "      <th>892</th>\n",
       "      <td>93.0</td>\n",
       "      <td>0.005</td>\n",
       "      <td>128.0</td>\n",
       "      <td>0.9</td>\n",
       "      <td>0.194962</td>\n",
       "      <td>0.933595</td>\n",
       "      <td>0.294110</td>\n",
       "      <td>0.920300</td>\n",
       "    </tr>\n",
       "  </tbody>\n",
       "</table>\n",
       "</div>"
      ],
      "text/plain": [
       "     steps  learning_rate  ...  val_loss  val_sparse_categorical_accuracy\n",
       "499  100.0          0.002  ...  0.257008                         0.934017\n",
       "897   98.0          0.005  ...  0.268814                         0.929767\n",
       "673   74.0          0.005  ...  0.258994                         0.928533\n",
       "599  100.0          0.002  ...  0.289028                         0.927033\n",
       "296   97.0          0.001  ...  0.288423                         0.923417\n",
       "390   91.0          0.002  ...  0.289128                         0.922817\n",
       "97    98.0          0.001  ...  0.295682                         0.921250\n",
       "84    85.0          0.001  ...  0.296005                         0.921067\n",
       "98    99.0          0.001  ...  0.296077                         0.920700\n",
       "892   93.0          0.005  ...  0.294110                         0.920300\n",
       "\n",
       "[10 rows x 8 columns]"
      ]
     },
     "execution_count": 35,
     "metadata": {
      "tags": []
     },
     "output_type": "execute_result"
    }
   ],
   "source": [
    "perf_df.sort_values(by=['val_sparse_categorical_accuracy','sparse_categorical_accuracy'],ascending=False).head(10)"
   ]
  },
  {
   "cell_type": "markdown",
   "metadata": {
    "colab_type": "text",
    "id": "oX5HShzf318A"
   },
   "source": [
    "As per above results, considering learning_rate=0.002 , batch_size=64 , moentum(beta_1) = 0.9 for further stages."
   ]
  },
  {
   "cell_type": "markdown",
   "metadata": {
    "colab_type": "text",
    "id": "KpHSdNyVif7G"
   },
   "source": [
    "#### Momentum:"
   ]
  },
  {
   "cell_type": "code",
   "execution_count": null,
   "metadata": {
    "colab": {
     "base_uri": "https://localhost:8080/",
     "height": 67
    },
    "colab_type": "code",
    "id": "m07fvMYi4m5j",
    "outputId": "cdd3ee55-584e-48a8-edb3-8205d7add68d"
   },
   "outputs": [
    {
     "name": "stdout",
     "output_type": "stream",
     "text": [
      "Execution completed for learning_rate:  0.002  , batch_size:  64.0  , momentum(beta_1):  0.85\n",
      "Execution completed for learning_rate:  0.002  , batch_size:  64.0  , momentum(beta_1):  0.95\n",
      "Execution completed for learning_rate:  0.002  , batch_size:  64.0  , momentum(beta_1):  0.98\n"
     ]
    }
   ],
   "source": [
    "# Lets tune momentum for learning_rate=0.002 and batch_size=64\n",
    "# Already results are obtained for beta_1=0.9. Hence trying for different values.\n",
    "learning_rate=list(perf_df.sort_values(by=['val_sparse_categorical_accuracy','sparse_categorical_accuracy'],ascending=False).head(1)['learning_rate'])\n",
    "batch_size=list(perf_df.sort_values(by=['val_sparse_categorical_accuracy','sparse_categorical_accuracy'],ascending=False).head(1)['batch_size'])\n",
    "momentum=[0.85,0.95,0.98]\n",
    "\n",
    "\n",
    "perf_df= pd.DataFrame({'steps':[],'learning_rate':[],'batch_size':[],'momentum':[],'loss':[],\n",
    "                      'sparse_categorical_accuracy':[],'val_loss':[],'val_sparse_categorical_accuracy':[]})\n",
    "for lr in learning_rate:\n",
    "    for bs in batch_size:\n",
    "        for m in momentum:\n",
    "            model,history=create_model(learning_rate=lr,beta_1=m)\n",
    "            h=pd.DataFrame(history.history)\n",
    "            d=pd.DataFrame({'learning_rate':[lr],'batch_size':[bs],'momentum':[m]})\n",
    "            d['key'] = 1\n",
    "            h['key'] = 1\n",
    "            data=pd.merge(d,h,on='key').drop('key',axis=1).reset_index()\n",
    "            data.rename(columns={'index':'steps'},inplace=True)\n",
    "            data['steps']=data['steps']+1\n",
    "            perf_df=pd.concat([perf_df,data],axis=0,ignore_index=True)\n",
    "            print(\"Execution completed for learning_rate: \",lr,\" , batch_size: \",bs,\" , momentum(beta_1): \", m)"
   ]
  },
  {
   "cell_type": "code",
   "execution_count": null,
   "metadata": {
    "colab": {
     "base_uri": "https://localhost:8080/",
     "height": 343
    },
    "colab_type": "code",
    "id": "yaMrKIs21-j9",
    "outputId": "b9b7001b-a638-4b62-a821-a44d463b8d0e"
   },
   "outputs": [
    {
     "data": {
      "text/html": [
       "<div>\n",
       "<style scoped>\n",
       "    .dataframe tbody tr th:only-of-type {\n",
       "        vertical-align: middle;\n",
       "    }\n",
       "\n",
       "    .dataframe tbody tr th {\n",
       "        vertical-align: top;\n",
       "    }\n",
       "\n",
       "    .dataframe thead th {\n",
       "        text-align: right;\n",
       "    }\n",
       "</style>\n",
       "<table border=\"1\" class=\"dataframe\">\n",
       "  <thead>\n",
       "    <tr style=\"text-align: right;\">\n",
       "      <th></th>\n",
       "      <th>steps</th>\n",
       "      <th>learning_rate</th>\n",
       "      <th>batch_size</th>\n",
       "      <th>momentum</th>\n",
       "      <th>loss</th>\n",
       "      <th>sparse_categorical_accuracy</th>\n",
       "      <th>val_loss</th>\n",
       "      <th>val_sparse_categorical_accuracy</th>\n",
       "    </tr>\n",
       "  </thead>\n",
       "  <tbody>\n",
       "    <tr>\n",
       "      <th>191</th>\n",
       "      <td>92.0</td>\n",
       "      <td>0.002</td>\n",
       "      <td>64.0</td>\n",
       "      <td>0.95</td>\n",
       "      <td>0.167504</td>\n",
       "      <td>0.943524</td>\n",
       "      <td>0.274400</td>\n",
       "      <td>0.929117</td>\n",
       "    </tr>\n",
       "    <tr>\n",
       "      <th>99</th>\n",
       "      <td>100.0</td>\n",
       "      <td>0.002</td>\n",
       "      <td>64.0</td>\n",
       "      <td>0.85</td>\n",
       "      <td>0.153072</td>\n",
       "      <td>0.947762</td>\n",
       "      <td>0.292198</td>\n",
       "      <td>0.925183</td>\n",
       "    </tr>\n",
       "    <tr>\n",
       "      <th>193</th>\n",
       "      <td>94.0</td>\n",
       "      <td>0.002</td>\n",
       "      <td>64.0</td>\n",
       "      <td>0.95</td>\n",
       "      <td>0.169059</td>\n",
       "      <td>0.943333</td>\n",
       "      <td>0.287263</td>\n",
       "      <td>0.923750</td>\n",
       "    </tr>\n",
       "    <tr>\n",
       "      <th>292</th>\n",
       "      <td>93.0</td>\n",
       "      <td>0.002</td>\n",
       "      <td>64.0</td>\n",
       "      <td>0.98</td>\n",
       "      <td>0.176972</td>\n",
       "      <td>0.940929</td>\n",
       "      <td>0.292958</td>\n",
       "      <td>0.922083</td>\n",
       "    </tr>\n",
       "    <tr>\n",
       "      <th>299</th>\n",
       "      <td>100.0</td>\n",
       "      <td>0.002</td>\n",
       "      <td>64.0</td>\n",
       "      <td>0.98</td>\n",
       "      <td>0.162414</td>\n",
       "      <td>0.945857</td>\n",
       "      <td>0.300745</td>\n",
       "      <td>0.921533</td>\n",
       "    </tr>\n",
       "    <tr>\n",
       "      <th>297</th>\n",
       "      <td>98.0</td>\n",
       "      <td>0.002</td>\n",
       "      <td>64.0</td>\n",
       "      <td>0.98</td>\n",
       "      <td>0.175898</td>\n",
       "      <td>0.940548</td>\n",
       "      <td>0.293890</td>\n",
       "      <td>0.921533</td>\n",
       "    </tr>\n",
       "    <tr>\n",
       "      <th>289</th>\n",
       "      <td>90.0</td>\n",
       "      <td>0.002</td>\n",
       "      <td>64.0</td>\n",
       "      <td>0.98</td>\n",
       "      <td>0.186950</td>\n",
       "      <td>0.937214</td>\n",
       "      <td>0.291736</td>\n",
       "      <td>0.919833</td>\n",
       "    </tr>\n",
       "    <tr>\n",
       "      <th>187</th>\n",
       "      <td>88.0</td>\n",
       "      <td>0.002</td>\n",
       "      <td>64.0</td>\n",
       "      <td>0.95</td>\n",
       "      <td>0.176809</td>\n",
       "      <td>0.941357</td>\n",
       "      <td>0.303663</td>\n",
       "      <td>0.919150</td>\n",
       "    </tr>\n",
       "    <tr>\n",
       "      <th>184</th>\n",
       "      <td>85.0</td>\n",
       "      <td>0.002</td>\n",
       "      <td>64.0</td>\n",
       "      <td>0.95</td>\n",
       "      <td>0.182695</td>\n",
       "      <td>0.938000</td>\n",
       "      <td>0.299449</td>\n",
       "      <td>0.919133</td>\n",
       "    </tr>\n",
       "    <tr>\n",
       "      <th>291</th>\n",
       "      <td>92.0</td>\n",
       "      <td>0.002</td>\n",
       "      <td>64.0</td>\n",
       "      <td>0.98</td>\n",
       "      <td>0.178437</td>\n",
       "      <td>0.939524</td>\n",
       "      <td>0.298823</td>\n",
       "      <td>0.918933</td>\n",
       "    </tr>\n",
       "  </tbody>\n",
       "</table>\n",
       "</div>"
      ],
      "text/plain": [
       "     steps  learning_rate  ...  val_loss  val_sparse_categorical_accuracy\n",
       "191   92.0          0.002  ...  0.274400                         0.929117\n",
       "99   100.0          0.002  ...  0.292198                         0.925183\n",
       "193   94.0          0.002  ...  0.287263                         0.923750\n",
       "292   93.0          0.002  ...  0.292958                         0.922083\n",
       "299  100.0          0.002  ...  0.300745                         0.921533\n",
       "297   98.0          0.002  ...  0.293890                         0.921533\n",
       "289   90.0          0.002  ...  0.291736                         0.919833\n",
       "187   88.0          0.002  ...  0.303663                         0.919150\n",
       "184   85.0          0.002  ...  0.299449                         0.919133\n",
       "291   92.0          0.002  ...  0.298823                         0.918933\n",
       "\n",
       "[10 rows x 8 columns]"
      ]
     },
     "execution_count": 37,
     "metadata": {
      "tags": []
     },
     "output_type": "execute_result"
    }
   ],
   "source": [
    "perf_df.sort_values(by=['val_sparse_categorical_accuracy','sparse_categorical_accuracy'],ascending=False).head(10)"
   ]
  },
  {
   "cell_type": "code",
   "execution_count": null,
   "metadata": {
    "colab": {},
    "colab_type": "code",
    "id": "-go94zf4oK8J"
   },
   "outputs": [],
   "source": [
    "# Storing tuned learning rate , batch_size and beta_1 values\n",
    "initial_learning_rate=float(perf_df.sort_values(by=['val_sparse_categorical_accuracy','sparse_categorical_accuracy'],ascending=False).head(1)['learning_rate'])\n",
    "batch_size=int(perf_df.sort_values(by=['val_sparse_categorical_accuracy','sparse_categorical_accuracy'],ascending=False).head(1)['batch_size'])\n",
    "beta_1=0.9"
   ]
  },
  {
   "cell_type": "markdown",
   "metadata": {
    "colab_type": "text",
    "id": "mOxDZpozoXft"
   },
   "source": [
    "Conclusion: beta_1 value of 0.9 is giving better results for validation data set. So hence proceeding with this in further steps."
   ]
  },
  {
   "cell_type": "markdown",
   "metadata": {
    "colab_type": "text",
    "id": "R2p7IZ2UnEcC"
   },
   "source": [
    "#### Learning rate decay:"
   ]
  },
  {
   "cell_type": "markdown",
   "metadata": {
    "colab_type": "text",
    "id": "gDVgy3synH9h"
   },
   "source": [
    "Strategy:\n",
    "\n",
    "Till now there has been no decay in learning rate and a fixed learning rate is used throughout the training. Lets change this "
   ]
  },
  {
   "cell_type": "code",
   "execution_count": 10,
   "metadata": {
    "colab": {},
    "colab_type": "code",
    "id": "ob8iTzTiPpRd"
   },
   "outputs": [],
   "source": [
    "STEPS_PER_EPOCH= X_train.shape[0]//batch_size\n",
    "learning_rate=InverseTimeDecay(initial_learning_rate=initial_learning_rate,decay_steps=STEPS_PER_EPOCH*5,decay_rate=0.1,staircase=False)"
   ]
  },
  {
   "cell_type": "code",
   "execution_count": null,
   "metadata": {
    "colab": {},
    "colab_type": "code",
    "id": "ZMMy-p-s2tER"
   },
   "outputs": [],
   "source": [
    "model,history=create_model(learning_rate=learning_rate, batch_size=batch_size, beta_1=beta_1,epochs=100)"
   ]
  },
  {
   "cell_type": "code",
   "execution_count": null,
   "metadata": {
    "colab": {
     "base_uri": "https://localhost:8080/",
     "height": 195
    },
    "colab_type": "code",
    "id": "COPFxGCHYhFf",
    "outputId": "4118f5b9-5571-4c2d-e05a-ecca5d36f983"
   },
   "outputs": [
    {
     "data": {
      "text/html": [
       "<div>\n",
       "<style scoped>\n",
       "    .dataframe tbody tr th:only-of-type {\n",
       "        vertical-align: middle;\n",
       "    }\n",
       "\n",
       "    .dataframe tbody tr th {\n",
       "        vertical-align: top;\n",
       "    }\n",
       "\n",
       "    .dataframe thead th {\n",
       "        text-align: right;\n",
       "    }\n",
       "</style>\n",
       "<table border=\"1\" class=\"dataframe\">\n",
       "  <thead>\n",
       "    <tr style=\"text-align: right;\">\n",
       "      <th></th>\n",
       "      <th>loss</th>\n",
       "      <th>sparse_categorical_accuracy</th>\n",
       "      <th>val_loss</th>\n",
       "      <th>val_sparse_categorical_accuracy</th>\n",
       "    </tr>\n",
       "  </thead>\n",
       "  <tbody>\n",
       "    <tr>\n",
       "      <th>99</th>\n",
       "      <td>0.051110</td>\n",
       "      <td>0.983048</td>\n",
       "      <td>0.320007</td>\n",
       "      <td>0.938117</td>\n",
       "    </tr>\n",
       "    <tr>\n",
       "      <th>97</th>\n",
       "      <td>0.058686</td>\n",
       "      <td>0.980048</td>\n",
       "      <td>0.315776</td>\n",
       "      <td>0.935917</td>\n",
       "    </tr>\n",
       "    <tr>\n",
       "      <th>81</th>\n",
       "      <td>0.071611</td>\n",
       "      <td>0.975952</td>\n",
       "      <td>0.302474</td>\n",
       "      <td>0.935283</td>\n",
       "    </tr>\n",
       "    <tr>\n",
       "      <th>77</th>\n",
       "      <td>0.071531</td>\n",
       "      <td>0.976476</td>\n",
       "      <td>0.316461</td>\n",
       "      <td>0.933017</td>\n",
       "    </tr>\n",
       "    <tr>\n",
       "      <th>79</th>\n",
       "      <td>0.074891</td>\n",
       "      <td>0.975000</td>\n",
       "      <td>0.337381</td>\n",
       "      <td>0.928900</td>\n",
       "    </tr>\n",
       "  </tbody>\n",
       "</table>\n",
       "</div>"
      ],
      "text/plain": [
       "        loss  ...  val_sparse_categorical_accuracy\n",
       "99  0.051110  ...                         0.938117\n",
       "97  0.058686  ...                         0.935917\n",
       "81  0.071611  ...                         0.935283\n",
       "77  0.071531  ...                         0.933017\n",
       "79  0.074891  ...                         0.928900\n",
       "\n",
       "[5 rows x 4 columns]"
      ]
     },
     "execution_count": 45,
     "metadata": {
      "tags": []
     },
     "output_type": "execute_result"
    }
   ],
   "source": [
    "pd.DataFrame(history.history).sort_values(by=['val_sparse_categorical_accuracy','sparse_categorical_accuracy'],ascending=False).head(5)"
   ]
  },
  {
   "cell_type": "markdown",
   "metadata": {
    "colab_type": "text",
    "id": "dxCFD-gbrI0l"
   },
   "source": [
    "Conclusion: By using learning rate decay, validation accuracy has increased a bit. Hence going with LR decay approach."
   ]
  },
  {
   "cell_type": "markdown",
   "metadata": {
    "colab_type": "text",
    "id": "3zYp53RJooma"
   },
   "source": [
    "#### Regularisation:\n"
   ]
  },
  {
   "cell_type": "markdown",
   "metadata": {
    "colab_type": "text",
    "id": "RueKx_D4ws_e"
   },
   "source": [
    "\n",
    "Lets introduce below regularisation techniques to avoid our model from overfitting:\n",
    "\n",
    "1. Dropout.\n",
    "2. L2 regulariser for each hidden layer."
   ]
  },
  {
   "cell_type": "markdown",
   "metadata": {
    "colab_type": "text",
    "id": "YOIBlIN4V1Iu"
   },
   "source": [
    "#### Dropout:"
   ]
  },
  {
   "cell_type": "code",
   "execution_count": null,
   "metadata": {
    "colab": {
     "base_uri": "https://localhost:8080/",
     "height": 118
    },
    "colab_type": "code",
    "id": "viSPUUlsWGWO",
    "outputId": "76193900-9c58-45db-b3a6-82142a1e7e8a"
   },
   "outputs": [
    {
     "name": "stdout",
     "output_type": "stream",
     "text": [
      "Execution completed for dropout bias:  0.0\n",
      "Execution completed for dropout bias:  0.05\n",
      "Execution completed for dropout bias:  0.1\n",
      "Execution completed for dropout bias:  0.15\n",
      "Execution completed for dropout bias:  0.2\n",
      "Execution completed for dropout bias:  0.25\n"
     ]
    }
   ],
   "source": [
    "# dropout_rate = dropout_bias + default_dropout_rate_for_that_layer (mentioned in func)\n",
    "dropout_bias=[0.0,0.05,0.1,0.15,0.2,0.25]\n",
    "\n",
    "perf_df= pd.DataFrame({'steps':[],'dropout_bias':[],'loss':[],\n",
    "                      'sparse_categorical_accuracy':[],'val_loss':[],'val_sparse_categorical_accuracy':[]})\n",
    "for db in dropout_bias:\n",
    "    model,history=create_model_dropout(learning_rate=learning_rate,beta_1=beta_1,batch_size=batch_size,epochs=100,dropout_bias=db)\n",
    "    h=pd.DataFrame(history.history)\n",
    "    d=pd.DataFrame({'dropout_bias':[db]})\n",
    "    d['key'] = 1\n",
    "    h['key'] = 1\n",
    "    data=pd.merge(d,h,on='key').drop('key',axis=1).reset_index()\n",
    "    data.rename(columns={'index':'steps'},inplace=True)\n",
    "    data['steps']=data['steps']+1\n",
    "    perf_df=pd.concat([perf_df,data],axis=0,ignore_index=True)\n",
    "    print(\"Execution completed for dropout bias: \",db)"
   ]
  },
  {
   "cell_type": "code",
   "execution_count": null,
   "metadata": {
    "colab": {
     "base_uri": "https://localhost:8080/",
     "height": 343
    },
    "colab_type": "code",
    "id": "Z57ZkLvuX7fw",
    "outputId": "762f5cc2-d897-4598-bdf8-d9f8a66c9368"
   },
   "outputs": [
    {
     "data": {
      "text/html": [
       "<div>\n",
       "<style scoped>\n",
       "    .dataframe tbody tr th:only-of-type {\n",
       "        vertical-align: middle;\n",
       "    }\n",
       "\n",
       "    .dataframe tbody tr th {\n",
       "        vertical-align: top;\n",
       "    }\n",
       "\n",
       "    .dataframe thead th {\n",
       "        text-align: right;\n",
       "    }\n",
       "</style>\n",
       "<table border=\"1\" class=\"dataframe\">\n",
       "  <thead>\n",
       "    <tr style=\"text-align: right;\">\n",
       "      <th></th>\n",
       "      <th>steps</th>\n",
       "      <th>dropout_bias</th>\n",
       "      <th>loss</th>\n",
       "      <th>sparse_categorical_accuracy</th>\n",
       "      <th>val_loss</th>\n",
       "      <th>val_sparse_categorical_accuracy</th>\n",
       "    </tr>\n",
       "  </thead>\n",
       "  <tbody>\n",
       "    <tr>\n",
       "      <th>95</th>\n",
       "      <td>96.0</td>\n",
       "      <td>0.00</td>\n",
       "      <td>0.180698</td>\n",
       "      <td>0.940405</td>\n",
       "      <td>0.218000</td>\n",
       "      <td>0.943700</td>\n",
       "    </tr>\n",
       "    <tr>\n",
       "      <th>99</th>\n",
       "      <td>100.0</td>\n",
       "      <td>0.00</td>\n",
       "      <td>0.175015</td>\n",
       "      <td>0.941476</td>\n",
       "      <td>0.230571</td>\n",
       "      <td>0.941483</td>\n",
       "    </tr>\n",
       "    <tr>\n",
       "      <th>92</th>\n",
       "      <td>93.0</td>\n",
       "      <td>0.00</td>\n",
       "      <td>0.190371</td>\n",
       "      <td>0.936190</td>\n",
       "      <td>0.230013</td>\n",
       "      <td>0.939233</td>\n",
       "    </tr>\n",
       "    <tr>\n",
       "      <th>97</th>\n",
       "      <td>98.0</td>\n",
       "      <td>0.00</td>\n",
       "      <td>0.186673</td>\n",
       "      <td>0.939333</td>\n",
       "      <td>0.236135</td>\n",
       "      <td>0.936967</td>\n",
       "    </tr>\n",
       "    <tr>\n",
       "      <th>90</th>\n",
       "      <td>91.0</td>\n",
       "      <td>0.00</td>\n",
       "      <td>0.189691</td>\n",
       "      <td>0.937381</td>\n",
       "      <td>0.230685</td>\n",
       "      <td>0.936967</td>\n",
       "    </tr>\n",
       "    <tr>\n",
       "      <th>94</th>\n",
       "      <td>95.0</td>\n",
       "      <td>0.00</td>\n",
       "      <td>0.187400</td>\n",
       "      <td>0.938095</td>\n",
       "      <td>0.244427</td>\n",
       "      <td>0.934233</td>\n",
       "    </tr>\n",
       "    <tr>\n",
       "      <th>88</th>\n",
       "      <td>89.0</td>\n",
       "      <td>0.00</td>\n",
       "      <td>0.190661</td>\n",
       "      <td>0.936452</td>\n",
       "      <td>0.243194</td>\n",
       "      <td>0.934167</td>\n",
       "    </tr>\n",
       "    <tr>\n",
       "      <th>198</th>\n",
       "      <td>99.0</td>\n",
       "      <td>0.05</td>\n",
       "      <td>0.254287</td>\n",
       "      <td>0.917810</td>\n",
       "      <td>0.236771</td>\n",
       "      <td>0.932883</td>\n",
       "    </tr>\n",
       "    <tr>\n",
       "      <th>195</th>\n",
       "      <td>96.0</td>\n",
       "      <td>0.05</td>\n",
       "      <td>0.259195</td>\n",
       "      <td>0.915357</td>\n",
       "      <td>0.243388</td>\n",
       "      <td>0.932050</td>\n",
       "    </tr>\n",
       "    <tr>\n",
       "      <th>91</th>\n",
       "      <td>92.0</td>\n",
       "      <td>0.00</td>\n",
       "      <td>0.191676</td>\n",
       "      <td>0.935929</td>\n",
       "      <td>0.248280</td>\n",
       "      <td>0.931800</td>\n",
       "    </tr>\n",
       "  </tbody>\n",
       "</table>\n",
       "</div>"
      ],
      "text/plain": [
       "     steps  dropout_bias  ...  val_loss  val_sparse_categorical_accuracy\n",
       "95    96.0          0.00  ...  0.218000                         0.943700\n",
       "99   100.0          0.00  ...  0.230571                         0.941483\n",
       "92    93.0          0.00  ...  0.230013                         0.939233\n",
       "97    98.0          0.00  ...  0.236135                         0.936967\n",
       "90    91.0          0.00  ...  0.230685                         0.936967\n",
       "94    95.0          0.00  ...  0.244427                         0.934233\n",
       "88    89.0          0.00  ...  0.243194                         0.934167\n",
       "198   99.0          0.05  ...  0.236771                         0.932883\n",
       "195   96.0          0.05  ...  0.243388                         0.932050\n",
       "91    92.0          0.00  ...  0.248280                         0.931800\n",
       "\n",
       "[10 rows x 6 columns]"
      ]
     },
     "execution_count": 21,
     "metadata": {
      "tags": []
     },
     "output_type": "execute_result"
    }
   ],
   "source": [
    "perf_df.sort_values(by=['val_sparse_categorical_accuracy','sparse_categorical_accuracy'],ascending=False).head(10)"
   ]
  },
  {
   "cell_type": "code",
   "execution_count": null,
   "metadata": {
    "colab": {},
    "colab_type": "code",
    "id": "fsC6QSSpjMCP"
   },
   "outputs": [],
   "source": [
    "# storing tuned dropout_bias\n",
    "dropout_bias=float(perf_df.sort_values(by=['val_sparse_categorical_accuracy','sparse_categorical_accuracy'],ascending=False).head(1)['dropout_bias'])"
   ]
  },
  {
   "cell_type": "markdown",
   "metadata": {
    "colab_type": "text",
    "id": "-xWuME52if8U"
   },
   "source": [
    "By introducing dropout rate as below lead to reduce in overfitting and also increase in validation dataset accuracy.\n",
    "\n",
    "1. Hidden layer 1 & 2 : 0.1\n",
    "2. Hidden layer 3 & 4 : 0.05\n",
    "3. No Dropout in rest other layers"
   ]
  },
  {
   "cell_type": "markdown",
   "metadata": {
    "colab_type": "text",
    "id": "OV2nI2HqbzEu"
   },
   "source": [
    "#### L2 Regularisation:"
   ]
  },
  {
   "cell_type": "code",
   "execution_count": null,
   "metadata": {
    "colab": {
     "base_uri": "https://localhost:8080/",
     "height": 84
    },
    "colab_type": "code",
    "id": "3P-Lk7-r1gCU",
    "outputId": "ca3c7588-ff3a-4ea0-817f-30394d2a46b3"
   },
   "outputs": [
    {
     "name": "stdout",
     "output_type": "stream",
     "text": [
      "Execution completed for l2_reg:  0.0001\n",
      "Execution completed for l2_reg:  0.0005\n",
      "Execution completed for l2_reg:  0.001\n",
      "Execution completed for l2_reg:  0.002\n"
     ]
    }
   ],
   "source": [
    "l2_reg=[0.0001,0.0005,0.001,0.002]\n",
    "\n",
    "perf_df= pd.DataFrame({'steps':[],'l2_reg':[],'loss':[],\n",
    "                      'sparse_categorical_accuracy':[],'val_loss':[],'val_sparse_categorical_accuracy':[]})\n",
    "for l2 in l2_reg:\n",
    "    model,history=create_model_dropout(learning_rate=learning_rate,beta_1=beta_1,batch_size=batch_size,epochs=100,kernel_regularizer=l2,dropout_bias=dropout_bias)\n",
    "    h=pd.DataFrame(history.history)\n",
    "    d=pd.DataFrame({'l2_reg':[l2]})\n",
    "    d['key'] = 1\n",
    "    h['key'] = 1\n",
    "    data=pd.merge(d,h,on='key').drop('key',axis=1).reset_index()\n",
    "    data.rename(columns={'index':'steps'},inplace=True)\n",
    "    data['steps']=data['steps']+1\n",
    "    perf_df=pd.concat([perf_df,data],axis=0,ignore_index=True)\n",
    "    print(\"Execution completed for l2_reg: \",l2)"
   ]
  },
  {
   "cell_type": "code",
   "execution_count": null,
   "metadata": {
    "colab": {
     "base_uri": "https://localhost:8080/",
     "height": 343
    },
    "colab_type": "code",
    "id": "dxf2VTj9xsfD",
    "outputId": "272a291f-4752-4666-b2d5-e0521b05ee4c",
    "scrolled": true
   },
   "outputs": [
    {
     "data": {
      "text/html": [
       "<div>\n",
       "<style scoped>\n",
       "    .dataframe tbody tr th:only-of-type {\n",
       "        vertical-align: middle;\n",
       "    }\n",
       "\n",
       "    .dataframe tbody tr th {\n",
       "        vertical-align: top;\n",
       "    }\n",
       "\n",
       "    .dataframe thead th {\n",
       "        text-align: right;\n",
       "    }\n",
       "</style>\n",
       "<table border=\"1\" class=\"dataframe\">\n",
       "  <thead>\n",
       "    <tr style=\"text-align: right;\">\n",
       "      <th></th>\n",
       "      <th>steps</th>\n",
       "      <th>l2_reg</th>\n",
       "      <th>loss</th>\n",
       "      <th>sparse_categorical_accuracy</th>\n",
       "      <th>val_loss</th>\n",
       "      <th>val_sparse_categorical_accuracy</th>\n",
       "    </tr>\n",
       "  </thead>\n",
       "  <tbody>\n",
       "    <tr>\n",
       "      <th>94</th>\n",
       "      <td>95.0</td>\n",
       "      <td>0.0001</td>\n",
       "      <td>0.569090</td>\n",
       "      <td>0.863738</td>\n",
       "      <td>0.554686</td>\n",
       "      <td>0.871233</td>\n",
       "    </tr>\n",
       "    <tr>\n",
       "      <th>96</th>\n",
       "      <td>97.0</td>\n",
       "      <td>0.0001</td>\n",
       "      <td>0.562079</td>\n",
       "      <td>0.864167</td>\n",
       "      <td>0.555349</td>\n",
       "      <td>0.870183</td>\n",
       "    </tr>\n",
       "    <tr>\n",
       "      <th>99</th>\n",
       "      <td>100.0</td>\n",
       "      <td>0.0001</td>\n",
       "      <td>0.552955</td>\n",
       "      <td>0.868786</td>\n",
       "      <td>0.570284</td>\n",
       "      <td>0.864783</td>\n",
       "    </tr>\n",
       "    <tr>\n",
       "      <th>93</th>\n",
       "      <td>94.0</td>\n",
       "      <td>0.0001</td>\n",
       "      <td>0.570003</td>\n",
       "      <td>0.864143</td>\n",
       "      <td>0.588269</td>\n",
       "      <td>0.857867</td>\n",
       "    </tr>\n",
       "    <tr>\n",
       "      <th>97</th>\n",
       "      <td>98.0</td>\n",
       "      <td>0.0001</td>\n",
       "      <td>0.557502</td>\n",
       "      <td>0.865310</td>\n",
       "      <td>0.600918</td>\n",
       "      <td>0.855417</td>\n",
       "    </tr>\n",
       "    <tr>\n",
       "      <th>72</th>\n",
       "      <td>73.0</td>\n",
       "      <td>0.0001</td>\n",
       "      <td>0.613765</td>\n",
       "      <td>0.852167</td>\n",
       "      <td>0.620101</td>\n",
       "      <td>0.852217</td>\n",
       "    </tr>\n",
       "    <tr>\n",
       "      <th>86</th>\n",
       "      <td>87.0</td>\n",
       "      <td>0.0001</td>\n",
       "      <td>0.574311</td>\n",
       "      <td>0.863310</td>\n",
       "      <td>0.614555</td>\n",
       "      <td>0.851733</td>\n",
       "    </tr>\n",
       "    <tr>\n",
       "      <th>67</th>\n",
       "      <td>68.0</td>\n",
       "      <td>0.0001</td>\n",
       "      <td>0.622043</td>\n",
       "      <td>0.850524</td>\n",
       "      <td>0.623140</td>\n",
       "      <td>0.850967</td>\n",
       "    </tr>\n",
       "    <tr>\n",
       "      <th>70</th>\n",
       "      <td>71.0</td>\n",
       "      <td>0.0001</td>\n",
       "      <td>0.614952</td>\n",
       "      <td>0.852119</td>\n",
       "      <td>0.640288</td>\n",
       "      <td>0.846850</td>\n",
       "    </tr>\n",
       "    <tr>\n",
       "      <th>80</th>\n",
       "      <td>81.0</td>\n",
       "      <td>0.0001</td>\n",
       "      <td>0.591447</td>\n",
       "      <td>0.859000</td>\n",
       "      <td>0.630858</td>\n",
       "      <td>0.845383</td>\n",
       "    </tr>\n",
       "  </tbody>\n",
       "</table>\n",
       "</div>"
      ],
      "text/plain": [
       "    steps  l2_reg  ...  val_loss  val_sparse_categorical_accuracy\n",
       "94   95.0  0.0001  ...  0.554686                         0.871233\n",
       "96   97.0  0.0001  ...  0.555349                         0.870183\n",
       "99  100.0  0.0001  ...  0.570284                         0.864783\n",
       "93   94.0  0.0001  ...  0.588269                         0.857867\n",
       "97   98.0  0.0001  ...  0.600918                         0.855417\n",
       "72   73.0  0.0001  ...  0.620101                         0.852217\n",
       "86   87.0  0.0001  ...  0.614555                         0.851733\n",
       "67   68.0  0.0001  ...  0.623140                         0.850967\n",
       "70   71.0  0.0001  ...  0.640288                         0.846850\n",
       "80   81.0  0.0001  ...  0.630858                         0.845383\n",
       "\n",
       "[10 rows x 6 columns]"
      ]
     },
     "execution_count": 25,
     "metadata": {
      "tags": []
     },
     "output_type": "execute_result"
    }
   ],
   "source": [
    "perf_df.sort_values(by=['val_sparse_categorical_accuracy','sparse_categorical_accuracy'],ascending=False).head(10)"
   ]
  },
  {
   "cell_type": "markdown",
   "metadata": {
    "colab_type": "text",
    "id": "89uicssFif8p"
   },
   "source": [
    "Introducing L2 Regularisation has reduced the accuracy of validation dataset further lower. Hence not considering Regularization in the final model. So it means that only Dropout regularization technique alone is implemented."
   ]
  },
  {
   "cell_type": "markdown",
   "metadata": {
    "colab_type": "text",
    "id": "jYOkFR-2if8q"
   },
   "source": [
    "#### Epochs and Early Stopping:"
   ]
  },
  {
   "cell_type": "code",
   "execution_count": 36,
   "metadata": {
    "colab": {
     "base_uri": "https://localhost:8080/",
     "height": 50
    },
    "colab_type": "code",
    "id": "RzT5i4pBqX0S",
    "outputId": "e14d88d9-0cdf-4d29-fc06-5456bdc41074"
   },
   "outputs": [
    {
     "name": "stdout",
     "output_type": "stream",
     "text": [
      "Restoring model weights from the end of the best epoch.\n",
      "Epoch 00201: early stopping\n"
     ]
    }
   ],
   "source": [
    "# Allowing the model to run for higher no. of epochs (400 in this case) and stopping the model incase if there is no improvements in model performance by using early stopping\n",
    "model=create_model_dropout(return_only_model=True,learning_rate=learning_rate,beta_1=beta_1,batch_size=batch_size,epochs=400,kernel_regularizer=0,dropout_bias=dropout_bias)\n",
    "\n",
    "# patient early stopping and setting restore_best_weights=True allows to get back the model with best weights even with patience attribute setting\n",
    "early_stopping = EarlyStopping(monitor='val_loss', mode='min', verbose=1, patience=40, restore_best_weights=True)\n",
    "history=model.fit(x=X_train,y=y_train,batch_size=batch_size,epochs=400,validation_data=(X_val,y_val) ,verbose=0, callbacks=[early_stopping])\n",
    "\n",
    "# Saving the model. So it can be retrieved later on and used directly\n",
    "model.save('/content/drive/My Drive/final_model.h5')"
   ]
  },
  {
   "cell_type": "code",
   "execution_count": 41,
   "metadata": {
    "colab": {
     "base_uri": "https://localhost:8080/",
     "height": 1000
    },
    "colab_type": "code",
    "id": "ZvZ6IIMR4-_-",
    "outputId": "5b4572fb-7b09-41bb-c4e4-14a510c2fac0",
    "scrolled": true
   },
   "outputs": [
    {
     "data": {
      "text/html": [
       "<div>\n",
       "<style scoped>\n",
       "    .dataframe tbody tr th:only-of-type {\n",
       "        vertical-align: middle;\n",
       "    }\n",
       "\n",
       "    .dataframe tbody tr th {\n",
       "        vertical-align: top;\n",
       "    }\n",
       "\n",
       "    .dataframe thead th {\n",
       "        text-align: right;\n",
       "    }\n",
       "</style>\n",
       "<table border=\"1\" class=\"dataframe\">\n",
       "  <thead>\n",
       "    <tr style=\"text-align: right;\">\n",
       "      <th></th>\n",
       "      <th>loss</th>\n",
       "      <th>sparse_categorical_accuracy</th>\n",
       "      <th>val_loss</th>\n",
       "      <th>val_sparse_categorical_accuracy</th>\n",
       "    </tr>\n",
       "  </thead>\n",
       "  <tbody>\n",
       "    <tr>\n",
       "      <th>193</th>\n",
       "      <td>0.108012</td>\n",
       "      <td>0.963238</td>\n",
       "      <td>0.197465</td>\n",
       "      <td>0.958600</td>\n",
       "    </tr>\n",
       "    <tr>\n",
       "      <th>195</th>\n",
       "      <td>0.105705</td>\n",
       "      <td>0.964500</td>\n",
       "      <td>0.200827</td>\n",
       "      <td>0.958517</td>\n",
       "    </tr>\n",
       "    <tr>\n",
       "      <th>177</th>\n",
       "      <td>0.112352</td>\n",
       "      <td>0.962286</td>\n",
       "      <td>0.193475</td>\n",
       "      <td>0.957933</td>\n",
       "    </tr>\n",
       "    <tr>\n",
       "      <th>200</th>\n",
       "      <td>0.105086</td>\n",
       "      <td>0.965238</td>\n",
       "      <td>0.202585</td>\n",
       "      <td>0.957900</td>\n",
       "    </tr>\n",
       "    <tr>\n",
       "      <th>196</th>\n",
       "      <td>0.106549</td>\n",
       "      <td>0.963667</td>\n",
       "      <td>0.203233</td>\n",
       "      <td>0.957617</td>\n",
       "    </tr>\n",
       "    <tr>\n",
       "      <th>198</th>\n",
       "      <td>0.108132</td>\n",
       "      <td>0.964286</td>\n",
       "      <td>0.198644</td>\n",
       "      <td>0.957583</td>\n",
       "    </tr>\n",
       "    <tr>\n",
       "      <th>190</th>\n",
       "      <td>0.109520</td>\n",
       "      <td>0.962643</td>\n",
       "      <td>0.201675</td>\n",
       "      <td>0.957000</td>\n",
       "    </tr>\n",
       "    <tr>\n",
       "      <th>178</th>\n",
       "      <td>0.115480</td>\n",
       "      <td>0.961452</td>\n",
       "      <td>0.197594</td>\n",
       "      <td>0.956783</td>\n",
       "    </tr>\n",
       "    <tr>\n",
       "      <th>160</th>\n",
       "      <td>0.124561</td>\n",
       "      <td>0.959452</td>\n",
       "      <td>0.192683</td>\n",
       "      <td>0.956767</td>\n",
       "    </tr>\n",
       "    <tr>\n",
       "      <th>189</th>\n",
       "      <td>0.109343</td>\n",
       "      <td>0.963452</td>\n",
       "      <td>0.206234</td>\n",
       "      <td>0.956600</td>\n",
       "    </tr>\n",
       "    <tr>\n",
       "      <th>197</th>\n",
       "      <td>0.107887</td>\n",
       "      <td>0.962333</td>\n",
       "      <td>0.204269</td>\n",
       "      <td>0.956550</td>\n",
       "    </tr>\n",
       "    <tr>\n",
       "      <th>199</th>\n",
       "      <td>0.099728</td>\n",
       "      <td>0.965952</td>\n",
       "      <td>0.203184</td>\n",
       "      <td>0.956500</td>\n",
       "    </tr>\n",
       "    <tr>\n",
       "      <th>192</th>\n",
       "      <td>0.103162</td>\n",
       "      <td>0.964786</td>\n",
       "      <td>0.202703</td>\n",
       "      <td>0.956317</td>\n",
       "    </tr>\n",
       "    <tr>\n",
       "      <th>171</th>\n",
       "      <td>0.117810</td>\n",
       "      <td>0.960381</td>\n",
       "      <td>0.200594</td>\n",
       "      <td>0.955983</td>\n",
       "    </tr>\n",
       "    <tr>\n",
       "      <th>194</th>\n",
       "      <td>0.107496</td>\n",
       "      <td>0.964286</td>\n",
       "      <td>0.207648</td>\n",
       "      <td>0.955167</td>\n",
       "    </tr>\n",
       "    <tr>\n",
       "      <th>187</th>\n",
       "      <td>0.113056</td>\n",
       "      <td>0.961810</td>\n",
       "      <td>0.203891</td>\n",
       "      <td>0.954950</td>\n",
       "    </tr>\n",
       "    <tr>\n",
       "      <th>191</th>\n",
       "      <td>0.106099</td>\n",
       "      <td>0.963476</td>\n",
       "      <td>0.204979</td>\n",
       "      <td>0.954750</td>\n",
       "    </tr>\n",
       "    <tr>\n",
       "      <th>182</th>\n",
       "      <td>0.116629</td>\n",
       "      <td>0.959857</td>\n",
       "      <td>0.209646</td>\n",
       "      <td>0.954750</td>\n",
       "    </tr>\n",
       "    <tr>\n",
       "      <th>173</th>\n",
       "      <td>0.119968</td>\n",
       "      <td>0.958786</td>\n",
       "      <td>0.204243</td>\n",
       "      <td>0.954683</td>\n",
       "    </tr>\n",
       "    <tr>\n",
       "      <th>186</th>\n",
       "      <td>0.112776</td>\n",
       "      <td>0.962738</td>\n",
       "      <td>0.209391</td>\n",
       "      <td>0.954367</td>\n",
       "    </tr>\n",
       "    <tr>\n",
       "      <th>164</th>\n",
       "      <td>0.127040</td>\n",
       "      <td>0.957381</td>\n",
       "      <td>0.205083</td>\n",
       "      <td>0.954367</td>\n",
       "    </tr>\n",
       "    <tr>\n",
       "      <th>175</th>\n",
       "      <td>0.116665</td>\n",
       "      <td>0.959929</td>\n",
       "      <td>0.208339</td>\n",
       "      <td>0.954250</td>\n",
       "    </tr>\n",
       "    <tr>\n",
       "      <th>152</th>\n",
       "      <td>0.134358</td>\n",
       "      <td>0.955333</td>\n",
       "      <td>0.198816</td>\n",
       "      <td>0.954150</td>\n",
       "    </tr>\n",
       "    <tr>\n",
       "      <th>157</th>\n",
       "      <td>0.124611</td>\n",
       "      <td>0.958333</td>\n",
       "      <td>0.204610</td>\n",
       "      <td>0.954133</td>\n",
       "    </tr>\n",
       "    <tr>\n",
       "      <th>156</th>\n",
       "      <td>0.123576</td>\n",
       "      <td>0.957929</td>\n",
       "      <td>0.204277</td>\n",
       "      <td>0.953983</td>\n",
       "    </tr>\n",
       "    <tr>\n",
       "      <th>185</th>\n",
       "      <td>0.108394</td>\n",
       "      <td>0.964524</td>\n",
       "      <td>0.211728</td>\n",
       "      <td>0.953967</td>\n",
       "    </tr>\n",
       "    <tr>\n",
       "      <th>176</th>\n",
       "      <td>0.113321</td>\n",
       "      <td>0.962905</td>\n",
       "      <td>0.208116</td>\n",
       "      <td>0.953650</td>\n",
       "    </tr>\n",
       "    <tr>\n",
       "      <th>170</th>\n",
       "      <td>0.121704</td>\n",
       "      <td>0.959048</td>\n",
       "      <td>0.205256</td>\n",
       "      <td>0.953650</td>\n",
       "    </tr>\n",
       "    <tr>\n",
       "      <th>151</th>\n",
       "      <td>0.133725</td>\n",
       "      <td>0.954786</td>\n",
       "      <td>0.203555</td>\n",
       "      <td>0.953317</td>\n",
       "    </tr>\n",
       "    <tr>\n",
       "      <th>183</th>\n",
       "      <td>0.115859</td>\n",
       "      <td>0.960976</td>\n",
       "      <td>0.207898</td>\n",
       "      <td>0.953050</td>\n",
       "    </tr>\n",
       "    <tr>\n",
       "      <th>143</th>\n",
       "      <td>0.131432</td>\n",
       "      <td>0.955857</td>\n",
       "      <td>0.203099</td>\n",
       "      <td>0.953033</td>\n",
       "    </tr>\n",
       "    <tr>\n",
       "      <th>180</th>\n",
       "      <td>0.109719</td>\n",
       "      <td>0.962548</td>\n",
       "      <td>0.212061</td>\n",
       "      <td>0.952950</td>\n",
       "    </tr>\n",
       "    <tr>\n",
       "      <th>161</th>\n",
       "      <td>0.120484</td>\n",
       "      <td>0.959619</td>\n",
       "      <td>0.210474</td>\n",
       "      <td>0.952533</td>\n",
       "    </tr>\n",
       "    <tr>\n",
       "      <th>184</th>\n",
       "      <td>0.112408</td>\n",
       "      <td>0.961929</td>\n",
       "      <td>0.215057</td>\n",
       "      <td>0.952433</td>\n",
       "    </tr>\n",
       "    <tr>\n",
       "      <th>188</th>\n",
       "      <td>0.113128</td>\n",
       "      <td>0.961714</td>\n",
       "      <td>0.211763</td>\n",
       "      <td>0.952300</td>\n",
       "    </tr>\n",
       "    <tr>\n",
       "      <th>166</th>\n",
       "      <td>0.118088</td>\n",
       "      <td>0.961024</td>\n",
       "      <td>0.211172</td>\n",
       "      <td>0.952067</td>\n",
       "    </tr>\n",
       "    <tr>\n",
       "      <th>146</th>\n",
       "      <td>0.127815</td>\n",
       "      <td>0.956952</td>\n",
       "      <td>0.212411</td>\n",
       "      <td>0.952050</td>\n",
       "    </tr>\n",
       "    <tr>\n",
       "      <th>136</th>\n",
       "      <td>0.147359</td>\n",
       "      <td>0.950095</td>\n",
       "      <td>0.204957</td>\n",
       "      <td>0.951967</td>\n",
       "    </tr>\n",
       "    <tr>\n",
       "      <th>168</th>\n",
       "      <td>0.116790</td>\n",
       "      <td>0.961429</td>\n",
       "      <td>0.211242</td>\n",
       "      <td>0.951817</td>\n",
       "    </tr>\n",
       "    <tr>\n",
       "      <th>145</th>\n",
       "      <td>0.135144</td>\n",
       "      <td>0.954310</td>\n",
       "      <td>0.207294</td>\n",
       "      <td>0.951800</td>\n",
       "    </tr>\n",
       "  </tbody>\n",
       "</table>\n",
       "</div>"
      ],
      "text/plain": [
       "         loss  ...  val_sparse_categorical_accuracy\n",
       "193  0.108012  ...                         0.958600\n",
       "195  0.105705  ...                         0.958517\n",
       "177  0.112352  ...                         0.957933\n",
       "200  0.105086  ...                         0.957900\n",
       "196  0.106549  ...                         0.957617\n",
       "198  0.108132  ...                         0.957583\n",
       "190  0.109520  ...                         0.957000\n",
       "178  0.115480  ...                         0.956783\n",
       "160  0.124561  ...                         0.956767\n",
       "189  0.109343  ...                         0.956600\n",
       "197  0.107887  ...                         0.956550\n",
       "199  0.099728  ...                         0.956500\n",
       "192  0.103162  ...                         0.956317\n",
       "171  0.117810  ...                         0.955983\n",
       "194  0.107496  ...                         0.955167\n",
       "187  0.113056  ...                         0.954950\n",
       "191  0.106099  ...                         0.954750\n",
       "182  0.116629  ...                         0.954750\n",
       "173  0.119968  ...                         0.954683\n",
       "186  0.112776  ...                         0.954367\n",
       "164  0.127040  ...                         0.954367\n",
       "175  0.116665  ...                         0.954250\n",
       "152  0.134358  ...                         0.954150\n",
       "157  0.124611  ...                         0.954133\n",
       "156  0.123576  ...                         0.953983\n",
       "185  0.108394  ...                         0.953967\n",
       "176  0.113321  ...                         0.953650\n",
       "170  0.121704  ...                         0.953650\n",
       "151  0.133725  ...                         0.953317\n",
       "183  0.115859  ...                         0.953050\n",
       "143  0.131432  ...                         0.953033\n",
       "180  0.109719  ...                         0.952950\n",
       "161  0.120484  ...                         0.952533\n",
       "184  0.112408  ...                         0.952433\n",
       "188  0.113128  ...                         0.952300\n",
       "166  0.118088  ...                         0.952067\n",
       "146  0.127815  ...                         0.952050\n",
       "136  0.147359  ...                         0.951967\n",
       "168  0.116790  ...                         0.951817\n",
       "145  0.135144  ...                         0.951800\n",
       "\n",
       "[40 rows x 4 columns]"
      ]
     },
     "execution_count": 41,
     "metadata": {
      "tags": []
     },
     "output_type": "execute_result"
    }
   ],
   "source": [
    "pd.DataFrame(history.history).sort_values(by=['val_sparse_categorical_accuracy','sparse_categorical_accuracy'],ascending=False).head(40)"
   ]
  },
  {
   "cell_type": "code",
   "execution_count": 39,
   "metadata": {
    "colab": {
     "base_uri": "https://localhost:8080/",
     "height": 279
    },
    "colab_type": "code",
    "id": "GH1hjCFTm3T2",
    "outputId": "d3c71c42-2e10-4aaf-8dd7-80694c4b05d8"
   },
   "outputs": [
    {
     "data": {
      "image/png": "[encoded data removed]",
      "text/plain": [
       "<Figure size 432x288 with 1 Axes>"
      ]
     },
     "metadata": {
      "needs_background": "light",
      "tags": []
     },
     "output_type": "display_data"
    }
   ],
   "source": [
    "plt.plot(history.history['loss'], label='train')\n",
    "plt.plot(history.history['val_loss'], label='test')\n",
    "plt.xlabel('epochs')\n",
    "plt.ylabel('loss')\n",
    "plt.legend()\n",
    "plt.show()"
   ]
  },
  {
   "cell_type": "markdown",
   "metadata": {
    "colab_type": "text",
    "id": "7GuRcSgnif81"
   },
   "source": [
    "As per above, its clear that both validation and train dataset accuracy increased further by training the model to higher epochs and using early stopping."
   ]
  },
  {
   "cell_type": "markdown",
   "metadata": {
    "colab_type": "text",
    "id": "dl4laVPZif82"
   },
   "source": [
    "### 6. Print the classification accuracy metrics (10 points)"
   ]
  },
  {
   "cell_type": "code",
   "execution_count": 40,
   "metadata": {
    "colab": {
     "base_uri": "https://localhost:8080/",
     "height": 50
    },
    "colab_type": "code",
    "id": "3B_Ik4PCBmDr",
    "outputId": "8f3f21fc-4c16-48cd-d9e9-532d5b8faf33"
   },
   "outputs": [
    {
     "name": "stdout",
     "output_type": "stream",
     "text": [
      "563/563 [==============================] - 1s 2ms/step - loss: 0.5742 - sparse_categorical_accuracy: 0.8756\n"
     ]
    },
    {
     "data": {
      "text/plain": [
       "[0.5741923451423645, 0.8756111264228821]"
      ]
     },
     "execution_count": 40,
     "metadata": {
      "tags": []
     },
     "output_type": "execute_result"
    }
   ],
   "source": [
    "# Evaluating the model performance on test data\n",
    "model.evaluate(\n",
    "    x=X_test, y=y_test, batch_size=None, verbose=1, sample_weight=None, steps=None,\n",
    "    callbacks=None, max_queue_size=10, workers=1, use_multiprocessing=False,\n",
    "    return_dict=False\n",
    ")"
   ]
  },
  {
   "cell_type": "code",
   "execution_count": 44,
   "metadata": {
    "colab": {},
    "colab_type": "code",
    "id": "FYko4adyDuDC"
   },
   "outputs": [],
   "source": [
    "from sklearn.metrics import classification_report,confusion_matrix"
   ]
  },
  {
   "cell_type": "code",
   "execution_count": 45,
   "metadata": {
    "colab": {},
    "colab_type": "code",
    "id": "-s8oW75oD4a9"
   },
   "outputs": [],
   "source": [
    "# Getting the predictions for test set\n",
    "ytest_pred=np.argmax(model.predict(X_test),axis=-1)"
   ]
  },
  {
   "cell_type": "code",
   "execution_count": 46,
   "metadata": {
    "colab": {},
    "colab_type": "code",
    "id": "2JbrBWajaubQ"
   },
   "outputs": [],
   "source": [
    "# Loading the model, incase if below activities are done later-on. \n",
    "# If everything is done at a stretch then this step is not needed.\n",
    "model=load_model('/content/drive/My Drive/final_model.h5')"
   ]
  },
  {
   "cell_type": "code",
   "execution_count": 47,
   "metadata": {
    "colab": {
     "base_uri": "https://localhost:8080/",
     "height": 343
    },
    "colab_type": "code",
    "id": "HNCc-bNUEA3z",
    "outputId": "e25037b9-98a7-4d12-87fb-11594f52c458"
   },
   "outputs": [
    {
     "data": {
      "text/html": [
       "<div>\n",
       "<style scoped>\n",
       "    .dataframe tbody tr th:only-of-type {\n",
       "        vertical-align: middle;\n",
       "    }\n",
       "\n",
       "    .dataframe tbody tr th {\n",
       "        vertical-align: top;\n",
       "    }\n",
       "\n",
       "    .dataframe thead th {\n",
       "        text-align: right;\n",
       "    }\n",
       "</style>\n",
       "<table border=\"1\" class=\"dataframe\">\n",
       "  <thead>\n",
       "    <tr style=\"text-align: right;\">\n",
       "      <th></th>\n",
       "      <th>Predict 0</th>\n",
       "      <th>Predict 1</th>\n",
       "      <th>Predict 2</th>\n",
       "      <th>Predict 3</th>\n",
       "      <th>Predict 4</th>\n",
       "      <th>Predict 5</th>\n",
       "      <th>Predict 6</th>\n",
       "      <th>Predict 7</th>\n",
       "      <th>Predict 8</th>\n",
       "      <th>Predict 9</th>\n",
       "    </tr>\n",
       "  </thead>\n",
       "  <tbody>\n",
       "    <tr>\n",
       "      <th>Actual 0</th>\n",
       "      <td>1649</td>\n",
       "      <td>28</td>\n",
       "      <td>16</td>\n",
       "      <td>13</td>\n",
       "      <td>12</td>\n",
       "      <td>8</td>\n",
       "      <td>16</td>\n",
       "      <td>22</td>\n",
       "      <td>14</td>\n",
       "      <td>36</td>\n",
       "    </tr>\n",
       "    <tr>\n",
       "      <th>Actual 1</th>\n",
       "      <td>23</td>\n",
       "      <td>1651</td>\n",
       "      <td>16</td>\n",
       "      <td>21</td>\n",
       "      <td>36</td>\n",
       "      <td>7</td>\n",
       "      <td>13</td>\n",
       "      <td>37</td>\n",
       "      <td>17</td>\n",
       "      <td>7</td>\n",
       "    </tr>\n",
       "    <tr>\n",
       "      <th>Actual 2</th>\n",
       "      <td>16</td>\n",
       "      <td>20</td>\n",
       "      <td>1603</td>\n",
       "      <td>25</td>\n",
       "      <td>18</td>\n",
       "      <td>9</td>\n",
       "      <td>6</td>\n",
       "      <td>51</td>\n",
       "      <td>25</td>\n",
       "      <td>30</td>\n",
       "    </tr>\n",
       "    <tr>\n",
       "      <th>Actual 3</th>\n",
       "      <td>12</td>\n",
       "      <td>40</td>\n",
       "      <td>29</td>\n",
       "      <td>1417</td>\n",
       "      <td>13</td>\n",
       "      <td>102</td>\n",
       "      <td>16</td>\n",
       "      <td>29</td>\n",
       "      <td>37</td>\n",
       "      <td>24</td>\n",
       "    </tr>\n",
       "    <tr>\n",
       "      <th>Actual 4</th>\n",
       "      <td>18</td>\n",
       "      <td>58</td>\n",
       "      <td>16</td>\n",
       "      <td>23</td>\n",
       "      <td>1605</td>\n",
       "      <td>15</td>\n",
       "      <td>10</td>\n",
       "      <td>11</td>\n",
       "      <td>20</td>\n",
       "      <td>36</td>\n",
       "    </tr>\n",
       "    <tr>\n",
       "      <th>Actual 5</th>\n",
       "      <td>17</td>\n",
       "      <td>13</td>\n",
       "      <td>9</td>\n",
       "      <td>63</td>\n",
       "      <td>8</td>\n",
       "      <td>1554</td>\n",
       "      <td>36</td>\n",
       "      <td>6</td>\n",
       "      <td>35</td>\n",
       "      <td>27</td>\n",
       "    </tr>\n",
       "    <tr>\n",
       "      <th>Actual 6</th>\n",
       "      <td>40</td>\n",
       "      <td>20</td>\n",
       "      <td>10</td>\n",
       "      <td>21</td>\n",
       "      <td>25</td>\n",
       "      <td>67</td>\n",
       "      <td>1540</td>\n",
       "      <td>11</td>\n",
       "      <td>79</td>\n",
       "      <td>19</td>\n",
       "    </tr>\n",
       "    <tr>\n",
       "      <th>Actual 7</th>\n",
       "      <td>15</td>\n",
       "      <td>44</td>\n",
       "      <td>22</td>\n",
       "      <td>9</td>\n",
       "      <td>10</td>\n",
       "      <td>11</td>\n",
       "      <td>12</td>\n",
       "      <td>1665</td>\n",
       "      <td>5</td>\n",
       "      <td>15</td>\n",
       "    </tr>\n",
       "    <tr>\n",
       "      <th>Actual 8</th>\n",
       "      <td>19</td>\n",
       "      <td>40</td>\n",
       "      <td>27</td>\n",
       "      <td>38</td>\n",
       "      <td>3</td>\n",
       "      <td>32</td>\n",
       "      <td>51</td>\n",
       "      <td>13</td>\n",
       "      <td>1527</td>\n",
       "      <td>62</td>\n",
       "    </tr>\n",
       "    <tr>\n",
       "      <th>Actual 9</th>\n",
       "      <td>44</td>\n",
       "      <td>35</td>\n",
       "      <td>33</td>\n",
       "      <td>24</td>\n",
       "      <td>15</td>\n",
       "      <td>37</td>\n",
       "      <td>8</td>\n",
       "      <td>28</td>\n",
       "      <td>30</td>\n",
       "      <td>1550</td>\n",
       "    </tr>\n",
       "  </tbody>\n",
       "</table>\n",
       "</div>"
      ],
      "text/plain": [
       "          Predict 0  Predict 1  Predict 2  ...  Predict 7  Predict 8  Predict 9\n",
       "Actual 0       1649         28         16  ...         22         14         36\n",
       "Actual 1         23       1651         16  ...         37         17          7\n",
       "Actual 2         16         20       1603  ...         51         25         30\n",
       "Actual 3         12         40         29  ...         29         37         24\n",
       "Actual 4         18         58         16  ...         11         20         36\n",
       "Actual 5         17         13          9  ...          6         35         27\n",
       "Actual 6         40         20         10  ...         11         79         19\n",
       "Actual 7         15         44         22  ...       1665          5         15\n",
       "Actual 8         19         40         27  ...         13       1527         62\n",
       "Actual 9         44         35         33  ...         28         30       1550\n",
       "\n",
       "[10 rows x 10 columns]"
      ]
     },
     "execution_count": 47,
     "metadata": {
      "tags": []
     },
     "output_type": "execute_result"
    }
   ],
   "source": [
    "# building a confusion matrix\n",
    "cm=confusion_matrix(y_true=y_test,y_pred=ytest_pred,labels=list(range(0,10,1)))\n",
    "cmdf=pd.DataFrame(data=cm,\n",
    "                  columns=['Predict 0','Predict 1','Predict 2','Predict 3','Predict 4','Predict 5','Predict 6','Predict 7','Predict 8','Predict 9']\n",
    "                  ,index=['Actual 0','Actual 1','Actual 2','Actual 3','Actual 4','Actual 5','Actual 6','Actual 7','Actual 8','Actual 9']\n",
    "                  )\n",
    "cmdf"
   ]
  },
  {
   "cell_type": "code",
   "execution_count": 48,
   "metadata": {
    "colab": {
     "base_uri": "https://localhost:8080/",
     "height": 70
    },
    "colab_type": "code",
    "id": "piGQL_Jek8Lo",
    "outputId": "5eee6649-aee6-44d3-f500-690f8e4809fc"
   },
   "outputs": [
    {
     "name": "stderr",
     "output_type": "stream",
     "text": [
      "/usr/local/lib/python3.6/dist-packages/statsmodels/tools/_testing.py:19: FutureWarning: pandas.util.testing is deprecated. Use the functions in the public API at pandas.testing instead.\n",
      "  import pandas.util.testing as tm\n"
     ]
    }
   ],
   "source": [
    "import matplotlib.pyplot as plt\n",
    "%matplotlib inline\n",
    "import seaborn as sns"
   ]
  },
  {
   "cell_type": "code",
   "execution_count": null,
   "metadata": {
    "colab": {
     "base_uri": "https://localhost:8080/",
     "height": 609
    },
    "colab_type": "code",
    "id": "HClZHUmdlEs5",
    "outputId": "ac5e3689-d0ad-452c-fe24-6248906979b7"
   },
   "outputs": [
    {
     "data": {
      "text/plain": [
       "<matplotlib.axes._subplots.AxesSubplot at 0x7f39a02c0048>"
      ]
     },
     "execution_count": 55,
     "metadata": {
      "tags": []
     },
     "output_type": "execute_result"
    },
    {
     "data": {
      "image/png": "[encoded data removed]",
      "text/plain": [
       "<Figure size 864x720 with 2 Axes>"
      ]
     },
     "metadata": {
      "needs_background": "light",
      "tags": []
     },
     "output_type": "display_data"
    }
   ],
   "source": [
    "# Plotting heatmap\n",
    "plt.figure(figsize=(12,10))\n",
    "sns.heatmap(cmdf,annot=True,fmt='g')"
   ]
  },
  {
   "cell_type": "code",
   "execution_count": null,
   "metadata": {
    "colab": {
     "base_uri": "https://localhost:8080/",
     "height": 302
    },
    "colab_type": "code",
    "id": "uZpU8p9ZFEWc",
    "outputId": "4f148c94-7c8c-4463-89a7-11c81bb1b328"
   },
   "outputs": [
    {
     "name": "stdout",
     "output_type": "stream",
     "text": [
      "              precision    recall  f1-score   support\n",
      "\n",
      "           0       0.89      0.91      0.90      1814\n",
      "           1       0.86      0.90      0.88      1828\n",
      "           2       0.90      0.89      0.90      1803\n",
      "           3       0.88      0.83      0.85      1719\n",
      "           4       0.93      0.89      0.91      1812\n",
      "           5       0.86      0.87      0.86      1768\n",
      "           6       0.89      0.86      0.87      1832\n",
      "           7       0.91      0.91      0.91      1808\n",
      "           8       0.83      0.85      0.84      1812\n",
      "           9       0.85      0.87      0.86      1804\n",
      "\n",
      "    accuracy                           0.88     18000\n",
      "   macro avg       0.88      0.88      0.88     18000\n",
      "weighted avg       0.88      0.88      0.88     18000\n",
      "\n"
     ]
    }
   ],
   "source": [
    "print(classification_report(y_true=y_test,y_pred=ytest_pred,target_names=['0','1','2','3','4','5','6','7','8','9']))"
   ]
  },
  {
   "cell_type": "markdown",
   "metadata": {
    "colab_type": "text",
    "id": "CEC1UhFIif94"
   },
   "source": [
    "#### Conclusion:\n",
    "\n",
    "1. Test accuracy for the final model is 88%\n",
    "2. Though validation accuracy is around 96%, still test accuracy came in bit lower side. May be by getting more training dataset can help in further better results.\n",
    "3. Seems model is not able to predict digit 3 well when compared to other digits. For 95 images, digit 3 is predicted as digit5. Need to check those images and understand the reason for this.\n"
   ]
  },
  {
   "cell_type": "code",
   "execution_count": null,
   "metadata": {
    "colab": {},
    "colab_type": "code",
    "id": "N2OsYowJlKCI"
   },
   "outputs": [],
   "source": []
  }
 ],
 "metadata": {
  "accelerator": "GPU",
  "colab": {
   "collapsed_sections": [
    "BXOq40Z6-2mc",
    "D4kJlI8Dg59O",
    "KJW-5IbfjZiI",
    "R2p7IZ2UnEcC",
    "YOIBlIN4V1Iu"
   ],
   "name": "NN_Street_View_House_Numbers_Recognition_Project.ipynb",
   "provenance": [],
   "toc_visible": true
  },
  "kernelspec": {
   "display_name": "Python 3",
   "language": "python",
   "name": "python3"
  },
  "language_info": {
   "codemirror_mode": {
    "name": "ipython",
    "version": 3
   },
   "file_extension": ".py",
   "mimetype": "text/x-python",
   "name": "python",
   "nbconvert_exporter": "python",
   "pygments_lexer": "ipython3",
   "version": "3.7.7"
  }
 },
 "nbformat": 4,
 "nbformat_minor": 1
}
