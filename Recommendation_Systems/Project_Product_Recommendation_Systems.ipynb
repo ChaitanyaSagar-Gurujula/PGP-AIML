{
 "cells": [
  {
   "cell_type": "markdown",
   "metadata": {
    "colab_type": "text",
    "id": "3iv1FGJvzbTG"
   },
   "source": [
    "# Product Recommendation Systems\n",
    "\n",
    "### Domain - E-commerce\n",
    "### Context - \n",
    "Everyday a million products are being recommended to users based on\n",
    "popularity and other metrics on e-commerce websites. The most popular e-commerce\n",
    "website boosts average order value by 50%, increases revenues by 300%, and\n",
    "improves conversion. In addition to being a powerful tool for increasing revenues,\n",
    "product recommendations are so essential that customers now expect to see similar\n",
    "features on all other eCommerce sites.\n",
    "\n",
    "### Data Description -\n",
    "Data columns- First three columns are userId, productId, and ratings and the fourth column is timestamp. You can discard the timestamp column as in this case you may not need to use it.\n",
    "### Source - \n",
    "Amazon Reviews data (http://jmcauley.ucsd.edu/data/amazon/) The repository has several datasets. For this case study, we are using the Electronics\n",
    "dataset.\n",
    "\n",
    "### Learning Outcomes -\n",
    "● Exploratory Data Analysis <br>\n",
    "● Data Wrangling <br>\n",
    "● Build a Popularity recommender model <br>\n",
    "● Build Collaborative Filtering model <br>\n",
    "### Objective - \n",
    "To make a recommendation system that recommends at least five(5) new products based on the user's habits.\n",
    "### Steps and tasks -\n",
    "#### 1. Read and explore the given dataset. ( Rename column/add headers, plot histograms, find data characteristics) ( 3 Marks)"
   ]
  },
  {
   "cell_type": "code",
   "execution_count": 341,
   "metadata": {
    "colab": {},
    "colab_type": "code",
    "id": "lO6PLyoPzbTH"
   },
   "outputs": [],
   "source": [
    "import numpy as np\n",
    "import pandas as pd\n",
    "import matplotlib.pyplot as plt\n",
    "%matplotlib inline\n",
    "import seaborn as sns\n",
    "sns.set(color_codes=True)\n",
    "import warnings\n",
    "warnings.filterwarnings(\"ignore\")"
   ]
  },
  {
   "cell_type": "code",
   "execution_count": 342,
   "metadata": {
    "colab": {
     "base_uri": "https://localhost:8080/",
     "height": 34
    },
    "colab_type": "code",
    "id": "vUxYppt1pkeF",
    "outputId": "472e3fb2-ed05-4f39-a220-609fb0ad8e28"
   },
   "outputs": [
    {
     "name": "stdout",
     "output_type": "stream",
     "text": [
      "Drive already mounted at /content/drive; to attempt to forcibly remount, call drive.mount(\"/content/drive\", force_remount=True).\n"
     ]
    }
   ],
   "source": [
    "from google.colab import drive\n",
    "drive.mount('/content/drive')"
   ]
  },
  {
   "cell_type": "code",
   "execution_count": 343,
   "metadata": {
    "colab": {
     "base_uri": "https://localhost:8080/",
     "height": 35
    },
    "colab_type": "code",
    "id": "-gNLPBc8qAxF",
    "outputId": "3ac3705c-5ac8-4857-c2b7-769399e27f06"
   },
   "outputs": [
    {
     "data": {
      "application/vnd.google.colaboratory.intrinsic": {
       "type": "string"
      },
      "text/plain": [
       "'/content'"
      ]
     },
     "execution_count": 343,
     "metadata": {
      "tags": []
     },
     "output_type": "execute_result"
    }
   ],
   "source": [
    "import os\n",
    "os.getcwd()"
   ]
  },
  {
   "cell_type": "code",
   "execution_count": 344,
   "metadata": {
    "colab": {},
    "colab_type": "code",
    "id": "Nk6M6fUiqOWy"
   },
   "outputs": [],
   "source": [
    "recom_df=pd.read_csv('/content/drive/My Drive/Recommendation systems/ratings_Electronics.csv',header=None,names=['userId', 'productId', 'ratings'],usecols=[0,1,2])"
   ]
  },
  {
   "cell_type": "code",
   "execution_count": 345,
   "metadata": {
    "colab": {},
    "colab_type": "code",
    "id": "F29h2kzS0zsD"
   },
   "outputs": [],
   "source": [
    "df=recom_df.copy()"
   ]
  },
  {
   "cell_type": "code",
   "execution_count": 346,
   "metadata": {
    "colab": {
     "base_uri": "https://localhost:8080/",
     "height": 195
    },
    "colab_type": "code",
    "id": "RFAuFS0NqdYn",
    "outputId": "fa42f387-0b51-49d8-c34c-0acb1bf2e020"
   },
   "outputs": [
    {
     "data": {
      "text/html": [
       "<div>\n",
       "<style scoped>\n",
       "    .dataframe tbody tr th:only-of-type {\n",
       "        vertical-align: middle;\n",
       "    }\n",
       "\n",
       "    .dataframe tbody tr th {\n",
       "        vertical-align: top;\n",
       "    }\n",
       "\n",
       "    .dataframe thead th {\n",
       "        text-align: right;\n",
       "    }\n",
       "</style>\n",
       "<table border=\"1\" class=\"dataframe\">\n",
       "  <thead>\n",
       "    <tr style=\"text-align: right;\">\n",
       "      <th></th>\n",
       "      <th>userId</th>\n",
       "      <th>productId</th>\n",
       "      <th>ratings</th>\n",
       "    </tr>\n",
       "  </thead>\n",
       "  <tbody>\n",
       "    <tr>\n",
       "      <th>0</th>\n",
       "      <td>AKM1MP6P0OYPR</td>\n",
       "      <td>0132793040</td>\n",
       "      <td>5.0</td>\n",
       "    </tr>\n",
       "    <tr>\n",
       "      <th>1</th>\n",
       "      <td>A2CX7LUOHB2NDG</td>\n",
       "      <td>0321732944</td>\n",
       "      <td>5.0</td>\n",
       "    </tr>\n",
       "    <tr>\n",
       "      <th>2</th>\n",
       "      <td>A2NWSAGRHCP8N5</td>\n",
       "      <td>0439886341</td>\n",
       "      <td>1.0</td>\n",
       "    </tr>\n",
       "    <tr>\n",
       "      <th>3</th>\n",
       "      <td>A2WNBOD3WNDNKT</td>\n",
       "      <td>0439886341</td>\n",
       "      <td>3.0</td>\n",
       "    </tr>\n",
       "    <tr>\n",
       "      <th>4</th>\n",
       "      <td>A1GI0U4ZRJA8WN</td>\n",
       "      <td>0439886341</td>\n",
       "      <td>1.0</td>\n",
       "    </tr>\n",
       "  </tbody>\n",
       "</table>\n",
       "</div>"
      ],
      "text/plain": [
       "           userId   productId  ratings\n",
       "0   AKM1MP6P0OYPR  0132793040      5.0\n",
       "1  A2CX7LUOHB2NDG  0321732944      5.0\n",
       "2  A2NWSAGRHCP8N5  0439886341      1.0\n",
       "3  A2WNBOD3WNDNKT  0439886341      3.0\n",
       "4  A1GI0U4ZRJA8WN  0439886341      1.0"
      ]
     },
     "execution_count": 346,
     "metadata": {
      "tags": []
     },
     "output_type": "execute_result"
    }
   ],
   "source": [
    "df.head(5)"
   ]
  },
  {
   "cell_type": "code",
   "execution_count": 347,
   "metadata": {
    "colab": {
     "base_uri": "https://localhost:8080/",
     "height": 34
    },
    "colab_type": "code",
    "id": "jt0Kg0PSszzJ",
    "outputId": "93d64eaf-81fb-4edc-dda7-3d3defeb483d"
   },
   "outputs": [
    {
     "data": {
      "text/plain": [
       "(7824482, 3)"
      ]
     },
     "execution_count": 347,
     "metadata": {
      "tags": []
     },
     "output_type": "execute_result"
    }
   ],
   "source": [
    "df.shape"
   ]
  },
  {
   "cell_type": "code",
   "execution_count": 348,
   "metadata": {
    "colab": {
     "base_uri": "https://localhost:8080/",
     "height": 185
    },
    "colab_type": "code",
    "id": "AbF2MsJrqpBY",
    "outputId": "3f8bada0-a078-4ac2-e4f7-4151c26e8150"
   },
   "outputs": [
    {
     "name": "stdout",
     "output_type": "stream",
     "text": [
      "<class 'pandas.core.frame.DataFrame'>\n",
      "RangeIndex: 7824482 entries, 0 to 7824481\n",
      "Data columns (total 3 columns):\n",
      " #   Column     Dtype  \n",
      "---  ------     -----  \n",
      " 0   userId     object \n",
      " 1   productId  object \n",
      " 2   ratings    float64\n",
      "dtypes: float64(1), object(2)\n",
      "memory usage: 179.1+ MB\n"
     ]
    }
   ],
   "source": [
    "df.info()"
   ]
  },
  {
   "cell_type": "code",
   "execution_count": 349,
   "metadata": {
    "colab": {
     "base_uri": "https://localhost:8080/",
     "height": 136
    },
    "colab_type": "code",
    "id": "dryotQznsfHQ",
    "outputId": "a25f16e2-76ac-411f-e331-303964745988"
   },
   "outputs": [
    {
     "data": {
      "text/html": [
       "<div>\n",
       "<style scoped>\n",
       "    .dataframe tbody tr th:only-of-type {\n",
       "        vertical-align: middle;\n",
       "    }\n",
       "\n",
       "    .dataframe tbody tr th {\n",
       "        vertical-align: top;\n",
       "    }\n",
       "\n",
       "    .dataframe thead th {\n",
       "        text-align: right;\n",
       "    }\n",
       "</style>\n",
       "<table border=\"1\" class=\"dataframe\">\n",
       "  <thead>\n",
       "    <tr style=\"text-align: right;\">\n",
       "      <th></th>\n",
       "      <th>count</th>\n",
       "      <th>unique</th>\n",
       "      <th>top</th>\n",
       "      <th>freq</th>\n",
       "      <th>mean</th>\n",
       "      <th>std</th>\n",
       "      <th>min</th>\n",
       "      <th>25%</th>\n",
       "      <th>50%</th>\n",
       "      <th>75%</th>\n",
       "      <th>max</th>\n",
       "    </tr>\n",
       "  </thead>\n",
       "  <tbody>\n",
       "    <tr>\n",
       "      <th>userId</th>\n",
       "      <td>7824482</td>\n",
       "      <td>4201696</td>\n",
       "      <td>A5JLAU2ARJ0BO</td>\n",
       "      <td>520</td>\n",
       "      <td>NaN</td>\n",
       "      <td>NaN</td>\n",
       "      <td>NaN</td>\n",
       "      <td>NaN</td>\n",
       "      <td>NaN</td>\n",
       "      <td>NaN</td>\n",
       "      <td>NaN</td>\n",
       "    </tr>\n",
       "    <tr>\n",
       "      <th>productId</th>\n",
       "      <td>7824482</td>\n",
       "      <td>476002</td>\n",
       "      <td>B0074BW614</td>\n",
       "      <td>18244</td>\n",
       "      <td>NaN</td>\n",
       "      <td>NaN</td>\n",
       "      <td>NaN</td>\n",
       "      <td>NaN</td>\n",
       "      <td>NaN</td>\n",
       "      <td>NaN</td>\n",
       "      <td>NaN</td>\n",
       "    </tr>\n",
       "    <tr>\n",
       "      <th>ratings</th>\n",
       "      <td>7.82448e+06</td>\n",
       "      <td>NaN</td>\n",
       "      <td>NaN</td>\n",
       "      <td>NaN</td>\n",
       "      <td>4.01234</td>\n",
       "      <td>1.38091</td>\n",
       "      <td>1</td>\n",
       "      <td>3</td>\n",
       "      <td>5</td>\n",
       "      <td>5</td>\n",
       "      <td>5</td>\n",
       "    </tr>\n",
       "  </tbody>\n",
       "</table>\n",
       "</div>"
      ],
      "text/plain": [
       "                 count   unique            top   freq  ...  25%  50%  75%  max\n",
       "userId         7824482  4201696  A5JLAU2ARJ0BO    520  ...  NaN  NaN  NaN  NaN\n",
       "productId      7824482   476002     B0074BW614  18244  ...  NaN  NaN  NaN  NaN\n",
       "ratings    7.82448e+06      NaN            NaN    NaN  ...    3    5    5    5\n",
       "\n",
       "[3 rows x 11 columns]"
      ]
     },
     "execution_count": 349,
     "metadata": {
      "tags": []
     },
     "output_type": "execute_result"
    }
   ],
   "source": [
    "df.describe(include='all').T"
   ]
  },
  {
   "cell_type": "code",
   "execution_count": 350,
   "metadata": {
    "colab": {
     "base_uri": "https://localhost:8080/",
     "height": 34
    },
    "colab_type": "code",
    "id": "zl8rRgXFslrU",
    "outputId": "17528fb1-7c53-4063-9de1-e80e2c33e473"
   },
   "outputs": [
    {
     "data": {
      "text/plain": [
       "False"
      ]
     },
     "execution_count": 350,
     "metadata": {
      "tags": []
     },
     "output_type": "execute_result"
    }
   ],
   "source": [
    "# To check if any missing(NaN) values are present\n",
    "df.isna().values.any()"
   ]
  },
  {
   "cell_type": "code",
   "execution_count": 351,
   "metadata": {
    "colab": {},
    "colab_type": "code",
    "id": "zfWph4b5tsmv"
   },
   "outputs": [],
   "source": [
    "# Function for creating histogram and box-plot side by side for continuous variables\n",
    "# Histogram plot is to help in understanding the distribution of the feature\n",
    "# Box-plot is to see the data spread across quantiles and also to identify outliers if any\n",
    "def numerical_feature_plot(feature):\n",
    "    fig,ax=plt.subplots(nrows=1,ncols=2,figsize=(14,6))\n",
    "    sns.distplot(df[feature],ax=ax[0])\n",
    "    ax[0].set_title(\"Histogram of \"+feature)\n",
    "    sns.boxplot(y=df[feature],ax=ax[1])\n",
    "    ax[1].set_title(\"Boxplot of \"+feature)"
   ]
  },
  {
   "cell_type": "code",
   "execution_count": 352,
   "metadata": {
    "colab": {},
    "colab_type": "code",
    "id": "M58oS1k_0lY7"
   },
   "outputs": [],
   "source": [
    "def numerical_feature_analysis(feature):\n",
    "    feature_min=df[feature].min()\n",
    "    feature_max=df[feature].max()\n",
    "    feature_q1=np.quantile(df[feature],0.25)\n",
    "    feature_q3=np.quantile(df[feature],0.75)\n",
    "    feature_IQR=(feature_q3-feature_q1)\n",
    "    feature_lower_whisker=feature_q1-(feature_IQR*1.5)\n",
    "    feature_upper_whisker=feature_q3+(feature_IQR*1.5)\n",
    "\n",
    "    print(\"Feature: \",feature)\n",
    "    if (feature_lower_whisker<=feature_min) and (feature_upper_whisker>=feature_max):\n",
    "        print(\"No outliers.\")\n",
    "    else:\n",
    "        if (feature_upper_whisker<feature_max):\n",
    "            print(\"Outliers are present in maximum. \",feature,\" above \",round(feature_upper_whisker,2),\" are outliers and total are \",df[df[feature]>feature_upper_whisker][feature].count())\n",
    "        if (feature_lower_whisker>feature_min):\n",
    "            print(\"Outliers are present in minimum. \",feature,\" below \",round(feature_lower_whisker,2),\" are outliers and total are \",df[df[feature]<feature_lower_whisker][feature].count())\n",
    "    \n",
    "    print(\"----------------------------------------------------------------------------------------------\")"
   ]
  },
  {
   "cell_type": "code",
   "execution_count": 353,
   "metadata": {
    "colab": {
     "base_uri": "https://localhost:8080/",
     "height": 50
    },
    "colab_type": "code",
    "id": "_yuN0NPq0pAi",
    "outputId": "32bbba29-6f03-4560-96ab-a697a0452c6e"
   },
   "outputs": [
    {
     "name": "stdout",
     "output_type": "stream",
     "text": [
      "Numerical Features:  ['ratings']\n",
      "Categorical Features:  ['userId', 'productId']\n"
     ]
    }
   ],
   "source": [
    "numerical_feature_list=list(df.select_dtypes(exclude='object').columns)\n",
    "categorical_feature_list=list(df.select_dtypes(include='object').columns)\n",
    "\n",
    "print(\"Numerical Features: \",numerical_feature_list)\n",
    "print(\"Categorical Features: \",categorical_feature_list)"
   ]
  },
  {
   "cell_type": "code",
   "execution_count": 354,
   "metadata": {
    "colab": {
     "base_uri": "https://localhost:8080/",
     "height": 461
    },
    "colab_type": "code",
    "id": "BZjbhkaL0sLe",
    "outputId": "9b2b8b58-60d9-46c5-f365-d795ea0ac4e9"
   },
   "outputs": [
    {
     "name": "stdout",
     "output_type": "stream",
     "text": [
      "Feature:  ratings\n",
      "No outliers.\n",
      "----------------------------------------------------------------------------------------------\n"
     ]
    },
    {
     "data": {
      "image/png": "[encoded data removed]",
      "text/plain": [
       "<Figure size 1008x432 with 2 Axes>"
      ]
     },
     "metadata": {
      "tags": []
     },
     "output_type": "display_data"
    }
   ],
   "source": [
    "for i in numerical_feature_list:\n",
    "    numerical_feature_plot(i)\n",
    "    numerical_feature_analysis(i)"
   ]
  },
  {
   "cell_type": "code",
   "execution_count": 355,
   "metadata": {
    "colab": {
     "base_uri": "https://localhost:8080/",
     "height": 343
    },
    "colab_type": "code",
    "id": "F2PoYb0Oa2Vo",
    "outputId": "601df126-533b-4176-e8fe-8507c845e154"
   },
   "outputs": [
    {
     "data": {
      "text/html": [
       "<div>\n",
       "<style scoped>\n",
       "    .dataframe tbody tr th:only-of-type {\n",
       "        vertical-align: middle;\n",
       "    }\n",
       "\n",
       "    .dataframe tbody tr th {\n",
       "        vertical-align: top;\n",
       "    }\n",
       "\n",
       "    .dataframe thead th {\n",
       "        text-align: right;\n",
       "    }\n",
       "</style>\n",
       "<table border=\"1\" class=\"dataframe\">\n",
       "  <thead>\n",
       "    <tr style=\"text-align: right;\">\n",
       "      <th></th>\n",
       "      <th>user_count</th>\n",
       "      <th>productId</th>\n",
       "    </tr>\n",
       "  </thead>\n",
       "  <tbody>\n",
       "    <tr>\n",
       "      <th>308398</th>\n",
       "      <td>18244</td>\n",
       "      <td>B0074BW614</td>\n",
       "    </tr>\n",
       "    <tr>\n",
       "      <th>429572</th>\n",
       "      <td>16454</td>\n",
       "      <td>B00DR0PDNE</td>\n",
       "    </tr>\n",
       "    <tr>\n",
       "      <th>327308</th>\n",
       "      <td>14172</td>\n",
       "      <td>B007WTAJTO</td>\n",
       "    </tr>\n",
       "    <tr>\n",
       "      <th>102804</th>\n",
       "      <td>12285</td>\n",
       "      <td>B0019EHU8G</td>\n",
       "    </tr>\n",
       "    <tr>\n",
       "      <th>296625</th>\n",
       "      <td>12226</td>\n",
       "      <td>B006GWO5WK</td>\n",
       "    </tr>\n",
       "    <tr>\n",
       "      <th>178601</th>\n",
       "      <td>11617</td>\n",
       "      <td>B003ELYQGG</td>\n",
       "    </tr>\n",
       "    <tr>\n",
       "      <th>178813</th>\n",
       "      <td>10276</td>\n",
       "      <td>B003ES5ZUU</td>\n",
       "    </tr>\n",
       "    <tr>\n",
       "      <th>323013</th>\n",
       "      <td>9907</td>\n",
       "      <td>B007R5YDYA</td>\n",
       "    </tr>\n",
       "    <tr>\n",
       "      <th>289775</th>\n",
       "      <td>9823</td>\n",
       "      <td>B00622AG6S</td>\n",
       "    </tr>\n",
       "    <tr>\n",
       "      <th>30276</th>\n",
       "      <td>9487</td>\n",
       "      <td>B0002L5R78</td>\n",
       "    </tr>\n",
       "  </tbody>\n",
       "</table>\n",
       "</div>"
      ],
      "text/plain": [
       "        user_count   productId\n",
       "308398       18244  B0074BW614\n",
       "429572       16454  B00DR0PDNE\n",
       "327308       14172  B007WTAJTO\n",
       "102804       12285  B0019EHU8G\n",
       "296625       12226  B006GWO5WK\n",
       "178601       11617  B003ELYQGG\n",
       "178813       10276  B003ES5ZUU\n",
       "323013        9907  B007R5YDYA\n",
       "289775        9823  B00622AG6S\n",
       "30276         9487  B0002L5R78"
      ]
     },
     "execution_count": 355,
     "metadata": {
      "tags": []
     },
     "output_type": "execute_result"
    }
   ],
   "source": [
    "# Check the top10 products that are been rated most.\n",
    "df.groupby(by='productId',as_index=False).count()[['userId','productId']].rename(columns={'userId':'user_count'}).sort_values(by='user_count',ascending=False).head(10)"
   ]
  },
  {
   "cell_type": "markdown",
   "metadata": {
    "colab_type": "text",
    "id": "dqdTgzy0zbUK"
   },
   "source": [
    "#### 2. Take a subset of the dataset to make it less sparse/ denser. ( For example, keep the users only who has given 50 or more number of ratings ) -(5 Marks)"
   ]
  },
  {
   "cell_type": "code",
   "execution_count": 356,
   "metadata": {
    "colab": {
     "base_uri": "https://localhost:8080/",
     "height": 343
    },
    "colab_type": "code",
    "id": "3NaifxGoaUQ-",
    "outputId": "b97d3b82-f1d9-4ea4-ee2e-254df9a3e474"
   },
   "outputs": [
    {
     "data": {
      "text/html": [
       "<div>\n",
       "<style scoped>\n",
       "    .dataframe tbody tr th:only-of-type {\n",
       "        vertical-align: middle;\n",
       "    }\n",
       "\n",
       "    .dataframe tbody tr th {\n",
       "        vertical-align: top;\n",
       "    }\n",
       "\n",
       "    .dataframe thead th {\n",
       "        text-align: right;\n",
       "    }\n",
       "</style>\n",
       "<table border=\"1\" class=\"dataframe\">\n",
       "  <thead>\n",
       "    <tr style=\"text-align: right;\">\n",
       "      <th></th>\n",
       "      <th>userId</th>\n",
       "      <th>prod_count</th>\n",
       "    </tr>\n",
       "  </thead>\n",
       "  <tbody>\n",
       "    <tr>\n",
       "      <th>3263531</th>\n",
       "      <td>A5JLAU2ARJ0BO</td>\n",
       "      <td>520</td>\n",
       "    </tr>\n",
       "    <tr>\n",
       "      <th>3512451</th>\n",
       "      <td>ADLVFFE4VBT8</td>\n",
       "      <td>501</td>\n",
       "    </tr>\n",
       "    <tr>\n",
       "      <th>2989526</th>\n",
       "      <td>A3OXHLG6DIBRW8</td>\n",
       "      <td>498</td>\n",
       "    </tr>\n",
       "    <tr>\n",
       "      <th>3291008</th>\n",
       "      <td>A6FIAB28IS79</td>\n",
       "      <td>431</td>\n",
       "    </tr>\n",
       "    <tr>\n",
       "      <th>3284634</th>\n",
       "      <td>A680RUE1FDO8B</td>\n",
       "      <td>406</td>\n",
       "    </tr>\n",
       "    <tr>\n",
       "      <th>755206</th>\n",
       "      <td>A1ODOGXEYECQQ8</td>\n",
       "      <td>380</td>\n",
       "    </tr>\n",
       "    <tr>\n",
       "      <th>2424036</th>\n",
       "      <td>A36K2N527TXXJN</td>\n",
       "      <td>314</td>\n",
       "    </tr>\n",
       "    <tr>\n",
       "      <th>1451394</th>\n",
       "      <td>A2AY4YUOX2N1BQ</td>\n",
       "      <td>311</td>\n",
       "    </tr>\n",
       "    <tr>\n",
       "      <th>4100926</th>\n",
       "      <td>AWPODHOB4GFWL</td>\n",
       "      <td>308</td>\n",
       "    </tr>\n",
       "    <tr>\n",
       "      <th>1277963</th>\n",
       "      <td>A25C2M3QF9G7OQ</td>\n",
       "      <td>296</td>\n",
       "    </tr>\n",
       "  </tbody>\n",
       "</table>\n",
       "</div>"
      ],
      "text/plain": [
       "                 userId  prod_count\n",
       "3263531   A5JLAU2ARJ0BO         520\n",
       "3512451    ADLVFFE4VBT8         501\n",
       "2989526  A3OXHLG6DIBRW8         498\n",
       "3291008    A6FIAB28IS79         431\n",
       "3284634   A680RUE1FDO8B         406\n",
       "755206   A1ODOGXEYECQQ8         380\n",
       "2424036  A36K2N527TXXJN         314\n",
       "1451394  A2AY4YUOX2N1BQ         311\n",
       "4100926   AWPODHOB4GFWL         308\n",
       "1277963  A25C2M3QF9G7OQ         296"
      ]
     },
     "execution_count": 356,
     "metadata": {
      "tags": []
     },
     "output_type": "execute_result"
    }
   ],
   "source": [
    "# Check the top10 users who has rated more no. of products\n",
    "dfg_users=df.groupby(by='userId',as_index=False).count()[['userId','productId']].sort_values(by='productId',ascending=False).rename(columns={'productId':'prod_count'})\n",
    "dfg_users.head(10)"
   ]
  },
  {
   "cell_type": "code",
   "execution_count": 357,
   "metadata": {
    "colab": {
     "base_uri": "https://localhost:8080/",
     "height": 195
    },
    "colab_type": "code",
    "id": "rMzKD6rMzbUM",
    "outputId": "f256063e-b173-4640-8a92-d633fa9e40fa"
   },
   "outputs": [
    {
     "data": {
      "text/html": [
       "<div>\n",
       "<style scoped>\n",
       "    .dataframe tbody tr th:only-of-type {\n",
       "        vertical-align: middle;\n",
       "    }\n",
       "\n",
       "    .dataframe tbody tr th {\n",
       "        vertical-align: top;\n",
       "    }\n",
       "\n",
       "    .dataframe thead th {\n",
       "        text-align: right;\n",
       "    }\n",
       "</style>\n",
       "<table border=\"1\" class=\"dataframe\">\n",
       "  <thead>\n",
       "    <tr style=\"text-align: right;\">\n",
       "      <th></th>\n",
       "      <th>userId</th>\n",
       "      <th>productId</th>\n",
       "      <th>ratings</th>\n",
       "    </tr>\n",
       "  </thead>\n",
       "  <tbody>\n",
       "    <tr>\n",
       "      <th>0</th>\n",
       "      <td>A3BY5KCNQZXV5U</td>\n",
       "      <td>0594451647</td>\n",
       "      <td>5.0</td>\n",
       "    </tr>\n",
       "    <tr>\n",
       "      <th>1</th>\n",
       "      <td>A3BY5KCNQZXV5U</td>\n",
       "      <td>B00000JD4V</td>\n",
       "      <td>4.0</td>\n",
       "    </tr>\n",
       "    <tr>\n",
       "      <th>2</th>\n",
       "      <td>A3BY5KCNQZXV5U</td>\n",
       "      <td>B000063574</td>\n",
       "      <td>5.0</td>\n",
       "    </tr>\n",
       "    <tr>\n",
       "      <th>3</th>\n",
       "      <td>A3BY5KCNQZXV5U</td>\n",
       "      <td>B0000CDJP8</td>\n",
       "      <td>5.0</td>\n",
       "    </tr>\n",
       "    <tr>\n",
       "      <th>4</th>\n",
       "      <td>A3BY5KCNQZXV5U</td>\n",
       "      <td>B0007Y794O</td>\n",
       "      <td>5.0</td>\n",
       "    </tr>\n",
       "  </tbody>\n",
       "</table>\n",
       "</div>"
      ],
      "text/plain": [
       "           userId   productId  ratings\n",
       "0  A3BY5KCNQZXV5U  0594451647      5.0\n",
       "1  A3BY5KCNQZXV5U  B00000JD4V      4.0\n",
       "2  A3BY5KCNQZXV5U  B000063574      5.0\n",
       "3  A3BY5KCNQZXV5U  B0000CDJP8      5.0\n",
       "4  A3BY5KCNQZXV5U  B0007Y794O      5.0"
      ]
     },
     "execution_count": 357,
     "metadata": {
      "tags": []
     },
     "output_type": "execute_result"
    }
   ],
   "source": [
    "df=pd.merge(left=df,right=dfg_users[dfg_users['prod_count']>=50]['userId'],how='inner',on='userId')\n",
    "df.head(5)"
   ]
  },
  {
   "cell_type": "code",
   "execution_count": 358,
   "metadata": {
    "colab": {
     "base_uri": "https://localhost:8080/",
     "height": 136
    },
    "colab_type": "code",
    "id": "Y4Kx6cokENw7",
    "outputId": "8cfbcc18-e3eb-4fa6-ca77-0e8a20788949"
   },
   "outputs": [
    {
     "data": {
      "text/html": [
       "<div>\n",
       "<style scoped>\n",
       "    .dataframe tbody tr th:only-of-type {\n",
       "        vertical-align: middle;\n",
       "    }\n",
       "\n",
       "    .dataframe tbody tr th {\n",
       "        vertical-align: top;\n",
       "    }\n",
       "\n",
       "    .dataframe thead th {\n",
       "        text-align: right;\n",
       "    }\n",
       "</style>\n",
       "<table border=\"1\" class=\"dataframe\">\n",
       "  <thead>\n",
       "    <tr style=\"text-align: right;\">\n",
       "      <th></th>\n",
       "      <th>count</th>\n",
       "      <th>unique</th>\n",
       "      <th>top</th>\n",
       "      <th>freq</th>\n",
       "      <th>mean</th>\n",
       "      <th>std</th>\n",
       "      <th>min</th>\n",
       "      <th>25%</th>\n",
       "      <th>50%</th>\n",
       "      <th>75%</th>\n",
       "      <th>max</th>\n",
       "    </tr>\n",
       "  </thead>\n",
       "  <tbody>\n",
       "    <tr>\n",
       "      <th>userId</th>\n",
       "      <td>125871</td>\n",
       "      <td>1540</td>\n",
       "      <td>A5JLAU2ARJ0BO</td>\n",
       "      <td>520</td>\n",
       "      <td>NaN</td>\n",
       "      <td>NaN</td>\n",
       "      <td>NaN</td>\n",
       "      <td>NaN</td>\n",
       "      <td>NaN</td>\n",
       "      <td>NaN</td>\n",
       "      <td>NaN</td>\n",
       "    </tr>\n",
       "    <tr>\n",
       "      <th>productId</th>\n",
       "      <td>125871</td>\n",
       "      <td>48190</td>\n",
       "      <td>B0088CJT4U</td>\n",
       "      <td>206</td>\n",
       "      <td>NaN</td>\n",
       "      <td>NaN</td>\n",
       "      <td>NaN</td>\n",
       "      <td>NaN</td>\n",
       "      <td>NaN</td>\n",
       "      <td>NaN</td>\n",
       "      <td>NaN</td>\n",
       "    </tr>\n",
       "    <tr>\n",
       "      <th>ratings</th>\n",
       "      <td>125871</td>\n",
       "      <td>NaN</td>\n",
       "      <td>NaN</td>\n",
       "      <td>NaN</td>\n",
       "      <td>4.26134</td>\n",
       "      <td>1.06214</td>\n",
       "      <td>1</td>\n",
       "      <td>4</td>\n",
       "      <td>5</td>\n",
       "      <td>5</td>\n",
       "      <td>5</td>\n",
       "    </tr>\n",
       "  </tbody>\n",
       "</table>\n",
       "</div>"
      ],
      "text/plain": [
       "            count unique            top freq     mean  ...  min  25%  50%  75%  max\n",
       "userId     125871   1540  A5JLAU2ARJ0BO  520      NaN  ...  NaN  NaN  NaN  NaN  NaN\n",
       "productId  125871  48190     B0088CJT4U  206      NaN  ...  NaN  NaN  NaN  NaN  NaN\n",
       "ratings    125871    NaN            NaN  NaN  4.26134  ...    1    4    5    5    5\n",
       "\n",
       "[3 rows x 11 columns]"
      ]
     },
     "execution_count": 358,
     "metadata": {
      "tags": []
     },
     "output_type": "execute_result"
    }
   ],
   "source": [
    "df.describe(include='all').T"
   ]
  },
  {
   "cell_type": "markdown",
   "metadata": {
    "colab_type": "text",
    "id": "92gYosdZzbUQ"
   },
   "source": [
    "#### 3. Build Popularity Recommender model. ( 15 marks)"
   ]
  },
  {
   "cell_type": "markdown",
   "metadata": {
    "colab_type": "text",
    "id": "TBJFb8wWguEE"
   },
   "source": [
    "Strategy: <br>Considering full dataset for Popular recommendation as we can see that most purchased products are not bought by users who have done 50 or above purchases."
   ]
  },
  {
   "cell_type": "code",
   "execution_count": 359,
   "metadata": {
    "colab": {},
    "colab_type": "code",
    "id": "nd3HKCIEJp4l"
   },
   "outputs": [],
   "source": [
    "df_full=recom_df.copy()"
   ]
  },
  {
   "cell_type": "code",
   "execution_count": 360,
   "metadata": {
    "colab": {
     "base_uri": "https://localhost:8080/",
     "height": 285
    },
    "colab_type": "code",
    "id": "Aimc_cZezbUQ",
    "outputId": "b397a510-e809-4b2b-821b-37d08d7b6f1d"
   },
   "outputs": [
    {
     "data": {
      "text/plain": [
       "<matplotlib.axes._subplots.AxesSubplot at 0x7f638660d358>"
      ]
     },
     "execution_count": 360,
     "metadata": {
      "tags": []
     },
     "output_type": "execute_result"
    },
    {
     "data": {
      "image/png": "[encoded data removed]",
      "text/plain": [
       "<Figure size 432x288 with 1 Axes>"
      ]
     },
     "metadata": {
      "tags": []
     },
     "output_type": "display_data"
    }
   ],
   "source": [
    "sns.distplot(df_full.groupby(by='userId').mean(),bins=50)"
   ]
  },
  {
   "cell_type": "markdown",
   "metadata": {
    "colab_type": "text",
    "id": "uX-YGY-lCFpl"
   },
   "source": [
    "Above mean rating indicates that most of the users have rated majority of the products between 4 and 5.<br> And also there are some significant set of users who have rated majority of their purchased products with least rating 1."
   ]
  },
  {
   "cell_type": "code",
   "execution_count": 361,
   "metadata": {
    "colab": {
     "base_uri": "https://localhost:8080/",
     "height": 285
    },
    "colab_type": "code",
    "id": "im5BNqUozbUU",
    "outputId": "fac6ebc8-4864-46dc-88c5-39a578bde5c0"
   },
   "outputs": [
    {
     "data": {
      "text/plain": [
       "<matplotlib.axes._subplots.AxesSubplot at 0x7f638650d470>"
      ]
     },
     "execution_count": 361,
     "metadata": {
      "tags": []
     },
     "output_type": "execute_result"
    },
    {
     "data": {
      "image/png": "[encoded data removed]",
      "text/plain": [
       "<Figure size 432x288 with 1 Axes>"
      ]
     },
     "metadata": {
      "tags": []
     },
     "output_type": "display_data"
    }
   ],
   "source": [
    "sns.distplot(df_full.groupby(by='productId').mean(),bins=10)"
   ]
  },
  {
   "cell_type": "markdown",
   "metadata": {
    "colab_type": "text",
    "id": "LN4fGTYzBtCH"
   },
   "source": [
    "Above indicates that most of the products have their mean rating above 3 which is good. <br> However the spike at rating 1 is alarming which needs to be taken care of."
   ]
  },
  {
   "cell_type": "code",
   "execution_count": 362,
   "metadata": {
    "colab": {
     "base_uri": "https://localhost:8080/",
     "height": 343
    },
    "colab_type": "code",
    "id": "1QIVHLN2e5vC",
    "outputId": "8db95f2f-2d62-4df4-f181-a7088edd705f"
   },
   "outputs": [
    {
     "data": {
      "text/html": [
       "<div>\n",
       "<style scoped>\n",
       "    .dataframe tbody tr th:only-of-type {\n",
       "        vertical-align: middle;\n",
       "    }\n",
       "\n",
       "    .dataframe tbody tr th {\n",
       "        vertical-align: top;\n",
       "    }\n",
       "\n",
       "    .dataframe thead th {\n",
       "        text-align: right;\n",
       "    }\n",
       "</style>\n",
       "<table border=\"1\" class=\"dataframe\">\n",
       "  <thead>\n",
       "    <tr style=\"text-align: right;\">\n",
       "      <th></th>\n",
       "      <th>user_count</th>\n",
       "      <th>productId</th>\n",
       "    </tr>\n",
       "  </thead>\n",
       "  <tbody>\n",
       "    <tr>\n",
       "      <th>308398</th>\n",
       "      <td>18244</td>\n",
       "      <td>B0074BW614</td>\n",
       "    </tr>\n",
       "    <tr>\n",
       "      <th>429572</th>\n",
       "      <td>16454</td>\n",
       "      <td>B00DR0PDNE</td>\n",
       "    </tr>\n",
       "    <tr>\n",
       "      <th>327308</th>\n",
       "      <td>14172</td>\n",
       "      <td>B007WTAJTO</td>\n",
       "    </tr>\n",
       "    <tr>\n",
       "      <th>102804</th>\n",
       "      <td>12285</td>\n",
       "      <td>B0019EHU8G</td>\n",
       "    </tr>\n",
       "    <tr>\n",
       "      <th>296625</th>\n",
       "      <td>12226</td>\n",
       "      <td>B006GWO5WK</td>\n",
       "    </tr>\n",
       "    <tr>\n",
       "      <th>178601</th>\n",
       "      <td>11617</td>\n",
       "      <td>B003ELYQGG</td>\n",
       "    </tr>\n",
       "    <tr>\n",
       "      <th>178813</th>\n",
       "      <td>10276</td>\n",
       "      <td>B003ES5ZUU</td>\n",
       "    </tr>\n",
       "    <tr>\n",
       "      <th>323013</th>\n",
       "      <td>9907</td>\n",
       "      <td>B007R5YDYA</td>\n",
       "    </tr>\n",
       "    <tr>\n",
       "      <th>289775</th>\n",
       "      <td>9823</td>\n",
       "      <td>B00622AG6S</td>\n",
       "    </tr>\n",
       "    <tr>\n",
       "      <th>30276</th>\n",
       "      <td>9487</td>\n",
       "      <td>B0002L5R78</td>\n",
       "    </tr>\n",
       "  </tbody>\n",
       "</table>\n",
       "</div>"
      ],
      "text/plain": [
       "        user_count   productId\n",
       "308398       18244  B0074BW614\n",
       "429572       16454  B00DR0PDNE\n",
       "327308       14172  B007WTAJTO\n",
       "102804       12285  B0019EHU8G\n",
       "296625       12226  B006GWO5WK\n",
       "178601       11617  B003ELYQGG\n",
       "178813       10276  B003ES5ZUU\n",
       "323013        9907  B007R5YDYA\n",
       "289775        9823  B00622AG6S\n",
       "30276         9487  B0002L5R78"
      ]
     },
     "execution_count": 362,
     "metadata": {
      "tags": []
     },
     "output_type": "execute_result"
    }
   ],
   "source": [
    "# Get the count of purchases for each product\n",
    "dfg_prod_user_counts=df_full.groupby(by='productId',as_index=False).count()[['userId','productId']].rename(columns={'userId':'user_count'})\n",
    "dfg_prod_user_counts.sort_values(by='user_count',ascending=False).head(10)"
   ]
  },
  {
   "cell_type": "code",
   "execution_count": 363,
   "metadata": {
    "colab": {
     "base_uri": "https://localhost:8080/",
     "height": 343
    },
    "colab_type": "code",
    "id": "rnoAZ5_xJPCb",
    "outputId": "c6efa011-b916-4d1e-9b6f-6b0115732db2"
   },
   "outputs": [
    {
     "data": {
      "text/html": [
       "<div>\n",
       "<style scoped>\n",
       "    .dataframe tbody tr th:only-of-type {\n",
       "        vertical-align: middle;\n",
       "    }\n",
       "\n",
       "    .dataframe tbody tr th {\n",
       "        vertical-align: top;\n",
       "    }\n",
       "\n",
       "    .dataframe thead th {\n",
       "        text-align: right;\n",
       "    }\n",
       "</style>\n",
       "<table border=\"1\" class=\"dataframe\">\n",
       "  <thead>\n",
       "    <tr style=\"text-align: right;\">\n",
       "      <th></th>\n",
       "      <th>userId</th>\n",
       "      <th>mean_user_rating</th>\n",
       "    </tr>\n",
       "  </thead>\n",
       "  <tbody>\n",
       "    <tr>\n",
       "      <th>0</th>\n",
       "      <td>A00000262KYZUE4J55XGL</td>\n",
       "      <td>5.0</td>\n",
       "    </tr>\n",
       "    <tr>\n",
       "      <th>1550792</th>\n",
       "      <td>A2E5Z0FJB6EQAX</td>\n",
       "      <td>5.0</td>\n",
       "    </tr>\n",
       "    <tr>\n",
       "      <th>3155246</th>\n",
       "      <td>A3UBAAG67M56ET</td>\n",
       "      <td>5.0</td>\n",
       "    </tr>\n",
       "    <tr>\n",
       "      <th>1550789</th>\n",
       "      <td>A2E5YU75N551K</td>\n",
       "      <td>5.0</td>\n",
       "    </tr>\n",
       "    <tr>\n",
       "      <th>3155247</th>\n",
       "      <td>A3UBAB0AZJQ41O</td>\n",
       "      <td>5.0</td>\n",
       "    </tr>\n",
       "    <tr>\n",
       "      <th>3155248</th>\n",
       "      <td>A3UBABSNYPHVLS</td>\n",
       "      <td>5.0</td>\n",
       "    </tr>\n",
       "    <tr>\n",
       "      <th>1550786</th>\n",
       "      <td>A2E5YQ26BVDMGJ</td>\n",
       "      <td>5.0</td>\n",
       "    </tr>\n",
       "    <tr>\n",
       "      <th>1550785</th>\n",
       "      <td>A2E5YN34J00OY0</td>\n",
       "      <td>5.0</td>\n",
       "    </tr>\n",
       "    <tr>\n",
       "      <th>3155249</th>\n",
       "      <td>A3UBACQC3GKPXM</td>\n",
       "      <td>5.0</td>\n",
       "    </tr>\n",
       "    <tr>\n",
       "      <th>1550782</th>\n",
       "      <td>A2E5YHLO38AT28</td>\n",
       "      <td>5.0</td>\n",
       "    </tr>\n",
       "  </tbody>\n",
       "</table>\n",
       "</div>"
      ],
      "text/plain": [
       "                        userId  mean_user_rating\n",
       "0        A00000262KYZUE4J55XGL               5.0\n",
       "1550792         A2E5Z0FJB6EQAX               5.0\n",
       "3155246         A3UBAAG67M56ET               5.0\n",
       "1550789          A2E5YU75N551K               5.0\n",
       "3155247         A3UBAB0AZJQ41O               5.0\n",
       "3155248         A3UBABSNYPHVLS               5.0\n",
       "1550786         A2E5YQ26BVDMGJ               5.0\n",
       "1550785         A2E5YN34J00OY0               5.0\n",
       "3155249         A3UBACQC3GKPXM               5.0\n",
       "1550782         A2E5YHLO38AT28               5.0"
      ]
     },
     "execution_count": 363,
     "metadata": {
      "tags": []
     },
     "output_type": "execute_result"
    }
   ],
   "source": [
    "# Get the mean rating of each user\n",
    "dfg_mean_user_rating=df_full.groupby(by='userId',as_index=False).mean()[['userId','ratings']].rename(columns={'ratings':'mean_user_rating'})\n",
    "dfg_mean_user_rating.sort_values(by='mean_user_rating',ascending=False).head(10)"
   ]
  },
  {
   "cell_type": "code",
   "execution_count": 364,
   "metadata": {
    "colab": {},
    "colab_type": "code",
    "id": "JjCnkKfHKb59"
   },
   "outputs": [],
   "source": [
    "df_full=pd.merge(left=df_full,right=dfg_mean_user_rating,how='inner',on='userId')"
   ]
  },
  {
   "cell_type": "code",
   "execution_count": 365,
   "metadata": {
    "colab": {},
    "colab_type": "code",
    "id": "NhlWR9H-Mbpt"
   },
   "outputs": [],
   "source": [
    "df_full['rating_minus_user_bias']=df_full['ratings']-df_full['mean_user_rating']"
   ]
  },
  {
   "cell_type": "code",
   "execution_count": 366,
   "metadata": {
    "colab": {
     "base_uri": "https://localhost:8080/",
     "height": 195
    },
    "colab_type": "code",
    "id": "CRQyqnP_M7XJ",
    "outputId": "295f4b4d-a8ba-49fc-973e-11018b649137"
   },
   "outputs": [
    {
     "data": {
      "text/html": [
       "<div>\n",
       "<style scoped>\n",
       "    .dataframe tbody tr th:only-of-type {\n",
       "        vertical-align: middle;\n",
       "    }\n",
       "\n",
       "    .dataframe tbody tr th {\n",
       "        vertical-align: top;\n",
       "    }\n",
       "\n",
       "    .dataframe thead th {\n",
       "        text-align: right;\n",
       "    }\n",
       "</style>\n",
       "<table border=\"1\" class=\"dataframe\">\n",
       "  <thead>\n",
       "    <tr style=\"text-align: right;\">\n",
       "      <th></th>\n",
       "      <th>userId</th>\n",
       "      <th>productId</th>\n",
       "      <th>ratings</th>\n",
       "      <th>mean_user_rating</th>\n",
       "      <th>rating_minus_user_bias</th>\n",
       "    </tr>\n",
       "  </thead>\n",
       "  <tbody>\n",
       "    <tr>\n",
       "      <th>0</th>\n",
       "      <td>AKM1MP6P0OYPR</td>\n",
       "      <td>0132793040</td>\n",
       "      <td>5.0</td>\n",
       "      <td>5.00</td>\n",
       "      <td>0.00</td>\n",
       "    </tr>\n",
       "    <tr>\n",
       "      <th>1</th>\n",
       "      <td>AKM1MP6P0OYPR</td>\n",
       "      <td>B005UEB5TQ</td>\n",
       "      <td>5.0</td>\n",
       "      <td>5.00</td>\n",
       "      <td>0.00</td>\n",
       "    </tr>\n",
       "    <tr>\n",
       "      <th>2</th>\n",
       "      <td>A2CX7LUOHB2NDG</td>\n",
       "      <td>0321732944</td>\n",
       "      <td>5.0</td>\n",
       "      <td>4.75</td>\n",
       "      <td>0.25</td>\n",
       "    </tr>\n",
       "    <tr>\n",
       "      <th>3</th>\n",
       "      <td>A2CX7LUOHB2NDG</td>\n",
       "      <td>B000W3LJ6Y</td>\n",
       "      <td>5.0</td>\n",
       "      <td>4.75</td>\n",
       "      <td>0.25</td>\n",
       "    </tr>\n",
       "    <tr>\n",
       "      <th>4</th>\n",
       "      <td>A2CX7LUOHB2NDG</td>\n",
       "      <td>B001EYU79A</td>\n",
       "      <td>5.0</td>\n",
       "      <td>4.75</td>\n",
       "      <td>0.25</td>\n",
       "    </tr>\n",
       "  </tbody>\n",
       "</table>\n",
       "</div>"
      ],
      "text/plain": [
       "           userId   productId  ...  mean_user_rating  rating_minus_user_bias\n",
       "0   AKM1MP6P0OYPR  0132793040  ...              5.00                    0.00\n",
       "1   AKM1MP6P0OYPR  B005UEB5TQ  ...              5.00                    0.00\n",
       "2  A2CX7LUOHB2NDG  0321732944  ...              4.75                    0.25\n",
       "3  A2CX7LUOHB2NDG  B000W3LJ6Y  ...              4.75                    0.25\n",
       "4  A2CX7LUOHB2NDG  B001EYU79A  ...              4.75                    0.25\n",
       "\n",
       "[5 rows x 5 columns]"
      ]
     },
     "execution_count": 366,
     "metadata": {
      "tags": []
     },
     "output_type": "execute_result"
    }
   ],
   "source": [
    "df_full.head()"
   ]
  },
  {
   "cell_type": "code",
   "execution_count": 367,
   "metadata": {
    "colab": {
     "base_uri": "https://localhost:8080/",
     "height": 343
    },
    "colab_type": "code",
    "id": "44pI8HBQzbUb",
    "outputId": "ec76dfba-41d0-45ab-9247-7e8f580abd00"
   },
   "outputs": [
    {
     "data": {
      "text/html": [
       "<div>\n",
       "<style scoped>\n",
       "    .dataframe tbody tr th:only-of-type {\n",
       "        vertical-align: middle;\n",
       "    }\n",
       "\n",
       "    .dataframe tbody tr th {\n",
       "        vertical-align: top;\n",
       "    }\n",
       "\n",
       "    .dataframe thead th {\n",
       "        text-align: right;\n",
       "    }\n",
       "</style>\n",
       "<table border=\"1\" class=\"dataframe\">\n",
       "  <thead>\n",
       "    <tr style=\"text-align: right;\">\n",
       "      <th></th>\n",
       "      <th>productId</th>\n",
       "      <th>prod_mean_rating</th>\n",
       "    </tr>\n",
       "  </thead>\n",
       "  <tbody>\n",
       "    <tr>\n",
       "      <th>412832</th>\n",
       "      <td>B00CAZ6HMI</td>\n",
       "      <td>3.428571</td>\n",
       "    </tr>\n",
       "    <tr>\n",
       "      <th>15286</th>\n",
       "      <td>B00008IAQ2</td>\n",
       "      <td>3.333333</td>\n",
       "    </tr>\n",
       "    <tr>\n",
       "      <th>315119</th>\n",
       "      <td>B007G7CMVK</td>\n",
       "      <td>3.333333</td>\n",
       "    </tr>\n",
       "    <tr>\n",
       "      <th>466903</th>\n",
       "      <td>B00I8ILBE0</td>\n",
       "      <td>3.333333</td>\n",
       "    </tr>\n",
       "    <tr>\n",
       "      <th>95772</th>\n",
       "      <td>B0014J368O</td>\n",
       "      <td>3.333333</td>\n",
       "    </tr>\n",
       "    <tr>\n",
       "      <th>139176</th>\n",
       "      <td>B002BFW4QA</td>\n",
       "      <td>3.333333</td>\n",
       "    </tr>\n",
       "    <tr>\n",
       "      <th>55582</th>\n",
       "      <td>B000FNBTP2</td>\n",
       "      <td>3.333333</td>\n",
       "    </tr>\n",
       "    <tr>\n",
       "      <th>305530</th>\n",
       "      <td>B00700A7NS</td>\n",
       "      <td>3.250000</td>\n",
       "    </tr>\n",
       "    <tr>\n",
       "      <th>97215</th>\n",
       "      <td>B0015IOTSA</td>\n",
       "      <td>3.200000</td>\n",
       "    </tr>\n",
       "    <tr>\n",
       "      <th>446870</th>\n",
       "      <td>B00FJW69HW</td>\n",
       "      <td>3.200000</td>\n",
       "    </tr>\n",
       "  </tbody>\n",
       "</table>\n",
       "</div>"
      ],
      "text/plain": [
       "         productId  prod_mean_rating\n",
       "412832  B00CAZ6HMI          3.428571\n",
       "15286   B00008IAQ2          3.333333\n",
       "315119  B007G7CMVK          3.333333\n",
       "466903  B00I8ILBE0          3.333333\n",
       "95772   B0014J368O          3.333333\n",
       "139176  B002BFW4QA          3.333333\n",
       "55582   B000FNBTP2          3.333333\n",
       "305530  B00700A7NS          3.250000\n",
       "97215   B0015IOTSA          3.200000\n",
       "446870  B00FJW69HW          3.200000"
      ]
     },
     "execution_count": 367,
     "metadata": {
      "tags": []
     },
     "output_type": "execute_result"
    }
   ],
   "source": [
    "# Get the mean rating for each product based on all the purchases done for that product\n",
    "dfg_prod_user_ratings=df_full.groupby(by='productId',as_index=False).mean()[['productId','rating_minus_user_bias']].rename(columns={'rating_minus_user_bias':'prod_mean_rating'})\n",
    "#dfg_prod_user_ratings['prod_mean_rating']=np.round(dfg_prod_user_ratings['prod_mean_rating'],0)\n",
    "dfg_prod_user_ratings.sort_values(by='prod_mean_rating',ascending=False).head(10)"
   ]
  },
  {
   "cell_type": "code",
   "execution_count": 368,
   "metadata": {
    "colab": {
     "base_uri": "https://localhost:8080/",
     "height": 343
    },
    "colab_type": "code",
    "id": "WoHk2TzvdtOZ",
    "outputId": "7b087cd9-805e-464d-e747-1b77fc1badf1"
   },
   "outputs": [
    {
     "data": {
      "text/html": [
       "<div>\n",
       "<style scoped>\n",
       "    .dataframe tbody tr th:only-of-type {\n",
       "        vertical-align: middle;\n",
       "    }\n",
       "\n",
       "    .dataframe tbody tr th {\n",
       "        vertical-align: top;\n",
       "    }\n",
       "\n",
       "    .dataframe thead th {\n",
       "        text-align: right;\n",
       "    }\n",
       "</style>\n",
       "<table border=\"1\" class=\"dataframe\">\n",
       "  <thead>\n",
       "    <tr style=\"text-align: right;\">\n",
       "      <th></th>\n",
       "      <th>user_count</th>\n",
       "      <th>productId</th>\n",
       "      <th>prod_mean_rating</th>\n",
       "    </tr>\n",
       "  </thead>\n",
       "  <tbody>\n",
       "    <tr>\n",
       "      <th>0</th>\n",
       "      <td>1</td>\n",
       "      <td>0132793040</td>\n",
       "      <td>0.000000</td>\n",
       "    </tr>\n",
       "    <tr>\n",
       "      <th>1</th>\n",
       "      <td>1</td>\n",
       "      <td>0321732944</td>\n",
       "      <td>0.250000</td>\n",
       "    </tr>\n",
       "    <tr>\n",
       "      <th>2</th>\n",
       "      <td>3</td>\n",
       "      <td>0439886341</td>\n",
       "      <td>0.000000</td>\n",
       "    </tr>\n",
       "    <tr>\n",
       "      <th>3</th>\n",
       "      <td>6</td>\n",
       "      <td>0511189877</td>\n",
       "      <td>0.453801</td>\n",
       "    </tr>\n",
       "    <tr>\n",
       "      <th>4</th>\n",
       "      <td>27</td>\n",
       "      <td>0528881469</td>\n",
       "      <td>-0.305409</td>\n",
       "    </tr>\n",
       "    <tr>\n",
       "      <th>5</th>\n",
       "      <td>1</td>\n",
       "      <td>0558835155</td>\n",
       "      <td>-1.000000</td>\n",
       "    </tr>\n",
       "    <tr>\n",
       "      <th>6</th>\n",
       "      <td>3</td>\n",
       "      <td>059400232X</td>\n",
       "      <td>0.000000</td>\n",
       "    </tr>\n",
       "    <tr>\n",
       "      <th>7</th>\n",
       "      <td>8</td>\n",
       "      <td>0594012015</td>\n",
       "      <td>-0.291667</td>\n",
       "    </tr>\n",
       "    <tr>\n",
       "      <th>8</th>\n",
       "      <td>1</td>\n",
       "      <td>0594017343</td>\n",
       "      <td>0.000000</td>\n",
       "    </tr>\n",
       "    <tr>\n",
       "      <th>9</th>\n",
       "      <td>1</td>\n",
       "      <td>0594017580</td>\n",
       "      <td>-1.000000</td>\n",
       "    </tr>\n",
       "  </tbody>\n",
       "</table>\n",
       "</div>"
      ],
      "text/plain": [
       "   user_count   productId  prod_mean_rating\n",
       "0           1  0132793040          0.000000\n",
       "1           1  0321732944          0.250000\n",
       "2           3  0439886341          0.000000\n",
       "3           6  0511189877          0.453801\n",
       "4          27  0528881469         -0.305409\n",
       "5           1  0558835155         -1.000000\n",
       "6           3  059400232X          0.000000\n",
       "7           8  0594012015         -0.291667\n",
       "8           1  0594017343          0.000000\n",
       "9           1  0594017580         -1.000000"
      ]
     },
     "execution_count": 368,
     "metadata": {
      "tags": []
     },
     "output_type": "execute_result"
    }
   ],
   "source": [
    "df_popular_set=pd.merge(left=dfg_prod_user_counts,right=dfg_prod_user_ratings,how='inner',on='productId')\n",
    "df_popular_set.head(10)"
   ]
  },
  {
   "cell_type": "code",
   "execution_count": 369,
   "metadata": {
    "colab": {
     "base_uri": "https://localhost:8080/",
     "height": 314
    },
    "colab_type": "code",
    "id": "84P8kbdrOfe7",
    "outputId": "9b67f06c-aad5-415c-a316-a27b6aca7998"
   },
   "outputs": [
    {
     "data": {
      "text/html": [
       "<div>\n",
       "<style scoped>\n",
       "    .dataframe tbody tr th:only-of-type {\n",
       "        vertical-align: middle;\n",
       "    }\n",
       "\n",
       "    .dataframe tbody tr th {\n",
       "        vertical-align: top;\n",
       "    }\n",
       "\n",
       "    .dataframe thead th {\n",
       "        text-align: right;\n",
       "    }\n",
       "</style>\n",
       "<table border=\"1\" class=\"dataframe\">\n",
       "  <thead>\n",
       "    <tr style=\"text-align: right;\">\n",
       "      <th></th>\n",
       "      <th>rating_minus_user_bias</th>\n",
       "      <th>ratings_count</th>\n",
       "    </tr>\n",
       "  </thead>\n",
       "  <tbody>\n",
       "    <tr>\n",
       "      <th>0</th>\n",
       "      <td>-4.0</td>\n",
       "      <td>5424</td>\n",
       "    </tr>\n",
       "    <tr>\n",
       "      <th>1</th>\n",
       "      <td>-3.0</td>\n",
       "      <td>110412</td>\n",
       "    </tr>\n",
       "    <tr>\n",
       "      <th>2</th>\n",
       "      <td>-2.0</td>\n",
       "      <td>362951</td>\n",
       "    </tr>\n",
       "    <tr>\n",
       "      <th>3</th>\n",
       "      <td>-1.0</td>\n",
       "      <td>519687</td>\n",
       "    </tr>\n",
       "    <tr>\n",
       "      <th>4</th>\n",
       "      <td>0.0</td>\n",
       "      <td>5597050</td>\n",
       "    </tr>\n",
       "    <tr>\n",
       "      <th>5</th>\n",
       "      <td>1.0</td>\n",
       "      <td>964126</td>\n",
       "    </tr>\n",
       "    <tr>\n",
       "      <th>6</th>\n",
       "      <td>2.0</td>\n",
       "      <td>253479</td>\n",
       "    </tr>\n",
       "    <tr>\n",
       "      <th>7</th>\n",
       "      <td>3.0</td>\n",
       "      <td>11335</td>\n",
       "    </tr>\n",
       "    <tr>\n",
       "      <th>8</th>\n",
       "      <td>4.0</td>\n",
       "      <td>18</td>\n",
       "    </tr>\n",
       "  </tbody>\n",
       "</table>\n",
       "</div>"
      ],
      "text/plain": [
       "   rating_minus_user_bias  ratings_count\n",
       "0                    -4.0           5424\n",
       "1                    -3.0         110412\n",
       "2                    -2.0         362951\n",
       "3                    -1.0         519687\n",
       "4                     0.0        5597050\n",
       "5                     1.0         964126\n",
       "6                     2.0         253479\n",
       "7                     3.0          11335\n",
       "8                     4.0             18"
      ]
     },
     "execution_count": 369,
     "metadata": {
      "tags": []
     },
     "output_type": "execute_result"
    }
   ],
   "source": [
    "# Purchase count split based on ratings\n",
    "df_full['rating_minus_user_bias']=np.round(df_full['rating_minus_user_bias'],0)\n",
    "df_full.groupby(by='rating_minus_user_bias',as_index=False).count()[['rating_minus_user_bias','userId']].rename(columns={'userId':'ratings_count'})"
   ]
  },
  {
   "cell_type": "markdown",
   "metadata": {
    "colab_type": "text",
    "id": "12NtTZFwZ4q-"
   },
   "source": [
    "Above negative ratings below -2.0 indicates that these are not good products. Because users who rate generously have rated them bad. <br>\n",
    "Above positive ratings above 2.0 indicates that these are very highly appreciated by users."
   ]
  },
  {
   "cell_type": "code",
   "execution_count": 370,
   "metadata": {
    "colab": {
     "base_uri": "https://localhost:8080/",
     "height": 491
    },
    "colab_type": "code",
    "id": "7lIyswSyQynz",
    "outputId": "0c055bb9-c282-4038-981a-b0eb59abc8e3"
   },
   "outputs": [
    {
     "data": {
      "text/html": [
       "<div>\n",
       "<style scoped>\n",
       "    .dataframe tbody tr th:only-of-type {\n",
       "        vertical-align: middle;\n",
       "    }\n",
       "\n",
       "    .dataframe tbody tr th {\n",
       "        vertical-align: top;\n",
       "    }\n",
       "\n",
       "    .dataframe thead th {\n",
       "        text-align: right;\n",
       "    }\n",
       "</style>\n",
       "<table border=\"1\" class=\"dataframe\">\n",
       "  <thead>\n",
       "    <tr style=\"text-align: right;\">\n",
       "      <th></th>\n",
       "      <th>productId</th>\n",
       "      <th>purch_Count</th>\n",
       "    </tr>\n",
       "  </thead>\n",
       "  <tbody>\n",
       "    <tr>\n",
       "      <th>123991</th>\n",
       "      <td>B00DR0PDNE</td>\n",
       "      <td>1143</td>\n",
       "    </tr>\n",
       "    <tr>\n",
       "      <th>98943</th>\n",
       "      <td>B007WTAJTO</td>\n",
       "      <td>662</td>\n",
       "    </tr>\n",
       "    <tr>\n",
       "      <th>90676</th>\n",
       "      <td>B006GWO5WK</td>\n",
       "      <td>468</td>\n",
       "    </tr>\n",
       "    <tr>\n",
       "      <th>74852</th>\n",
       "      <td>B004QK7HI8</td>\n",
       "      <td>462</td>\n",
       "    </tr>\n",
       "    <tr>\n",
       "      <th>19710</th>\n",
       "      <td>B000I68BD4</td>\n",
       "      <td>457</td>\n",
       "    </tr>\n",
       "    <tr>\n",
       "      <th>110679</th>\n",
       "      <td>B009SYZ8OC</td>\n",
       "      <td>425</td>\n",
       "    </tr>\n",
       "    <tr>\n",
       "      <th>57365</th>\n",
       "      <td>B003ELYQGG</td>\n",
       "      <td>420</td>\n",
       "    </tr>\n",
       "    <tr>\n",
       "      <th>74104</th>\n",
       "      <td>B004OB0EBQ</td>\n",
       "      <td>419</td>\n",
       "    </tr>\n",
       "    <tr>\n",
       "      <th>56657</th>\n",
       "      <td>B003D8GAA0</td>\n",
       "      <td>380</td>\n",
       "    </tr>\n",
       "    <tr>\n",
       "      <th>47734</th>\n",
       "      <td>B002MAPRYU</td>\n",
       "      <td>378</td>\n",
       "    </tr>\n",
       "    <tr>\n",
       "      <th>116318</th>\n",
       "      <td>B00B46XUQU</td>\n",
       "      <td>351</td>\n",
       "    </tr>\n",
       "    <tr>\n",
       "      <th>112152</th>\n",
       "      <td>B00A3YN0Z0</td>\n",
       "      <td>350</td>\n",
       "    </tr>\n",
       "    <tr>\n",
       "      <th>71660</th>\n",
       "      <td>B004HT6TS2</td>\n",
       "      <td>349</td>\n",
       "    </tr>\n",
       "    <tr>\n",
       "      <th>79846</th>\n",
       "      <td>B0053NBLFW</td>\n",
       "      <td>343</td>\n",
       "    </tr>\n",
       "    <tr>\n",
       "      <th>9270</th>\n",
       "      <td>B0002L5R78</td>\n",
       "      <td>340</td>\n",
       "    </tr>\n",
       "  </tbody>\n",
       "</table>\n",
       "</div>"
      ],
      "text/plain": [
       "         productId  purch_Count\n",
       "123991  B00DR0PDNE         1143\n",
       "98943   B007WTAJTO          662\n",
       "90676   B006GWO5WK          468\n",
       "74852   B004QK7HI8          462\n",
       "19710   B000I68BD4          457\n",
       "110679  B009SYZ8OC          425\n",
       "57365   B003ELYQGG          420\n",
       "74104   B004OB0EBQ          419\n",
       "56657   B003D8GAA0          380\n",
       "47734   B002MAPRYU          378\n",
       "116318  B00B46XUQU          351\n",
       "112152  B00A3YN0Z0          350\n",
       "71660   B004HT6TS2          349\n",
       "79846   B0053NBLFW          343\n",
       "9270    B0002L5R78          340"
      ]
     },
     "execution_count": 370,
     "metadata": {
      "tags": []
     },
     "output_type": "execute_result"
    }
   ],
   "source": [
    "# Top 15 products which got bad ratings from even generous customers\n",
    "df_full[df_full['rating_minus_user_bias']<=-2.0].groupby(by='productId',as_index=False).count()[['productId','userId']].rename(columns={'userId':'purch_Count'}).sort_values(by='purch_Count',ascending=False).head(15)"
   ]
  },
  {
   "cell_type": "code",
   "execution_count": 371,
   "metadata": {
    "colab": {
     "base_uri": "https://localhost:8080/",
     "height": 302
    },
    "colab_type": "code",
    "id": "h5rCvda3brj1",
    "outputId": "39894f4f-b739-4602-e0b4-d6e1918632e0"
   },
   "outputs": [
    {
     "data": {
      "text/plain": [
       "<matplotlib.axes._subplots.AxesSubplot at 0x7f638647f128>"
      ]
     },
     "execution_count": 371,
     "metadata": {
      "tags": []
     },
     "output_type": "execute_result"
    },
    {
     "data": {
      "image/png": "[encoded data removed]",
      "text/plain": [
       "<Figure size 432x288 with 1 Axes>"
      ]
     },
     "metadata": {
      "tags": []
     },
     "output_type": "display_data"
    }
   ],
   "source": [
    "# User Rating distribution plot by removing user-bias\n",
    "sns.distplot(df_full.groupby(by='userId').mean()['rating_minus_user_bias'],bins=10)"
   ]
  },
  {
   "cell_type": "code",
   "execution_count": 372,
   "metadata": {
    "colab": {
     "base_uri": "https://localhost:8080/",
     "height": 302
    },
    "colab_type": "code",
    "id": "vYZO5Uxtb22h",
    "outputId": "95a857e7-eee8-409d-ca61-8053a5db9386"
   },
   "outputs": [
    {
     "data": {
      "text/plain": [
       "<matplotlib.axes._subplots.AxesSubplot at 0x7f6386405c18>"
      ]
     },
     "execution_count": 372,
     "metadata": {
      "tags": []
     },
     "output_type": "execute_result"
    },
    {
     "data": {
      "image/png": "[encoded data removed]",
      "text/plain": [
       "<Figure size 432x288 with 1 Axes>"
      ]
     },
     "metadata": {
      "tags": []
     },
     "output_type": "display_data"
    }
   ],
   "source": [
    "# Product Rating distribution plot by removing user-bias\n",
    "sns.distplot(df_full.groupby(by='productId').mean()['rating_minus_user_bias'],bins=10)"
   ]
  },
  {
   "cell_type": "markdown",
   "metadata": {
    "colab_type": "text",
    "id": "zOtebJW3O0VO"
   },
   "source": [
    "Popularity of a product can be identified in many ways. Some of them are:\n",
    "\n",
    "1.   Based on total no. of purchases. Most purchased products can be recommended to all the customers who hasn't bought it.\n",
    "2.   Based on weighted combination of total no. of purchases and ratings that a product has got.Here purchase count and ratings need to be kept under same scale. Weights can be discussed with business and can be built accordingly.\n",
    "\n",
    "Note: For this project, will be doing Approach 1 with variations in it. For Approach 2, we need more functional knowledge. <br>So proceeding with Approach#1.\n"
   ]
  },
  {
   "cell_type": "code",
   "execution_count": 373,
   "metadata": {
    "colab": {},
    "colab_type": "code",
    "id": "Q-8lSwc9zbUk",
    "scrolled": true
   },
   "outputs": [],
   "source": [
    "# Binning the purchase counts\n",
    "df_popular_set['user_count_bin']=pd.cut(x=df_popular_set['user_count'],bins=10,labels=range(0,10,1))"
   ]
  },
  {
   "cell_type": "code",
   "execution_count": 374,
   "metadata": {
    "colab": {},
    "colab_type": "code",
    "id": "Q7-1_SlQ8CIQ"
   },
   "outputs": [],
   "source": [
    "# function which can give popular recommendation\n",
    "def popular_recomm(basis,k=5):\n",
    "    if basis=='UC': # User count\n",
    "        df_p= df_popular_set.sort_values(by=['user_count'],ascending=False)['productId'].head(k)\n",
    "    elif basis=='UC+R': # User count + Rating\n",
    "        df_p= df_popular_set.sort_values(by=['user_count','prod_mean_rating'],ascending=False)['productId'].head(k)\n",
    "    else: # User count bin + Rating\n",
    "        df_p= df_popular_set.sort_values(by=['user_count_bin','prod_mean_rating'],ascending=False)['productId'].head(k)\n",
    "    return list(df_p)\n"
   ]
  },
  {
   "cell_type": "code",
   "execution_count": 375,
   "metadata": {
    "colab": {
     "base_uri": "https://localhost:8080/",
     "height": 343
    },
    "colab_type": "code",
    "id": "c6BA6CMy4zPx",
    "outputId": "13fca974-2a49-4d36-d31b-cf369e3bbb2a"
   },
   "outputs": [
    {
     "data": {
      "text/html": [
       "<div>\n",
       "<style scoped>\n",
       "    .dataframe tbody tr th:only-of-type {\n",
       "        vertical-align: middle;\n",
       "    }\n",
       "\n",
       "    .dataframe tbody tr th {\n",
       "        vertical-align: top;\n",
       "    }\n",
       "\n",
       "    .dataframe thead th {\n",
       "        text-align: right;\n",
       "    }\n",
       "</style>\n",
       "<table border=\"1\" class=\"dataframe\">\n",
       "  <thead>\n",
       "    <tr style=\"text-align: right;\">\n",
       "      <th></th>\n",
       "      <th>user_count</th>\n",
       "      <th>productId</th>\n",
       "      <th>prod_mean_rating</th>\n",
       "      <th>user_count_bin</th>\n",
       "    </tr>\n",
       "  </thead>\n",
       "  <tbody>\n",
       "    <tr>\n",
       "      <th>308398</th>\n",
       "      <td>18244</td>\n",
       "      <td>B0074BW614</td>\n",
       "      <td>0.104641</td>\n",
       "      <td>9</td>\n",
       "    </tr>\n",
       "    <tr>\n",
       "      <th>429572</th>\n",
       "      <td>16454</td>\n",
       "      <td>B00DR0PDNE</td>\n",
       "      <td>-0.051903</td>\n",
       "      <td>9</td>\n",
       "    </tr>\n",
       "    <tr>\n",
       "      <th>327308</th>\n",
       "      <td>14172</td>\n",
       "      <td>B007WTAJTO</td>\n",
       "      <td>0.144296</td>\n",
       "      <td>7</td>\n",
       "    </tr>\n",
       "    <tr>\n",
       "      <th>102804</th>\n",
       "      <td>12285</td>\n",
       "      <td>B0019EHU8G</td>\n",
       "      <td>0.245286</td>\n",
       "      <td>6</td>\n",
       "    </tr>\n",
       "    <tr>\n",
       "      <th>296625</th>\n",
       "      <td>12226</td>\n",
       "      <td>B006GWO5WK</td>\n",
       "      <td>0.022193</td>\n",
       "      <td>6</td>\n",
       "    </tr>\n",
       "    <tr>\n",
       "      <th>178601</th>\n",
       "      <td>11617</td>\n",
       "      <td>B003ELYQGG</td>\n",
       "      <td>0.123465</td>\n",
       "      <td>6</td>\n",
       "    </tr>\n",
       "    <tr>\n",
       "      <th>178813</th>\n",
       "      <td>10276</td>\n",
       "      <td>B003ES5ZUU</td>\n",
       "      <td>0.277606</td>\n",
       "      <td>5</td>\n",
       "    </tr>\n",
       "    <tr>\n",
       "      <th>323013</th>\n",
       "      <td>9907</td>\n",
       "      <td>B007R5YDYA</td>\n",
       "      <td>0.125435</td>\n",
       "      <td>5</td>\n",
       "    </tr>\n",
       "    <tr>\n",
       "      <th>289775</th>\n",
       "      <td>9823</td>\n",
       "      <td>B00622AG6S</td>\n",
       "      <td>0.109617</td>\n",
       "      <td>5</td>\n",
       "    </tr>\n",
       "    <tr>\n",
       "      <th>30276</th>\n",
       "      <td>9487</td>\n",
       "      <td>B0002L5R78</td>\n",
       "      <td>0.139230</td>\n",
       "      <td>5</td>\n",
       "    </tr>\n",
       "  </tbody>\n",
       "</table>\n",
       "</div>"
      ],
      "text/plain": [
       "        user_count   productId  prod_mean_rating user_count_bin\n",
       "308398       18244  B0074BW614          0.104641              9\n",
       "429572       16454  B00DR0PDNE         -0.051903              9\n",
       "327308       14172  B007WTAJTO          0.144296              7\n",
       "102804       12285  B0019EHU8G          0.245286              6\n",
       "296625       12226  B006GWO5WK          0.022193              6\n",
       "178601       11617  B003ELYQGG          0.123465              6\n",
       "178813       10276  B003ES5ZUU          0.277606              5\n",
       "323013        9907  B007R5YDYA          0.125435              5\n",
       "289775        9823  B00622AG6S          0.109617              5\n",
       "30276         9487  B0002L5R78          0.139230              5"
      ]
     },
     "execution_count": 375,
     "metadata": {
      "tags": []
     },
     "output_type": "execute_result"
    }
   ],
   "source": [
    "# Popular recommendation based on user count alone\n",
    "df_popular_set.sort_values(by=['user_count'],ascending=False).head(10)"
   ]
  },
  {
   "cell_type": "code",
   "execution_count": 376,
   "metadata": {
    "colab": {
     "base_uri": "https://localhost:8080/",
     "height": 34
    },
    "colab_type": "code",
    "id": "xz3_5sJC9MLH",
    "outputId": "e80637ff-14d4-4724-e900-47880d604d0e"
   },
   "outputs": [
    {
     "name": "stdout",
     "output_type": "stream",
     "text": [
      "['B0074BW614', 'B00DR0PDNE', 'B007WTAJTO', 'B0019EHU8G', 'B006GWO5WK', 'B003ELYQGG', 'B003ES5ZUU', 'B007R5YDYA', 'B00622AG6S', 'B0002L5R78']\n"
     ]
    }
   ],
   "source": [
    "# Above result can be obtained through below func and arguments\n",
    "print(popular_recomm(basis='UC',k=10))"
   ]
  },
  {
   "cell_type": "code",
   "execution_count": 377,
   "metadata": {
    "colab": {
     "base_uri": "https://localhost:8080/",
     "height": 343
    },
    "colab_type": "code",
    "id": "2tWgASKMuI8i",
    "outputId": "611a8c48-acaa-40bd-f1d6-ec8496ef5fd0"
   },
   "outputs": [
    {
     "data": {
      "text/html": [
       "<div>\n",
       "<style scoped>\n",
       "    .dataframe tbody tr th:only-of-type {\n",
       "        vertical-align: middle;\n",
       "    }\n",
       "\n",
       "    .dataframe tbody tr th {\n",
       "        vertical-align: top;\n",
       "    }\n",
       "\n",
       "    .dataframe thead th {\n",
       "        text-align: right;\n",
       "    }\n",
       "</style>\n",
       "<table border=\"1\" class=\"dataframe\">\n",
       "  <thead>\n",
       "    <tr style=\"text-align: right;\">\n",
       "      <th></th>\n",
       "      <th>user_count</th>\n",
       "      <th>productId</th>\n",
       "      <th>prod_mean_rating</th>\n",
       "      <th>user_count_bin</th>\n",
       "    </tr>\n",
       "  </thead>\n",
       "  <tbody>\n",
       "    <tr>\n",
       "      <th>308398</th>\n",
       "      <td>18244</td>\n",
       "      <td>B0074BW614</td>\n",
       "      <td>0.104641</td>\n",
       "      <td>9</td>\n",
       "    </tr>\n",
       "    <tr>\n",
       "      <th>429572</th>\n",
       "      <td>16454</td>\n",
       "      <td>B00DR0PDNE</td>\n",
       "      <td>-0.051903</td>\n",
       "      <td>9</td>\n",
       "    </tr>\n",
       "    <tr>\n",
       "      <th>327308</th>\n",
       "      <td>14172</td>\n",
       "      <td>B007WTAJTO</td>\n",
       "      <td>0.144296</td>\n",
       "      <td>7</td>\n",
       "    </tr>\n",
       "    <tr>\n",
       "      <th>102804</th>\n",
       "      <td>12285</td>\n",
       "      <td>B0019EHU8G</td>\n",
       "      <td>0.245286</td>\n",
       "      <td>6</td>\n",
       "    </tr>\n",
       "    <tr>\n",
       "      <th>296625</th>\n",
       "      <td>12226</td>\n",
       "      <td>B006GWO5WK</td>\n",
       "      <td>0.022193</td>\n",
       "      <td>6</td>\n",
       "    </tr>\n",
       "    <tr>\n",
       "      <th>178601</th>\n",
       "      <td>11617</td>\n",
       "      <td>B003ELYQGG</td>\n",
       "      <td>0.123465</td>\n",
       "      <td>6</td>\n",
       "    </tr>\n",
       "    <tr>\n",
       "      <th>178813</th>\n",
       "      <td>10276</td>\n",
       "      <td>B003ES5ZUU</td>\n",
       "      <td>0.277606</td>\n",
       "      <td>5</td>\n",
       "    </tr>\n",
       "    <tr>\n",
       "      <th>323013</th>\n",
       "      <td>9907</td>\n",
       "      <td>B007R5YDYA</td>\n",
       "      <td>0.125435</td>\n",
       "      <td>5</td>\n",
       "    </tr>\n",
       "    <tr>\n",
       "      <th>289775</th>\n",
       "      <td>9823</td>\n",
       "      <td>B00622AG6S</td>\n",
       "      <td>0.109617</td>\n",
       "      <td>5</td>\n",
       "    </tr>\n",
       "    <tr>\n",
       "      <th>30276</th>\n",
       "      <td>9487</td>\n",
       "      <td>B0002L5R78</td>\n",
       "      <td>0.139230</td>\n",
       "      <td>5</td>\n",
       "    </tr>\n",
       "  </tbody>\n",
       "</table>\n",
       "</div>"
      ],
      "text/plain": [
       "        user_count   productId  prod_mean_rating user_count_bin\n",
       "308398       18244  B0074BW614          0.104641              9\n",
       "429572       16454  B00DR0PDNE         -0.051903              9\n",
       "327308       14172  B007WTAJTO          0.144296              7\n",
       "102804       12285  B0019EHU8G          0.245286              6\n",
       "296625       12226  B006GWO5WK          0.022193              6\n",
       "178601       11617  B003ELYQGG          0.123465              6\n",
       "178813       10276  B003ES5ZUU          0.277606              5\n",
       "323013        9907  B007R5YDYA          0.125435              5\n",
       "289775        9823  B00622AG6S          0.109617              5\n",
       "30276         9487  B0002L5R78          0.139230              5"
      ]
     },
     "execution_count": 377,
     "metadata": {
      "tags": []
     },
     "output_type": "execute_result"
    }
   ],
   "source": [
    "# Popular recommendation based on user count and product rating\n",
    "df_popular_set.sort_values(by=['user_count','prod_mean_rating'],ascending=False).head(10)"
   ]
  },
  {
   "cell_type": "code",
   "execution_count": 378,
   "metadata": {
    "colab": {
     "base_uri": "https://localhost:8080/",
     "height": 34
    },
    "colab_type": "code",
    "id": "7YhLlblK-LhH",
    "outputId": "3ad496d8-00ed-4513-c6f9-4e80a798d60f"
   },
   "outputs": [
    {
     "name": "stdout",
     "output_type": "stream",
     "text": [
      "['B0074BW614', 'B00DR0PDNE', 'B007WTAJTO', 'B0019EHU8G', 'B006GWO5WK', 'B003ELYQGG', 'B003ES5ZUU', 'B007R5YDYA', 'B00622AG6S', 'B0002L5R78']\n"
     ]
    }
   ],
   "source": [
    "# Above result can be obtained through below func and arguments\n",
    "print(popular_recomm(basis='UC+R',k=10))"
   ]
  },
  {
   "cell_type": "code",
   "execution_count": 379,
   "metadata": {
    "colab": {
     "base_uri": "https://localhost:8080/",
     "height": 343
    },
    "colab_type": "code",
    "id": "U1GiRyuCzbUn",
    "outputId": "36f9f267-d501-49de-e147-d4619968a84b"
   },
   "outputs": [
    {
     "data": {
      "text/html": [
       "<div>\n",
       "<style scoped>\n",
       "    .dataframe tbody tr th:only-of-type {\n",
       "        vertical-align: middle;\n",
       "    }\n",
       "\n",
       "    .dataframe tbody tr th {\n",
       "        vertical-align: top;\n",
       "    }\n",
       "\n",
       "    .dataframe thead th {\n",
       "        text-align: right;\n",
       "    }\n",
       "</style>\n",
       "<table border=\"1\" class=\"dataframe\">\n",
       "  <thead>\n",
       "    <tr style=\"text-align: right;\">\n",
       "      <th></th>\n",
       "      <th>user_count</th>\n",
       "      <th>productId</th>\n",
       "      <th>prod_mean_rating</th>\n",
       "      <th>user_count_bin</th>\n",
       "    </tr>\n",
       "  </thead>\n",
       "  <tbody>\n",
       "    <tr>\n",
       "      <th>308398</th>\n",
       "      <td>18244</td>\n",
       "      <td>B0074BW614</td>\n",
       "      <td>0.104641</td>\n",
       "      <td>9</td>\n",
       "    </tr>\n",
       "    <tr>\n",
       "      <th>429572</th>\n",
       "      <td>16454</td>\n",
       "      <td>B00DR0PDNE</td>\n",
       "      <td>-0.051903</td>\n",
       "      <td>9</td>\n",
       "    </tr>\n",
       "    <tr>\n",
       "      <th>327308</th>\n",
       "      <td>14172</td>\n",
       "      <td>B007WTAJTO</td>\n",
       "      <td>0.144296</td>\n",
       "      <td>7</td>\n",
       "    </tr>\n",
       "    <tr>\n",
       "      <th>102804</th>\n",
       "      <td>12285</td>\n",
       "      <td>B0019EHU8G</td>\n",
       "      <td>0.245286</td>\n",
       "      <td>6</td>\n",
       "    </tr>\n",
       "    <tr>\n",
       "      <th>178601</th>\n",
       "      <td>11617</td>\n",
       "      <td>B003ELYQGG</td>\n",
       "      <td>0.123465</td>\n",
       "      <td>6</td>\n",
       "    </tr>\n",
       "    <tr>\n",
       "      <th>296625</th>\n",
       "      <td>12226</td>\n",
       "      <td>B006GWO5WK</td>\n",
       "      <td>0.022193</td>\n",
       "      <td>6</td>\n",
       "    </tr>\n",
       "    <tr>\n",
       "      <th>178813</th>\n",
       "      <td>10276</td>\n",
       "      <td>B003ES5ZUU</td>\n",
       "      <td>0.277606</td>\n",
       "      <td>5</td>\n",
       "    </tr>\n",
       "    <tr>\n",
       "      <th>30276</th>\n",
       "      <td>9487</td>\n",
       "      <td>B0002L5R78</td>\n",
       "      <td>0.139230</td>\n",
       "      <td>5</td>\n",
       "    </tr>\n",
       "    <tr>\n",
       "      <th>323013</th>\n",
       "      <td>9907</td>\n",
       "      <td>B007R5YDYA</td>\n",
       "      <td>0.125435</td>\n",
       "      <td>5</td>\n",
       "    </tr>\n",
       "    <tr>\n",
       "      <th>289775</th>\n",
       "      <td>9823</td>\n",
       "      <td>B00622AG6S</td>\n",
       "      <td>0.109617</td>\n",
       "      <td>5</td>\n",
       "    </tr>\n",
       "  </tbody>\n",
       "</table>\n",
       "</div>"
      ],
      "text/plain": [
       "        user_count   productId  prod_mean_rating user_count_bin\n",
       "308398       18244  B0074BW614          0.104641              9\n",
       "429572       16454  B00DR0PDNE         -0.051903              9\n",
       "327308       14172  B007WTAJTO          0.144296              7\n",
       "102804       12285  B0019EHU8G          0.245286              6\n",
       "178601       11617  B003ELYQGG          0.123465              6\n",
       "296625       12226  B006GWO5WK          0.022193              6\n",
       "178813       10276  B003ES5ZUU          0.277606              5\n",
       "30276         9487  B0002L5R78          0.139230              5\n",
       "323013        9907  B007R5YDYA          0.125435              5\n",
       "289775        9823  B00622AG6S          0.109617              5"
      ]
     },
     "execution_count": 379,
     "metadata": {
      "tags": []
     },
     "output_type": "execute_result"
    }
   ],
   "source": [
    "# Popular recommendation based on user count bin and product rating\n",
    "# This can help in grouping the counts which are closer and can give better predictions than the actual count based recommendation\n",
    "df_popular_set.sort_values(by=['user_count_bin','prod_mean_rating'],ascending=False).head(10)"
   ]
  },
  {
   "cell_type": "code",
   "execution_count": 380,
   "metadata": {
    "colab": {
     "base_uri": "https://localhost:8080/",
     "height": 34
    },
    "colab_type": "code",
    "id": "fbuJsoQl-kx9",
    "outputId": "7022879f-d1ce-486d-baba-19bac00a7cf7"
   },
   "outputs": [
    {
     "name": "stdout",
     "output_type": "stream",
     "text": [
      "['B0074BW614', 'B00DR0PDNE', 'B007WTAJTO', 'B0019EHU8G', 'B003ELYQGG', 'B006GWO5WK', 'B003ES5ZUU', 'B0002L5R78', 'B007R5YDYA', 'B00622AG6S']\n"
     ]
    }
   ],
   "source": [
    "# Above result can be obtained through below func and arguments\n",
    "print(popular_recomm(basis='UCB+R',k=10))"
   ]
  },
  {
   "cell_type": "markdown",
   "metadata": {
    "colab_type": "text",
    "id": "8fPZL1HkNKEw"
   },
   "source": [
    "If you observe the ranking of the products for the last 3 has been changed between UC/UC+R and UCB+R. <br> In this way binning can help in identifying better products."
   ]
  },
  {
   "cell_type": "code",
   "execution_count": 381,
   "metadata": {
    "colab": {},
    "colab_type": "code",
    "id": "1L4YX8PM3rNz"
   },
   "outputs": [],
   "source": [
    "# releasing the space for collaborative filtering\n",
    "del df_full\n",
    "del dfg_users\n",
    "del dfg_prod_user_counts\n",
    "del dfg_prod_user_ratings"
   ]
  },
  {
   "cell_type": "markdown",
   "metadata": {
    "colab_type": "text",
    "id": "NYCvqN5YzbUr"
   },
   "source": [
    "#### 4. Split the data randomly into a train and test dataset. ( For example, split it in 70/30 ratio) ( 2 marks)"
   ]
  },
  {
   "cell_type": "code",
   "execution_count": 382,
   "metadata": {
    "colab": {
     "base_uri": "https://localhost:8080/",
     "height": 118
    },
    "colab_type": "code",
    "id": "xWucafKR6VrN",
    "outputId": "122f8d9a-ddc5-4c0b-d651-5072c3a06cb0"
   },
   "outputs": [
    {
     "name": "stdout",
     "output_type": "stream",
     "text": [
      "Requirement already satisfied: surprise in /usr/local/lib/python3.6/dist-packages (0.1)\n",
      "Requirement already satisfied: scikit-surprise in /usr/local/lib/python3.6/dist-packages (from surprise) (1.1.0)\n",
      "Requirement already satisfied: scipy>=1.0.0 in /usr/local/lib/python3.6/dist-packages (from scikit-surprise->surprise) (1.4.1)\n",
      "Requirement already satisfied: numpy>=1.11.2 in /usr/local/lib/python3.6/dist-packages (from scikit-surprise->surprise) (1.18.5)\n",
      "Requirement already satisfied: six>=1.10.0 in /usr/local/lib/python3.6/dist-packages (from scikit-surprise->surprise) (1.12.0)\n",
      "Requirement already satisfied: joblib>=0.11 in /usr/local/lib/python3.6/dist-packages (from scikit-surprise->surprise) (0.15.1)\n"
     ]
    }
   ],
   "source": [
    "pip install surprise"
   ]
  },
  {
   "cell_type": "code",
   "execution_count": 383,
   "metadata": {
    "colab": {},
    "colab_type": "code",
    "id": "_4fRMj_AzbUs"
   },
   "outputs": [],
   "source": [
    "#pip install surprise\n",
    "from surprise import Dataset\n",
    "from surprise import Reader\n",
    "from surprise import accuracy\n",
    "from surprise.model_selection import train_test_split"
   ]
  },
  {
   "cell_type": "code",
   "execution_count": 384,
   "metadata": {
    "colab": {},
    "colab_type": "code",
    "id": "jVAS7iVCzbUv"
   },
   "outputs": [],
   "source": [
    "# A reader is still needed but only the rating_scale param is requiered.\n",
    "reader = Reader(rating_scale=(df['ratings'].min(), df['ratings'].max()))\n",
    "\n",
    "\n",
    "# The columns must correspond to user id, item id and ratings (in that order).\n",
    "data = Dataset.load_from_df(df[['userId', 'productId', 'ratings']], reader)"
   ]
  },
  {
   "cell_type": "code",
   "execution_count": 385,
   "metadata": {
    "colab": {},
    "colab_type": "code",
    "id": "6tE2OfWgzbU1"
   },
   "outputs": [],
   "source": [
    "trainset, testset = train_test_split(data, test_size=.3,random_state=1)"
   ]
  },
  {
   "cell_type": "markdown",
   "metadata": {
    "colab_type": "text",
    "id": "3BDmMBUczbU5"
   },
   "source": [
    "#### 5. Build Collaborative Filtering model. ( 20 marks)"
   ]
  },
  {
   "cell_type": "markdown",
   "metadata": {
    "colab_type": "text",
    "id": "qhHSu5fyzbU6"
   },
   "source": [
    "#### Strategy:\n",
    "\n",
    "1. Use dense matrix built with customers who have purchased more than 50 products.\n",
    "2. Build models with below alogirthms:\n",
    "\n",
    "   1. KNNBasic\n",
    "   2. KNNWithMeans\n",
    "   3. KNNWithZScore\n",
    "   4. KNNBaseline\n",
    "   5. SVD\n",
    "\n",
    "3. For above mentioned algos, for memory based KNNs, lets go with user-user based recommendations as the dense matrix is built based on user level.\n"
   ]
  },
  {
   "cell_type": "code",
   "execution_count": 386,
   "metadata": {
    "colab": {},
    "colab_type": "code",
    "id": "0SHWvaRszbU7"
   },
   "outputs": [],
   "source": [
    "# Store performance of each model in this list\n",
    "model_results=[]\n",
    "\n",
    "def generic_model(model,Tuned=False):\n",
    "    algo = model\n",
    "    if Tuned == True:\n",
    "        algo_model_name=model.__class__.__name__+'_Tuned'\n",
    "    else:\n",
    "        algo=algo.fit(trainset)\n",
    "        algo_model_name=model.__class__.__name__\n",
    "\n",
    "    test_pred = algo.test(testset)\n",
    "    test_rmse=accuracy.rmse(test_pred)\n",
    "    test_mae=accuracy.mae(test_pred)\n",
    "    model_results.append({algo_model_name:[np.round(test_rmse,4),\n",
    "                                           np.round(test_mae,4)]})"
   ]
  },
  {
   "cell_type": "markdown",
   "metadata": {
    "colab_type": "text",
    "id": "gkO1OhkezbU-"
   },
   "source": [
    "#### KNNBasic"
   ]
  },
  {
   "cell_type": "code",
   "execution_count": 387,
   "metadata": {
    "colab": {},
    "colab_type": "code",
    "id": "t80wihcKzbU-"
   },
   "outputs": [],
   "source": [
    "from surprise import KNNBasic"
   ]
  },
  {
   "cell_type": "code",
   "execution_count": 388,
   "metadata": {
    "colab": {
     "base_uri": "https://localhost:8080/",
     "height": 84
    },
    "colab_type": "code",
    "id": "7EhF-ZAvzbVA",
    "outputId": "ef4e8af8-f1eb-44c1-c524-62e5fd99ca13",
    "scrolled": true
   },
   "outputs": [
    {
     "name": "stdout",
     "output_type": "stream",
     "text": [
      "Computing the msd similarity matrix...\n",
      "Done computing similarity matrix.\n",
      "RMSE: 1.1184\n",
      "MAE:  0.8058\n"
     ]
    }
   ],
   "source": [
    "# user-user based collaborative filtering\n",
    "generic_model(KNNBasic())"
   ]
  },
  {
   "cell_type": "markdown",
   "metadata": {
    "colab_type": "text",
    "id": "BHO0DMI0zbVU"
   },
   "source": [
    "#### KNNWithMeans"
   ]
  },
  {
   "cell_type": "code",
   "execution_count": 389,
   "metadata": {
    "colab": {},
    "colab_type": "code",
    "id": "A1es2Pp4zbVV"
   },
   "outputs": [],
   "source": [
    "from surprise import KNNWithMeans"
   ]
  },
  {
   "cell_type": "code",
   "execution_count": 390,
   "metadata": {
    "colab": {
     "base_uri": "https://localhost:8080/",
     "height": 84
    },
    "colab_type": "code",
    "id": "TZe0XuQAzbVY",
    "outputId": "86d71bcd-9300-4ed2-f1ec-40e49cacd31d",
    "scrolled": true
   },
   "outputs": [
    {
     "name": "stdout",
     "output_type": "stream",
     "text": [
      "Computing the msd similarity matrix...\n",
      "Done computing similarity matrix.\n",
      "RMSE: 1.0711\n",
      "MAE:  0.7738\n"
     ]
    }
   ],
   "source": [
    "# user-based collaborative filtering\n",
    "generic_model(KNNWithMeans())"
   ]
  },
  {
   "cell_type": "markdown",
   "metadata": {
    "colab_type": "text",
    "id": "bXK20AH5zbVc"
   },
   "source": [
    "#### KNNWithZScore"
   ]
  },
  {
   "cell_type": "code",
   "execution_count": 391,
   "metadata": {
    "colab": {},
    "colab_type": "code",
    "id": "IjISy75JzbVf"
   },
   "outputs": [],
   "source": [
    "from surprise import KNNWithZScore"
   ]
  },
  {
   "cell_type": "code",
   "execution_count": 392,
   "metadata": {
    "colab": {
     "base_uri": "https://localhost:8080/",
     "height": 84
    },
    "colab_type": "code",
    "id": "S3VScvl5zbVm",
    "outputId": "414569a1-de23-496c-b5f9-6e8a3e815bc1",
    "scrolled": true
   },
   "outputs": [
    {
     "name": "stdout",
     "output_type": "stream",
     "text": [
      "Computing the msd similarity matrix...\n",
      "Done computing similarity matrix.\n",
      "RMSE: 1.0743\n",
      "MAE:  0.7706\n"
     ]
    }
   ],
   "source": [
    "# user-based collaborative filtering\n",
    "generic_model(KNNWithZScore())"
   ]
  },
  {
   "cell_type": "markdown",
   "metadata": {
    "colab_type": "text",
    "id": "i4raQAQ4zbVq"
   },
   "source": [
    "#### KNNBaseline"
   ]
  },
  {
   "cell_type": "code",
   "execution_count": 393,
   "metadata": {
    "colab": {},
    "colab_type": "code",
    "id": "pkbKJjYLzbVr"
   },
   "outputs": [],
   "source": [
    "from surprise import KNNBaseline"
   ]
  },
  {
   "cell_type": "code",
   "execution_count": 394,
   "metadata": {
    "colab": {
     "base_uri": "https://localhost:8080/",
     "height": 101
    },
    "colab_type": "code",
    "id": "MZQuqqR0zbVw",
    "outputId": "de115327-c352-4beb-d606-6830e8f3f492",
    "scrolled": true
   },
   "outputs": [
    {
     "name": "stdout",
     "output_type": "stream",
     "text": [
      "Estimating biases using als...\n",
      "Computing the msd similarity matrix...\n",
      "Done computing similarity matrix.\n",
      "RMSE: 1.0506\n",
      "MAE:  0.7533\n"
     ]
    }
   ],
   "source": [
    "# user-based collaborative filtering\n",
    "generic_model(KNNBaseline())"
   ]
  },
  {
   "cell_type": "markdown",
   "metadata": {
    "colab_type": "text",
    "id": "VW1v7fkHzbVz"
   },
   "source": [
    "#### SVD"
   ]
  },
  {
   "cell_type": "code",
   "execution_count": 395,
   "metadata": {
    "colab": {},
    "colab_type": "code",
    "id": "cl2w1TU4zbV0"
   },
   "outputs": [],
   "source": [
    "from surprise import SVD"
   ]
  },
  {
   "cell_type": "code",
   "execution_count": 396,
   "metadata": {
    "colab": {
     "base_uri": "https://localhost:8080/",
     "height": 50
    },
    "colab_type": "code",
    "id": "5NQWTmJAzbV5",
    "outputId": "c90306e7-a052-414a-927f-1db99e648a00",
    "scrolled": true
   },
   "outputs": [
    {
     "name": "stdout",
     "output_type": "stream",
     "text": [
      "RMSE: 0.9877\n",
      "MAE:  0.7294\n"
     ]
    }
   ],
   "source": [
    "# user-based collaborative filtering\n",
    "generic_model(SVD())"
   ]
  },
  {
   "cell_type": "markdown",
   "metadata": {
    "colab_type": "text",
    "id": "k89nBTWMzbWF"
   },
   "source": [
    "#### Hyperparameter Tuning:"
   ]
  },
  {
   "cell_type": "markdown",
   "metadata": {
    "colab_type": "text",
    "id": "ovXcE4iI39Bz"
   },
   "source": [
    "Strategy: lets do tuning based on RMSE alone as we are short of resources and capture both RMSE and MAE for that tuned model."
   ]
  },
  {
   "cell_type": "markdown",
   "metadata": {
    "colab_type": "text",
    "id": "seN_yuh4zbWF"
   },
   "source": [
    "#### KNNBasic"
   ]
  },
  {
   "cell_type": "code",
   "execution_count": 397,
   "metadata": {
    "colab": {},
    "colab_type": "code",
    "id": "aV78A1TpzbWG"
   },
   "outputs": [],
   "source": [
    "from surprise.model_selection import GridSearchCV"
   ]
  },
  {
   "cell_type": "code",
   "execution_count": 398,
   "metadata": {
    "colab": {},
    "colab_type": "code",
    "id": "_Arf9Df8zbWH"
   },
   "outputs": [],
   "source": [
    "def generic_hyper_param_tuning_model(model,model_params):\n",
    "    gs=GridSearchCV(algo_class=model,param_grid=model_params,measures=['rmse'],n_jobs=-1,cv=3,refit=True,joblib_verbose=1)\n",
    "    gs.fit(data)\n",
    "    return gs"
   ]
  },
  {
   "cell_type": "code",
   "execution_count": 237,
   "metadata": {
    "colab": {
     "base_uri": "https://localhost:8080/",
     "height": 101
    },
    "colab_type": "code",
    "id": "4IfUGbeizbWK",
    "outputId": "c748f0b5-3518-402f-aef2-c9db4486de72"
   },
   "outputs": [
    {
     "name": "stderr",
     "output_type": "stream",
     "text": [
      "[Parallel(n_jobs=-1)]: Using backend LokyBackend with 2 concurrent workers.\n",
      "[Parallel(n_jobs=-1)]: Done  46 tasks      | elapsed:  2.6min\n",
      "[Parallel(n_jobs=-1)]: Done 108 out of 108 | elapsed:  6.1min finished\n"
     ]
    },
    {
     "name": "stdout",
     "output_type": "stream",
     "text": [
      "Computing the cosine similarity matrix...\n",
      "Done computing similarity matrix.\n"
     ]
    }
   ],
   "source": [
    "#algos=[KNNBasic(),KNNWithMeans(),KNNWithZScore(),KNNBaseline()]\n",
    "algo=KNNBasic\n",
    "algo_params={'k' : [25,50,75],'min_k':[10,25,50],\n",
    "             'sim_options':{'name':['cosine','pearson_baseline'],'min_support':[25,50],'user_based': [True]}}\n",
    "gs=generic_hyper_param_tuning_model(algo,algo_params)"
   ]
  },
  {
   "cell_type": "code",
   "execution_count": 238,
   "metadata": {
    "colab": {
     "base_uri": "https://localhost:8080/",
     "height": 867
    },
    "colab_type": "code",
    "id": "l5t4nGRuAXot",
    "outputId": "d0242e95-9d89-4d87-c6ca-3621aff232f0"
   },
   "outputs": [
    {
     "data": {
      "text/html": [
       "<div>\n",
       "<style scoped>\n",
       "    .dataframe tbody tr th:only-of-type {\n",
       "        vertical-align: middle;\n",
       "    }\n",
       "\n",
       "    .dataframe tbody tr th {\n",
       "        vertical-align: top;\n",
       "    }\n",
       "\n",
       "    .dataframe thead th {\n",
       "        text-align: right;\n",
       "    }\n",
       "</style>\n",
       "<table border=\"1\" class=\"dataframe\">\n",
       "  <thead>\n",
       "    <tr style=\"text-align: right;\">\n",
       "      <th></th>\n",
       "      <th>split0_test_rmse</th>\n",
       "      <th>split1_test_rmse</th>\n",
       "      <th>split2_test_rmse</th>\n",
       "      <th>mean_test_rmse</th>\n",
       "      <th>std_test_rmse</th>\n",
       "      <th>rank_test_rmse</th>\n",
       "      <th>mean_fit_time</th>\n",
       "      <th>std_fit_time</th>\n",
       "      <th>mean_test_time</th>\n",
       "      <th>std_test_time</th>\n",
       "      <th>params</th>\n",
       "      <th>param_k</th>\n",
       "      <th>param_min_k</th>\n",
       "      <th>param_sim_options</th>\n",
       "    </tr>\n",
       "  </thead>\n",
       "  <tbody>\n",
       "    <tr>\n",
       "      <th>0</th>\n",
       "      <td>1.065163</td>\n",
       "      <td>1.062607</td>\n",
       "      <td>1.058658</td>\n",
       "      <td>1.062143</td>\n",
       "      <td>0.002676</td>\n",
       "      <td>1</td>\n",
       "      <td>0.190963</td>\n",
       "      <td>0.021018</td>\n",
       "      <td>1.231572</td>\n",
       "      <td>0.031351</td>\n",
       "      <td>{'k': 25, 'min_k': 10, 'sim_options': {'name':...</td>\n",
       "      <td>25</td>\n",
       "      <td>10</td>\n",
       "      <td>{'name': 'cosine', 'min_support': 25, 'user_ba...</td>\n",
       "    </tr>\n",
       "    <tr>\n",
       "      <th>20</th>\n",
       "      <td>1.065163</td>\n",
       "      <td>1.062607</td>\n",
       "      <td>1.058658</td>\n",
       "      <td>1.062143</td>\n",
       "      <td>0.002676</td>\n",
       "      <td>2</td>\n",
       "      <td>0.171651</td>\n",
       "      <td>0.010025</td>\n",
       "      <td>1.239299</td>\n",
       "      <td>0.009463</td>\n",
       "      <td>{'k': 50, 'min_k': 50, 'sim_options': {'name':...</td>\n",
       "      <td>50</td>\n",
       "      <td>50</td>\n",
       "      <td>{'name': 'cosine', 'min_support': 25, 'user_ba...</td>\n",
       "    </tr>\n",
       "    <tr>\n",
       "      <th>21</th>\n",
       "      <td>1.065163</td>\n",
       "      <td>1.062607</td>\n",
       "      <td>1.058658</td>\n",
       "      <td>1.062143</td>\n",
       "      <td>0.002676</td>\n",
       "      <td>3</td>\n",
       "      <td>0.159428</td>\n",
       "      <td>0.003551</td>\n",
       "      <td>1.226956</td>\n",
       "      <td>0.022351</td>\n",
       "      <td>{'k': 50, 'min_k': 50, 'sim_options': {'name':...</td>\n",
       "      <td>50</td>\n",
       "      <td>50</td>\n",
       "      <td>{'name': 'cosine', 'min_support': 50, 'user_ba...</td>\n",
       "    </tr>\n",
       "    <tr>\n",
       "      <th>22</th>\n",
       "      <td>1.065163</td>\n",
       "      <td>1.062607</td>\n",
       "      <td>1.058658</td>\n",
       "      <td>1.062143</td>\n",
       "      <td>0.002676</td>\n",
       "      <td>4</td>\n",
       "      <td>0.463674</td>\n",
       "      <td>0.002543</td>\n",
       "      <td>1.228394</td>\n",
       "      <td>0.013934</td>\n",
       "      <td>{'k': 50, 'min_k': 50, 'sim_options': {'name':...</td>\n",
       "      <td>50</td>\n",
       "      <td>50</td>\n",
       "      <td>{'name': 'pearson_baseline', 'min_support': 25...</td>\n",
       "    </tr>\n",
       "    <tr>\n",
       "      <th>23</th>\n",
       "      <td>1.065163</td>\n",
       "      <td>1.062607</td>\n",
       "      <td>1.058658</td>\n",
       "      <td>1.062143</td>\n",
       "      <td>0.002676</td>\n",
       "      <td>5</td>\n",
       "      <td>0.462185</td>\n",
       "      <td>0.005756</td>\n",
       "      <td>1.227499</td>\n",
       "      <td>0.008530</td>\n",
       "      <td>{'k': 50, 'min_k': 50, 'sim_options': {'name':...</td>\n",
       "      <td>50</td>\n",
       "      <td>50</td>\n",
       "      <td>{'name': 'pearson_baseline', 'min_support': 50...</td>\n",
       "    </tr>\n",
       "    <tr>\n",
       "      <th>24</th>\n",
       "      <td>1.065163</td>\n",
       "      <td>1.062607</td>\n",
       "      <td>1.058658</td>\n",
       "      <td>1.062143</td>\n",
       "      <td>0.002676</td>\n",
       "      <td>6</td>\n",
       "      <td>0.166146</td>\n",
       "      <td>0.008337</td>\n",
       "      <td>1.232892</td>\n",
       "      <td>0.021400</td>\n",
       "      <td>{'k': 75, 'min_k': 10, 'sim_options': {'name':...</td>\n",
       "      <td>75</td>\n",
       "      <td>10</td>\n",
       "      <td>{'name': 'cosine', 'min_support': 25, 'user_ba...</td>\n",
       "    </tr>\n",
       "    <tr>\n",
       "      <th>25</th>\n",
       "      <td>1.065163</td>\n",
       "      <td>1.062607</td>\n",
       "      <td>1.058658</td>\n",
       "      <td>1.062143</td>\n",
       "      <td>0.002676</td>\n",
       "      <td>7</td>\n",
       "      <td>0.164240</td>\n",
       "      <td>0.012379</td>\n",
       "      <td>1.222900</td>\n",
       "      <td>0.007378</td>\n",
       "      <td>{'k': 75, 'min_k': 10, 'sim_options': {'name':...</td>\n",
       "      <td>75</td>\n",
       "      <td>10</td>\n",
       "      <td>{'name': 'cosine', 'min_support': 50, 'user_ba...</td>\n",
       "    </tr>\n",
       "    <tr>\n",
       "      <th>19</th>\n",
       "      <td>1.065163</td>\n",
       "      <td>1.062607</td>\n",
       "      <td>1.058658</td>\n",
       "      <td>1.062143</td>\n",
       "      <td>0.002676</td>\n",
       "      <td>8</td>\n",
       "      <td>0.462708</td>\n",
       "      <td>0.010566</td>\n",
       "      <td>1.219280</td>\n",
       "      <td>0.004798</td>\n",
       "      <td>{'k': 50, 'min_k': 25, 'sim_options': {'name':...</td>\n",
       "      <td>50</td>\n",
       "      <td>25</td>\n",
       "      <td>{'name': 'pearson_baseline', 'min_support': 50...</td>\n",
       "    </tr>\n",
       "    <tr>\n",
       "      <th>26</th>\n",
       "      <td>1.065163</td>\n",
       "      <td>1.062607</td>\n",
       "      <td>1.058658</td>\n",
       "      <td>1.062143</td>\n",
       "      <td>0.002676</td>\n",
       "      <td>9</td>\n",
       "      <td>0.471559</td>\n",
       "      <td>0.002489</td>\n",
       "      <td>1.222941</td>\n",
       "      <td>0.003249</td>\n",
       "      <td>{'k': 75, 'min_k': 10, 'sim_options': {'name':...</td>\n",
       "      <td>75</td>\n",
       "      <td>10</td>\n",
       "      <td>{'name': 'pearson_baseline', 'min_support': 25...</td>\n",
       "    </tr>\n",
       "    <tr>\n",
       "      <th>28</th>\n",
       "      <td>1.065163</td>\n",
       "      <td>1.062607</td>\n",
       "      <td>1.058658</td>\n",
       "      <td>1.062143</td>\n",
       "      <td>0.002676</td>\n",
       "      <td>10</td>\n",
       "      <td>0.164675</td>\n",
       "      <td>0.007566</td>\n",
       "      <td>1.237571</td>\n",
       "      <td>0.008933</td>\n",
       "      <td>{'k': 75, 'min_k': 25, 'sim_options': {'name':...</td>\n",
       "      <td>75</td>\n",
       "      <td>25</td>\n",
       "      <td>{'name': 'cosine', 'min_support': 25, 'user_ba...</td>\n",
       "    </tr>\n",
       "  </tbody>\n",
       "</table>\n",
       "</div>"
      ],
      "text/plain": [
       "    split0_test_rmse  ...                                  param_sim_options\n",
       "0           1.065163  ...  {'name': 'cosine', 'min_support': 25, 'user_ba...\n",
       "20          1.065163  ...  {'name': 'cosine', 'min_support': 25, 'user_ba...\n",
       "21          1.065163  ...  {'name': 'cosine', 'min_support': 50, 'user_ba...\n",
       "22          1.065163  ...  {'name': 'pearson_baseline', 'min_support': 25...\n",
       "23          1.065163  ...  {'name': 'pearson_baseline', 'min_support': 50...\n",
       "24          1.065163  ...  {'name': 'cosine', 'min_support': 25, 'user_ba...\n",
       "25          1.065163  ...  {'name': 'cosine', 'min_support': 50, 'user_ba...\n",
       "19          1.065163  ...  {'name': 'pearson_baseline', 'min_support': 50...\n",
       "26          1.065163  ...  {'name': 'pearson_baseline', 'min_support': 25...\n",
       "28          1.065163  ...  {'name': 'cosine', 'min_support': 25, 'user_ba...\n",
       "\n",
       "[10 rows x 14 columns]"
      ]
     },
     "execution_count": 238,
     "metadata": {
      "tags": []
     },
     "output_type": "execute_result"
    }
   ],
   "source": [
    "pd.DataFrame(gs.cv_results).sort_values(by='rank_test_rmse',ascending=True).head(10)"
   ]
  },
  {
   "cell_type": "code",
   "execution_count": 239,
   "metadata": {
    "colab": {
     "base_uri": "https://localhost:8080/",
     "height": 67
    },
    "colab_type": "code",
    "id": "lgtEAZQvzbWP",
    "outputId": "87c9bb69-fd64-4b63-cb29-b8f811ebb350"
   },
   "outputs": [
    {
     "data": {
      "text/plain": [
       "{'rmse': {'k': 25,\n",
       "  'min_k': 10,\n",
       "  'sim_options': {'min_support': 25, 'name': 'cosine', 'user_based': True}}}"
      ]
     },
     "execution_count": 239,
     "metadata": {
      "tags": []
     },
     "output_type": "execute_result"
    }
   ],
   "source": [
    "gs.best_params"
   ]
  },
  {
   "cell_type": "code",
   "execution_count": 240,
   "metadata": {
    "colab": {
     "base_uri": "https://localhost:8080/",
     "height": 50
    },
    "colab_type": "code",
    "id": "dxV0M4JKCfL9",
    "outputId": "560b2906-7c0c-4a38-9363-c1dc8ab3343d"
   },
   "outputs": [
    {
     "name": "stdout",
     "output_type": "stream",
     "text": [
      "RMSE: 1.0661\n",
      "MAE:  0.8363\n"
     ]
    }
   ],
   "source": [
    "# user-based collaborative filtering\n",
    "generic_model(model=gs.best_estimator['rmse'], Tuned=True)"
   ]
  },
  {
   "cell_type": "markdown",
   "metadata": {
    "colab_type": "text",
    "id": "ORP3v6qgzbWV"
   },
   "source": [
    "#### KNNWithMeans"
   ]
  },
  {
   "cell_type": "code",
   "execution_count": 241,
   "metadata": {
    "colab": {
     "base_uri": "https://localhost:8080/",
     "height": 101
    },
    "colab_type": "code",
    "id": "3w9lvO8GzbWW",
    "outputId": "cfdaae96-aad1-4604-855f-07a84f2c7f52"
   },
   "outputs": [
    {
     "name": "stderr",
     "output_type": "stream",
     "text": [
      "[Parallel(n_jobs=-1)]: Using backend LokyBackend with 2 concurrent workers.\n",
      "[Parallel(n_jobs=-1)]: Done  46 tasks      | elapsed:  2.7min\n",
      "[Parallel(n_jobs=-1)]: Done 108 out of 108 | elapsed:  6.2min finished\n"
     ]
    },
    {
     "name": "stdout",
     "output_type": "stream",
     "text": [
      "Computing the cosine similarity matrix...\n",
      "Done computing similarity matrix.\n"
     ]
    }
   ],
   "source": [
    "#algos=[KNNBasic(),KNNWithMeans(),KNNWithZScore(),KNNBaseline()]\n",
    "algo=KNNWithMeans\n",
    "algo_params={'k' : [25,50,75],'min_k':[10,25,50],\n",
    "             'sim_options':{'name':['cosine','pearson_baseline'],'min_support':[25,50],'user_based': [True]}}\n",
    "gs=generic_hyper_param_tuning_model(algo,algo_params)"
   ]
  },
  {
   "cell_type": "code",
   "execution_count": 242,
   "metadata": {
    "colab": {
     "base_uri": "https://localhost:8080/",
     "height": 867
    },
    "colab_type": "code",
    "id": "g7MmiC96AVUW",
    "outputId": "076d7b78-ddd2-4f93-849b-5b87a4a997ee"
   },
   "outputs": [
    {
     "data": {
      "text/html": [
       "<div>\n",
       "<style scoped>\n",
       "    .dataframe tbody tr th:only-of-type {\n",
       "        vertical-align: middle;\n",
       "    }\n",
       "\n",
       "    .dataframe tbody tr th {\n",
       "        vertical-align: top;\n",
       "    }\n",
       "\n",
       "    .dataframe thead th {\n",
       "        text-align: right;\n",
       "    }\n",
       "</style>\n",
       "<table border=\"1\" class=\"dataframe\">\n",
       "  <thead>\n",
       "    <tr style=\"text-align: right;\">\n",
       "      <th></th>\n",
       "      <th>split0_test_rmse</th>\n",
       "      <th>split1_test_rmse</th>\n",
       "      <th>split2_test_rmse</th>\n",
       "      <th>mean_test_rmse</th>\n",
       "      <th>std_test_rmse</th>\n",
       "      <th>rank_test_rmse</th>\n",
       "      <th>mean_fit_time</th>\n",
       "      <th>std_fit_time</th>\n",
       "      <th>mean_test_time</th>\n",
       "      <th>std_test_time</th>\n",
       "      <th>params</th>\n",
       "      <th>param_k</th>\n",
       "      <th>param_min_k</th>\n",
       "      <th>param_sim_options</th>\n",
       "    </tr>\n",
       "  </thead>\n",
       "  <tbody>\n",
       "    <tr>\n",
       "      <th>0</th>\n",
       "      <td>1.024357</td>\n",
       "      <td>1.027327</td>\n",
       "      <td>1.032679</td>\n",
       "      <td>1.028121</td>\n",
       "      <td>0.003444</td>\n",
       "      <td>1</td>\n",
       "      <td>0.206798</td>\n",
       "      <td>0.001725</td>\n",
       "      <td>1.269401</td>\n",
       "      <td>0.008875</td>\n",
       "      <td>{'k': 25, 'min_k': 10, 'sim_options': {'name':...</td>\n",
       "      <td>25</td>\n",
       "      <td>10</td>\n",
       "      <td>{'name': 'cosine', 'min_support': 25, 'user_ba...</td>\n",
       "    </tr>\n",
       "    <tr>\n",
       "      <th>20</th>\n",
       "      <td>1.024357</td>\n",
       "      <td>1.027327</td>\n",
       "      <td>1.032679</td>\n",
       "      <td>1.028121</td>\n",
       "      <td>0.003444</td>\n",
       "      <td>2</td>\n",
       "      <td>0.216188</td>\n",
       "      <td>0.011525</td>\n",
       "      <td>1.237319</td>\n",
       "      <td>0.018602</td>\n",
       "      <td>{'k': 50, 'min_k': 50, 'sim_options': {'name':...</td>\n",
       "      <td>50</td>\n",
       "      <td>50</td>\n",
       "      <td>{'name': 'cosine', 'min_support': 25, 'user_ba...</td>\n",
       "    </tr>\n",
       "    <tr>\n",
       "      <th>21</th>\n",
       "      <td>1.024357</td>\n",
       "      <td>1.027327</td>\n",
       "      <td>1.032679</td>\n",
       "      <td>1.028121</td>\n",
       "      <td>0.003444</td>\n",
       "      <td>3</td>\n",
       "      <td>0.209554</td>\n",
       "      <td>0.010334</td>\n",
       "      <td>1.274076</td>\n",
       "      <td>0.018855</td>\n",
       "      <td>{'k': 50, 'min_k': 50, 'sim_options': {'name':...</td>\n",
       "      <td>50</td>\n",
       "      <td>50</td>\n",
       "      <td>{'name': 'cosine', 'min_support': 50, 'user_ba...</td>\n",
       "    </tr>\n",
       "    <tr>\n",
       "      <th>22</th>\n",
       "      <td>1.024357</td>\n",
       "      <td>1.027327</td>\n",
       "      <td>1.032679</td>\n",
       "      <td>1.028121</td>\n",
       "      <td>0.003444</td>\n",
       "      <td>4</td>\n",
       "      <td>0.500275</td>\n",
       "      <td>0.003404</td>\n",
       "      <td>1.221052</td>\n",
       "      <td>0.013914</td>\n",
       "      <td>{'k': 50, 'min_k': 50, 'sim_options': {'name':...</td>\n",
       "      <td>50</td>\n",
       "      <td>50</td>\n",
       "      <td>{'name': 'pearson_baseline', 'min_support': 25...</td>\n",
       "    </tr>\n",
       "    <tr>\n",
       "      <th>23</th>\n",
       "      <td>1.024357</td>\n",
       "      <td>1.027327</td>\n",
       "      <td>1.032679</td>\n",
       "      <td>1.028121</td>\n",
       "      <td>0.003444</td>\n",
       "      <td>5</td>\n",
       "      <td>0.494105</td>\n",
       "      <td>0.018796</td>\n",
       "      <td>1.202103</td>\n",
       "      <td>0.036682</td>\n",
       "      <td>{'k': 50, 'min_k': 50, 'sim_options': {'name':...</td>\n",
       "      <td>50</td>\n",
       "      <td>50</td>\n",
       "      <td>{'name': 'pearson_baseline', 'min_support': 50...</td>\n",
       "    </tr>\n",
       "    <tr>\n",
       "      <th>24</th>\n",
       "      <td>1.024357</td>\n",
       "      <td>1.027327</td>\n",
       "      <td>1.032679</td>\n",
       "      <td>1.028121</td>\n",
       "      <td>0.003444</td>\n",
       "      <td>6</td>\n",
       "      <td>0.203694</td>\n",
       "      <td>0.002664</td>\n",
       "      <td>1.235475</td>\n",
       "      <td>0.006733</td>\n",
       "      <td>{'k': 75, 'min_k': 10, 'sim_options': {'name':...</td>\n",
       "      <td>75</td>\n",
       "      <td>10</td>\n",
       "      <td>{'name': 'cosine', 'min_support': 25, 'user_ba...</td>\n",
       "    </tr>\n",
       "    <tr>\n",
       "      <th>25</th>\n",
       "      <td>1.024357</td>\n",
       "      <td>1.027327</td>\n",
       "      <td>1.032679</td>\n",
       "      <td>1.028121</td>\n",
       "      <td>0.003444</td>\n",
       "      <td>7</td>\n",
       "      <td>0.201473</td>\n",
       "      <td>0.006898</td>\n",
       "      <td>1.243964</td>\n",
       "      <td>0.009205</td>\n",
       "      <td>{'k': 75, 'min_k': 10, 'sim_options': {'name':...</td>\n",
       "      <td>75</td>\n",
       "      <td>10</td>\n",
       "      <td>{'name': 'cosine', 'min_support': 50, 'user_ba...</td>\n",
       "    </tr>\n",
       "    <tr>\n",
       "      <th>19</th>\n",
       "      <td>1.024357</td>\n",
       "      <td>1.027327</td>\n",
       "      <td>1.032679</td>\n",
       "      <td>1.028121</td>\n",
       "      <td>0.003444</td>\n",
       "      <td>8</td>\n",
       "      <td>0.507354</td>\n",
       "      <td>0.009295</td>\n",
       "      <td>1.226036</td>\n",
       "      <td>0.007624</td>\n",
       "      <td>{'k': 50, 'min_k': 25, 'sim_options': {'name':...</td>\n",
       "      <td>50</td>\n",
       "      <td>25</td>\n",
       "      <td>{'name': 'pearson_baseline', 'min_support': 50...</td>\n",
       "    </tr>\n",
       "    <tr>\n",
       "      <th>26</th>\n",
       "      <td>1.024357</td>\n",
       "      <td>1.027327</td>\n",
       "      <td>1.032679</td>\n",
       "      <td>1.028121</td>\n",
       "      <td>0.003444</td>\n",
       "      <td>9</td>\n",
       "      <td>0.506734</td>\n",
       "      <td>0.002401</td>\n",
       "      <td>1.209877</td>\n",
       "      <td>0.011064</td>\n",
       "      <td>{'k': 75, 'min_k': 10, 'sim_options': {'name':...</td>\n",
       "      <td>75</td>\n",
       "      <td>10</td>\n",
       "      <td>{'name': 'pearson_baseline', 'min_support': 25...</td>\n",
       "    </tr>\n",
       "    <tr>\n",
       "      <th>28</th>\n",
       "      <td>1.024357</td>\n",
       "      <td>1.027327</td>\n",
       "      <td>1.032679</td>\n",
       "      <td>1.028121</td>\n",
       "      <td>0.003444</td>\n",
       "      <td>10</td>\n",
       "      <td>0.204781</td>\n",
       "      <td>0.002221</td>\n",
       "      <td>1.247232</td>\n",
       "      <td>0.015261</td>\n",
       "      <td>{'k': 75, 'min_k': 25, 'sim_options': {'name':...</td>\n",
       "      <td>75</td>\n",
       "      <td>25</td>\n",
       "      <td>{'name': 'cosine', 'min_support': 25, 'user_ba...</td>\n",
       "    </tr>\n",
       "  </tbody>\n",
       "</table>\n",
       "</div>"
      ],
      "text/plain": [
       "    split0_test_rmse  ...                                  param_sim_options\n",
       "0           1.024357  ...  {'name': 'cosine', 'min_support': 25, 'user_ba...\n",
       "20          1.024357  ...  {'name': 'cosine', 'min_support': 25, 'user_ba...\n",
       "21          1.024357  ...  {'name': 'cosine', 'min_support': 50, 'user_ba...\n",
       "22          1.024357  ...  {'name': 'pearson_baseline', 'min_support': 25...\n",
       "23          1.024357  ...  {'name': 'pearson_baseline', 'min_support': 50...\n",
       "24          1.024357  ...  {'name': 'cosine', 'min_support': 25, 'user_ba...\n",
       "25          1.024357  ...  {'name': 'cosine', 'min_support': 50, 'user_ba...\n",
       "19          1.024357  ...  {'name': 'pearson_baseline', 'min_support': 50...\n",
       "26          1.024357  ...  {'name': 'pearson_baseline', 'min_support': 25...\n",
       "28          1.024357  ...  {'name': 'cosine', 'min_support': 25, 'user_ba...\n",
       "\n",
       "[10 rows x 14 columns]"
      ]
     },
     "execution_count": 242,
     "metadata": {
      "tags": []
     },
     "output_type": "execute_result"
    }
   ],
   "source": [
    "pd.DataFrame(gs.cv_results).sort_values(by='rank_test_rmse',ascending=True).head(10)"
   ]
  },
  {
   "cell_type": "code",
   "execution_count": 243,
   "metadata": {
    "colab": {
     "base_uri": "https://localhost:8080/",
     "height": 67
    },
    "colab_type": "code",
    "id": "vVYIu0VBzbWc",
    "outputId": "f6c9f948-ca1f-4b50-9c87-150b063acd18"
   },
   "outputs": [
    {
     "data": {
      "text/plain": [
       "{'rmse': {'k': 25,\n",
       "  'min_k': 10,\n",
       "  'sim_options': {'min_support': 25, 'name': 'cosine', 'user_based': True}}}"
      ]
     },
     "execution_count": 243,
     "metadata": {
      "tags": []
     },
     "output_type": "execute_result"
    }
   ],
   "source": [
    "gs.best_params"
   ]
  },
  {
   "cell_type": "code",
   "execution_count": 244,
   "metadata": {
    "colab": {
     "base_uri": "https://localhost:8080/",
     "height": 50
    },
    "colab_type": "code",
    "id": "q2yYRU70C94k",
    "outputId": "c0070c51-8b9e-4bbf-ebc6-7a98d77b72a7"
   },
   "outputs": [
    {
     "name": "stdout",
     "output_type": "stream",
     "text": [
      "RMSE: 0.9932\n",
      "MAE:  0.7416\n"
     ]
    }
   ],
   "source": [
    "# user-based collaborative filtering\n",
    "generic_model(model=gs.best_estimator['rmse'], Tuned=True)"
   ]
  },
  {
   "cell_type": "markdown",
   "metadata": {
    "colab_type": "text",
    "id": "c9Kvqve3zbWg"
   },
   "source": [
    "#### KNNWithZScore"
   ]
  },
  {
   "cell_type": "code",
   "execution_count": 246,
   "metadata": {
    "colab": {
     "base_uri": "https://localhost:8080/",
     "height": 101
    },
    "colab_type": "code",
    "id": "3uUWI2-rzbWh",
    "outputId": "5ed8b36d-6ea9-455f-dd6b-99aaf3bec7d6"
   },
   "outputs": [
    {
     "name": "stderr",
     "output_type": "stream",
     "text": [
      "[Parallel(n_jobs=-1)]: Using backend LokyBackend with 2 concurrent workers.\n",
      "[Parallel(n_jobs=-1)]: Done  46 tasks      | elapsed:  2.7min\n",
      "[Parallel(n_jobs=-1)]: Done 108 out of 108 | elapsed:  6.2min finished\n"
     ]
    },
    {
     "name": "stdout",
     "output_type": "stream",
     "text": [
      "Computing the cosine similarity matrix...\n",
      "Done computing similarity matrix.\n"
     ]
    }
   ],
   "source": [
    "#algos=[KNNBasic(),KNNWithMeans(),KNNWithZScore(),KNNBaseline()]\n",
    "algo=KNNWithZScore\n",
    "algo_params={'k' : [25,50,75],'min_k':[10,25,50],\n",
    "             'sim_options':{'name':['cosine','pearson_baseline'],'min_support':[25,50],'user_based': [True]}}\n",
    "gs=generic_hyper_param_tuning_model(algo,algo_params)"
   ]
  },
  {
   "cell_type": "code",
   "execution_count": 247,
   "metadata": {
    "colab": {
     "base_uri": "https://localhost:8080/",
     "height": 867
    },
    "colab_type": "code",
    "id": "43vvM7nhAbW1",
    "outputId": "486d8c63-4fef-4c1e-de64-aff0e522764f"
   },
   "outputs": [
    {
     "data": {
      "text/html": [
       "<div>\n",
       "<style scoped>\n",
       "    .dataframe tbody tr th:only-of-type {\n",
       "        vertical-align: middle;\n",
       "    }\n",
       "\n",
       "    .dataframe tbody tr th {\n",
       "        vertical-align: top;\n",
       "    }\n",
       "\n",
       "    .dataframe thead th {\n",
       "        text-align: right;\n",
       "    }\n",
       "</style>\n",
       "<table border=\"1\" class=\"dataframe\">\n",
       "  <thead>\n",
       "    <tr style=\"text-align: right;\">\n",
       "      <th></th>\n",
       "      <th>split0_test_rmse</th>\n",
       "      <th>split1_test_rmse</th>\n",
       "      <th>split2_test_rmse</th>\n",
       "      <th>mean_test_rmse</th>\n",
       "      <th>std_test_rmse</th>\n",
       "      <th>rank_test_rmse</th>\n",
       "      <th>mean_fit_time</th>\n",
       "      <th>std_fit_time</th>\n",
       "      <th>mean_test_time</th>\n",
       "      <th>std_test_time</th>\n",
       "      <th>params</th>\n",
       "      <th>param_k</th>\n",
       "      <th>param_min_k</th>\n",
       "      <th>param_sim_options</th>\n",
       "    </tr>\n",
       "  </thead>\n",
       "  <tbody>\n",
       "    <tr>\n",
       "      <th>0</th>\n",
       "      <td>1.021308</td>\n",
       "      <td>1.033916</td>\n",
       "      <td>1.029151</td>\n",
       "      <td>1.028125</td>\n",
       "      <td>0.005198</td>\n",
       "      <td>1</td>\n",
       "      <td>0.326286</td>\n",
       "      <td>0.004728</td>\n",
       "      <td>1.237009</td>\n",
       "      <td>0.014949</td>\n",
       "      <td>{'k': 25, 'min_k': 10, 'sim_options': {'name':...</td>\n",
       "      <td>25</td>\n",
       "      <td>10</td>\n",
       "      <td>{'name': 'cosine', 'min_support': 25, 'user_ba...</td>\n",
       "    </tr>\n",
       "    <tr>\n",
       "      <th>20</th>\n",
       "      <td>1.021308</td>\n",
       "      <td>1.033916</td>\n",
       "      <td>1.029151</td>\n",
       "      <td>1.028125</td>\n",
       "      <td>0.005198</td>\n",
       "      <td>2</td>\n",
       "      <td>0.343091</td>\n",
       "      <td>0.010150</td>\n",
       "      <td>1.279574</td>\n",
       "      <td>0.001831</td>\n",
       "      <td>{'k': 50, 'min_k': 50, 'sim_options': {'name':...</td>\n",
       "      <td>50</td>\n",
       "      <td>50</td>\n",
       "      <td>{'name': 'cosine', 'min_support': 25, 'user_ba...</td>\n",
       "    </tr>\n",
       "    <tr>\n",
       "      <th>21</th>\n",
       "      <td>1.021308</td>\n",
       "      <td>1.033916</td>\n",
       "      <td>1.029151</td>\n",
       "      <td>1.028125</td>\n",
       "      <td>0.005198</td>\n",
       "      <td>3</td>\n",
       "      <td>0.318433</td>\n",
       "      <td>0.003999</td>\n",
       "      <td>1.258580</td>\n",
       "      <td>0.019942</td>\n",
       "      <td>{'k': 50, 'min_k': 50, 'sim_options': {'name':...</td>\n",
       "      <td>50</td>\n",
       "      <td>50</td>\n",
       "      <td>{'name': 'cosine', 'min_support': 50, 'user_ba...</td>\n",
       "    </tr>\n",
       "    <tr>\n",
       "      <th>22</th>\n",
       "      <td>1.021308</td>\n",
       "      <td>1.033916</td>\n",
       "      <td>1.029151</td>\n",
       "      <td>1.028125</td>\n",
       "      <td>0.005198</td>\n",
       "      <td>4</td>\n",
       "      <td>0.640718</td>\n",
       "      <td>0.018135</td>\n",
       "      <td>1.258089</td>\n",
       "      <td>0.024476</td>\n",
       "      <td>{'k': 50, 'min_k': 50, 'sim_options': {'name':...</td>\n",
       "      <td>50</td>\n",
       "      <td>50</td>\n",
       "      <td>{'name': 'pearson_baseline', 'min_support': 25...</td>\n",
       "    </tr>\n",
       "    <tr>\n",
       "      <th>23</th>\n",
       "      <td>1.021308</td>\n",
       "      <td>1.033916</td>\n",
       "      <td>1.029151</td>\n",
       "      <td>1.028125</td>\n",
       "      <td>0.005198</td>\n",
       "      <td>5</td>\n",
       "      <td>0.625429</td>\n",
       "      <td>0.010122</td>\n",
       "      <td>1.236472</td>\n",
       "      <td>0.003492</td>\n",
       "      <td>{'k': 50, 'min_k': 50, 'sim_options': {'name':...</td>\n",
       "      <td>50</td>\n",
       "      <td>50</td>\n",
       "      <td>{'name': 'pearson_baseline', 'min_support': 50...</td>\n",
       "    </tr>\n",
       "    <tr>\n",
       "      <th>24</th>\n",
       "      <td>1.021308</td>\n",
       "      <td>1.033916</td>\n",
       "      <td>1.029151</td>\n",
       "      <td>1.028125</td>\n",
       "      <td>0.005198</td>\n",
       "      <td>6</td>\n",
       "      <td>0.320886</td>\n",
       "      <td>0.005239</td>\n",
       "      <td>1.245542</td>\n",
       "      <td>0.013283</td>\n",
       "      <td>{'k': 75, 'min_k': 10, 'sim_options': {'name':...</td>\n",
       "      <td>75</td>\n",
       "      <td>10</td>\n",
       "      <td>{'name': 'cosine', 'min_support': 25, 'user_ba...</td>\n",
       "    </tr>\n",
       "    <tr>\n",
       "      <th>25</th>\n",
       "      <td>1.021308</td>\n",
       "      <td>1.033916</td>\n",
       "      <td>1.029151</td>\n",
       "      <td>1.028125</td>\n",
       "      <td>0.005198</td>\n",
       "      <td>7</td>\n",
       "      <td>0.318292</td>\n",
       "      <td>0.008161</td>\n",
       "      <td>1.233846</td>\n",
       "      <td>0.003687</td>\n",
       "      <td>{'k': 75, 'min_k': 10, 'sim_options': {'name':...</td>\n",
       "      <td>75</td>\n",
       "      <td>10</td>\n",
       "      <td>{'name': 'cosine', 'min_support': 50, 'user_ba...</td>\n",
       "    </tr>\n",
       "    <tr>\n",
       "      <th>19</th>\n",
       "      <td>1.021308</td>\n",
       "      <td>1.033916</td>\n",
       "      <td>1.029151</td>\n",
       "      <td>1.028125</td>\n",
       "      <td>0.005198</td>\n",
       "      <td>8</td>\n",
       "      <td>0.620136</td>\n",
       "      <td>0.006490</td>\n",
       "      <td>1.230494</td>\n",
       "      <td>0.020887</td>\n",
       "      <td>{'k': 50, 'min_k': 25, 'sim_options': {'name':...</td>\n",
       "      <td>50</td>\n",
       "      <td>25</td>\n",
       "      <td>{'name': 'pearson_baseline', 'min_support': 50...</td>\n",
       "    </tr>\n",
       "    <tr>\n",
       "      <th>26</th>\n",
       "      <td>1.021308</td>\n",
       "      <td>1.033916</td>\n",
       "      <td>1.029151</td>\n",
       "      <td>1.028125</td>\n",
       "      <td>0.005198</td>\n",
       "      <td>9</td>\n",
       "      <td>0.635214</td>\n",
       "      <td>0.009051</td>\n",
       "      <td>1.235322</td>\n",
       "      <td>0.018304</td>\n",
       "      <td>{'k': 75, 'min_k': 10, 'sim_options': {'name':...</td>\n",
       "      <td>75</td>\n",
       "      <td>10</td>\n",
       "      <td>{'name': 'pearson_baseline', 'min_support': 25...</td>\n",
       "    </tr>\n",
       "    <tr>\n",
       "      <th>28</th>\n",
       "      <td>1.021308</td>\n",
       "      <td>1.033916</td>\n",
       "      <td>1.029151</td>\n",
       "      <td>1.028125</td>\n",
       "      <td>0.005198</td>\n",
       "      <td>10</td>\n",
       "      <td>0.327785</td>\n",
       "      <td>0.011003</td>\n",
       "      <td>1.245858</td>\n",
       "      <td>0.006266</td>\n",
       "      <td>{'k': 75, 'min_k': 25, 'sim_options': {'name':...</td>\n",
       "      <td>75</td>\n",
       "      <td>25</td>\n",
       "      <td>{'name': 'cosine', 'min_support': 25, 'user_ba...</td>\n",
       "    </tr>\n",
       "  </tbody>\n",
       "</table>\n",
       "</div>"
      ],
      "text/plain": [
       "    split0_test_rmse  ...                                  param_sim_options\n",
       "0           1.021308  ...  {'name': 'cosine', 'min_support': 25, 'user_ba...\n",
       "20          1.021308  ...  {'name': 'cosine', 'min_support': 25, 'user_ba...\n",
       "21          1.021308  ...  {'name': 'cosine', 'min_support': 50, 'user_ba...\n",
       "22          1.021308  ...  {'name': 'pearson_baseline', 'min_support': 25...\n",
       "23          1.021308  ...  {'name': 'pearson_baseline', 'min_support': 50...\n",
       "24          1.021308  ...  {'name': 'cosine', 'min_support': 25, 'user_ba...\n",
       "25          1.021308  ...  {'name': 'cosine', 'min_support': 50, 'user_ba...\n",
       "19          1.021308  ...  {'name': 'pearson_baseline', 'min_support': 50...\n",
       "26          1.021308  ...  {'name': 'pearson_baseline', 'min_support': 25...\n",
       "28          1.021308  ...  {'name': 'cosine', 'min_support': 25, 'user_ba...\n",
       "\n",
       "[10 rows x 14 columns]"
      ]
     },
     "execution_count": 247,
     "metadata": {
      "tags": []
     },
     "output_type": "execute_result"
    }
   ],
   "source": [
    "pd.DataFrame(gs.cv_results).sort_values(by='rank_test_rmse',ascending=True).head(10)"
   ]
  },
  {
   "cell_type": "code",
   "execution_count": 248,
   "metadata": {
    "colab": {
     "base_uri": "https://localhost:8080/",
     "height": 67
    },
    "colab_type": "code",
    "id": "Doio9K-czbWl",
    "outputId": "35978286-7257-4318-e7a4-4edc554b79d5",
    "scrolled": true
   },
   "outputs": [
    {
     "data": {
      "text/plain": [
       "{'rmse': {'k': 25,\n",
       "  'min_k': 10,\n",
       "  'sim_options': {'min_support': 25, 'name': 'cosine', 'user_based': True}}}"
      ]
     },
     "execution_count": 248,
     "metadata": {
      "tags": []
     },
     "output_type": "execute_result"
    }
   ],
   "source": [
    "gs.best_params"
   ]
  },
  {
   "cell_type": "code",
   "execution_count": 249,
   "metadata": {
    "colab": {
     "base_uri": "https://localhost:8080/",
     "height": 50
    },
    "colab_type": "code",
    "id": "-Zr8TyS2DFGP",
    "outputId": "521ee720-ea19-447d-f567-6ce9f25822b6"
   },
   "outputs": [
    {
     "name": "stdout",
     "output_type": "stream",
     "text": [
      "RMSE: 0.9932\n",
      "MAE:  0.7416\n"
     ]
    }
   ],
   "source": [
    "# user-based collaborative filtering\n",
    "generic_model(model=gs.best_estimator['rmse'], Tuned=True)"
   ]
  },
  {
   "cell_type": "markdown",
   "metadata": {
    "colab_type": "text",
    "id": "0Pa3VTJizbWo"
   },
   "source": [
    "#### KNNBaseline"
   ]
  },
  {
   "cell_type": "code",
   "execution_count": 250,
   "metadata": {
    "colab": {
     "base_uri": "https://localhost:8080/",
     "height": 134
    },
    "colab_type": "code",
    "id": "g8IfmO4OzbWp",
    "outputId": "4287c7f4-b0af-40af-85ec-31237826f043"
   },
   "outputs": [
    {
     "name": "stderr",
     "output_type": "stream",
     "text": [
      "[Parallel(n_jobs=-1)]: Using backend LokyBackend with 2 concurrent workers.\n",
      "[Parallel(n_jobs=-1)]: Done  46 tasks      | elapsed:  2.7min\n",
      "[Parallel(n_jobs=-1)]: Done 196 tasks      | elapsed: 11.4min\n",
      "[Parallel(n_jobs=-1)]: Done 216 out of 216 | elapsed: 12.6min finished\n"
     ]
    },
    {
     "name": "stdout",
     "output_type": "stream",
     "text": [
      "Estimating biases using sgd...\n",
      "Computing the cosine similarity matrix...\n",
      "Done computing similarity matrix.\n"
     ]
    }
   ],
   "source": [
    "#algos=[KNNBasic(),KNNWithMeans(),KNNWithZScore(),KNNBaseline()]\n",
    "algo=KNNBaseline\n",
    "algo_params={'k' : [25,50,75],'min_k':[10,25,50],\n",
    "             'sim_options':{'name':['cosine','pearson_baseline'],'min_support':[25,50],'user_based': [True]},\n",
    "             'bsl_options':{'method':['als','sgd']}}\n",
    "gs=generic_hyper_param_tuning_model(algo,algo_params)"
   ]
  },
  {
   "cell_type": "code",
   "execution_count": 251,
   "metadata": {
    "colab": {
     "base_uri": "https://localhost:8080/",
     "height": 867
    },
    "colab_type": "code",
    "id": "rL_CTZaRAcuz",
    "outputId": "981b2600-c99f-4c62-9b28-ee384b6772f6"
   },
   "outputs": [
    {
     "data": {
      "text/html": [
       "<div>\n",
       "<style scoped>\n",
       "    .dataframe tbody tr th:only-of-type {\n",
       "        vertical-align: middle;\n",
       "    }\n",
       "\n",
       "    .dataframe tbody tr th {\n",
       "        vertical-align: top;\n",
       "    }\n",
       "\n",
       "    .dataframe thead th {\n",
       "        text-align: right;\n",
       "    }\n",
       "</style>\n",
       "<table border=\"1\" class=\"dataframe\">\n",
       "  <thead>\n",
       "    <tr style=\"text-align: right;\">\n",
       "      <th></th>\n",
       "      <th>split0_test_rmse</th>\n",
       "      <th>split1_test_rmse</th>\n",
       "      <th>split2_test_rmse</th>\n",
       "      <th>mean_test_rmse</th>\n",
       "      <th>std_test_rmse</th>\n",
       "      <th>rank_test_rmse</th>\n",
       "      <th>mean_fit_time</th>\n",
       "      <th>std_fit_time</th>\n",
       "      <th>mean_test_time</th>\n",
       "      <th>std_test_time</th>\n",
       "      <th>params</th>\n",
       "      <th>param_k</th>\n",
       "      <th>param_min_k</th>\n",
       "      <th>param_sim_options</th>\n",
       "      <th>param_bsl_options</th>\n",
       "    </tr>\n",
       "  </thead>\n",
       "  <tbody>\n",
       "    <tr>\n",
       "      <th>35</th>\n",
       "      <td>0.976666</td>\n",
       "      <td>0.983927</td>\n",
       "      <td>0.980292</td>\n",
       "      <td>0.980295</td>\n",
       "      <td>0.002965</td>\n",
       "      <td>1</td>\n",
       "      <td>0.503139</td>\n",
       "      <td>0.005211</td>\n",
       "      <td>1.320237</td>\n",
       "      <td>0.005127</td>\n",
       "      <td>{'k': 50, 'min_k': 25, 'sim_options': {'name':...</td>\n",
       "      <td>50</td>\n",
       "      <td>25</td>\n",
       "      <td>{'name': 'cosine', 'min_support': 50, 'user_ba...</td>\n",
       "      <td>{'method': 'sgd'}</td>\n",
       "    </tr>\n",
       "    <tr>\n",
       "      <th>29</th>\n",
       "      <td>0.976666</td>\n",
       "      <td>0.983927</td>\n",
       "      <td>0.980292</td>\n",
       "      <td>0.980295</td>\n",
       "      <td>0.002965</td>\n",
       "      <td>2</td>\n",
       "      <td>0.555724</td>\n",
       "      <td>0.003178</td>\n",
       "      <td>1.306370</td>\n",
       "      <td>0.005046</td>\n",
       "      <td>{'k': 50, 'min_k': 10, 'sim_options': {'name':...</td>\n",
       "      <td>50</td>\n",
       "      <td>10</td>\n",
       "      <td>{'name': 'pearson_baseline', 'min_support': 25...</td>\n",
       "      <td>{'method': 'sgd'}</td>\n",
       "    </tr>\n",
       "    <tr>\n",
       "      <th>31</th>\n",
       "      <td>0.976666</td>\n",
       "      <td>0.983927</td>\n",
       "      <td>0.980292</td>\n",
       "      <td>0.980295</td>\n",
       "      <td>0.002965</td>\n",
       "      <td>3</td>\n",
       "      <td>0.543024</td>\n",
       "      <td>0.004834</td>\n",
       "      <td>1.315238</td>\n",
       "      <td>0.014922</td>\n",
       "      <td>{'k': 50, 'min_k': 10, 'sim_options': {'name':...</td>\n",
       "      <td>50</td>\n",
       "      <td>10</td>\n",
       "      <td>{'name': 'pearson_baseline', 'min_support': 50...</td>\n",
       "      <td>{'method': 'sgd'}</td>\n",
       "    </tr>\n",
       "    <tr>\n",
       "      <th>33</th>\n",
       "      <td>0.976666</td>\n",
       "      <td>0.983927</td>\n",
       "      <td>0.980292</td>\n",
       "      <td>0.980295</td>\n",
       "      <td>0.002965</td>\n",
       "      <td>4</td>\n",
       "      <td>0.512394</td>\n",
       "      <td>0.007739</td>\n",
       "      <td>1.323480</td>\n",
       "      <td>0.004121</td>\n",
       "      <td>{'k': 50, 'min_k': 25, 'sim_options': {'name':...</td>\n",
       "      <td>50</td>\n",
       "      <td>25</td>\n",
       "      <td>{'name': 'cosine', 'min_support': 25, 'user_ba...</td>\n",
       "      <td>{'method': 'sgd'}</td>\n",
       "    </tr>\n",
       "    <tr>\n",
       "      <th>37</th>\n",
       "      <td>0.976666</td>\n",
       "      <td>0.983927</td>\n",
       "      <td>0.980292</td>\n",
       "      <td>0.980295</td>\n",
       "      <td>0.002965</td>\n",
       "      <td>5</td>\n",
       "      <td>0.557248</td>\n",
       "      <td>0.006322</td>\n",
       "      <td>1.318269</td>\n",
       "      <td>0.004969</td>\n",
       "      <td>{'k': 50, 'min_k': 25, 'sim_options': {'name':...</td>\n",
       "      <td>50</td>\n",
       "      <td>25</td>\n",
       "      <td>{'name': 'pearson_baseline', 'min_support': 25...</td>\n",
       "      <td>{'method': 'sgd'}</td>\n",
       "    </tr>\n",
       "    <tr>\n",
       "      <th>39</th>\n",
       "      <td>0.976666</td>\n",
       "      <td>0.983927</td>\n",
       "      <td>0.980292</td>\n",
       "      <td>0.980295</td>\n",
       "      <td>0.002965</td>\n",
       "      <td>6</td>\n",
       "      <td>0.550581</td>\n",
       "      <td>0.008579</td>\n",
       "      <td>1.322621</td>\n",
       "      <td>0.008586</td>\n",
       "      <td>{'k': 50, 'min_k': 25, 'sim_options': {'name':...</td>\n",
       "      <td>50</td>\n",
       "      <td>25</td>\n",
       "      <td>{'name': 'pearson_baseline', 'min_support': 50...</td>\n",
       "      <td>{'method': 'sgd'}</td>\n",
       "    </tr>\n",
       "    <tr>\n",
       "      <th>41</th>\n",
       "      <td>0.976666</td>\n",
       "      <td>0.983927</td>\n",
       "      <td>0.980292</td>\n",
       "      <td>0.980295</td>\n",
       "      <td>0.002965</td>\n",
       "      <td>7</td>\n",
       "      <td>0.518829</td>\n",
       "      <td>0.006445</td>\n",
       "      <td>1.320333</td>\n",
       "      <td>0.009493</td>\n",
       "      <td>{'k': 50, 'min_k': 50, 'sim_options': {'name':...</td>\n",
       "      <td>50</td>\n",
       "      <td>50</td>\n",
       "      <td>{'name': 'cosine', 'min_support': 25, 'user_ba...</td>\n",
       "      <td>{'method': 'sgd'}</td>\n",
       "    </tr>\n",
       "    <tr>\n",
       "      <th>43</th>\n",
       "      <td>0.976666</td>\n",
       "      <td>0.983927</td>\n",
       "      <td>0.980292</td>\n",
       "      <td>0.980295</td>\n",
       "      <td>0.002965</td>\n",
       "      <td>8</td>\n",
       "      <td>0.518682</td>\n",
       "      <td>0.009740</td>\n",
       "      <td>1.306275</td>\n",
       "      <td>0.027082</td>\n",
       "      <td>{'k': 50, 'min_k': 50, 'sim_options': {'name':...</td>\n",
       "      <td>50</td>\n",
       "      <td>50</td>\n",
       "      <td>{'name': 'cosine', 'min_support': 50, 'user_ba...</td>\n",
       "      <td>{'method': 'sgd'}</td>\n",
       "    </tr>\n",
       "    <tr>\n",
       "      <th>45</th>\n",
       "      <td>0.976666</td>\n",
       "      <td>0.983927</td>\n",
       "      <td>0.980292</td>\n",
       "      <td>0.980295</td>\n",
       "      <td>0.002965</td>\n",
       "      <td>9</td>\n",
       "      <td>0.557461</td>\n",
       "      <td>0.007444</td>\n",
       "      <td>1.327598</td>\n",
       "      <td>0.015630</td>\n",
       "      <td>{'k': 50, 'min_k': 50, 'sim_options': {'name':...</td>\n",
       "      <td>50</td>\n",
       "      <td>50</td>\n",
       "      <td>{'name': 'pearson_baseline', 'min_support': 25...</td>\n",
       "      <td>{'method': 'sgd'}</td>\n",
       "    </tr>\n",
       "    <tr>\n",
       "      <th>47</th>\n",
       "      <td>0.976666</td>\n",
       "      <td>0.983927</td>\n",
       "      <td>0.980292</td>\n",
       "      <td>0.980295</td>\n",
       "      <td>0.002965</td>\n",
       "      <td>10</td>\n",
       "      <td>0.553458</td>\n",
       "      <td>0.006190</td>\n",
       "      <td>1.316774</td>\n",
       "      <td>0.014446</td>\n",
       "      <td>{'k': 50, 'min_k': 50, 'sim_options': {'name':...</td>\n",
       "      <td>50</td>\n",
       "      <td>50</td>\n",
       "      <td>{'name': 'pearson_baseline', 'min_support': 50...</td>\n",
       "      <td>{'method': 'sgd'}</td>\n",
       "    </tr>\n",
       "  </tbody>\n",
       "</table>\n",
       "</div>"
      ],
      "text/plain": [
       "    split0_test_rmse  ...  param_bsl_options\n",
       "35          0.976666  ...  {'method': 'sgd'}\n",
       "29          0.976666  ...  {'method': 'sgd'}\n",
       "31          0.976666  ...  {'method': 'sgd'}\n",
       "33          0.976666  ...  {'method': 'sgd'}\n",
       "37          0.976666  ...  {'method': 'sgd'}\n",
       "39          0.976666  ...  {'method': 'sgd'}\n",
       "41          0.976666  ...  {'method': 'sgd'}\n",
       "43          0.976666  ...  {'method': 'sgd'}\n",
       "45          0.976666  ...  {'method': 'sgd'}\n",
       "47          0.976666  ...  {'method': 'sgd'}\n",
       "\n",
       "[10 rows x 15 columns]"
      ]
     },
     "execution_count": 251,
     "metadata": {
      "tags": []
     },
     "output_type": "execute_result"
    }
   ],
   "source": [
    "pd.DataFrame(gs.cv_results).sort_values(by='rank_test_rmse',ascending=True).head(10)"
   ]
  },
  {
   "cell_type": "code",
   "execution_count": 252,
   "metadata": {
    "colab": {
     "base_uri": "https://localhost:8080/",
     "height": 84
    },
    "colab_type": "code",
    "id": "0StO6usOzbWs",
    "outputId": "8640d43a-e3b1-4771-b329-8f14c4670676"
   },
   "outputs": [
    {
     "data": {
      "text/plain": [
       "{'rmse': {'bsl_options': {'method': 'sgd'},\n",
       "  'k': 25,\n",
       "  'min_k': 10,\n",
       "  'sim_options': {'min_support': 25, 'name': 'cosine', 'user_based': True}}}"
      ]
     },
     "execution_count": 252,
     "metadata": {
      "tags": []
     },
     "output_type": "execute_result"
    }
   ],
   "source": [
    "gs.best_params"
   ]
  },
  {
   "cell_type": "code",
   "execution_count": 253,
   "metadata": {
    "colab": {
     "base_uri": "https://localhost:8080/",
     "height": 50
    },
    "colab_type": "code",
    "id": "lCH5o5pIDIci",
    "outputId": "8c6b44b1-8150-4d93-bfa8-e2a4d0edd55e"
   },
   "outputs": [
    {
     "name": "stdout",
     "output_type": "stream",
     "text": [
      "RMSE: 0.8918\n",
      "MAE:  0.6569\n"
     ]
    }
   ],
   "source": [
    "# user-based collaborative filtering\n",
    "generic_model(model=gs.best_estimator['rmse'], Tuned=True)"
   ]
  },
  {
   "cell_type": "markdown",
   "metadata": {
    "colab_type": "text",
    "id": "b47oIOA8zbWw"
   },
   "source": [
    "#### SVD"
   ]
  },
  {
   "cell_type": "code",
   "execution_count": 254,
   "metadata": {
    "colab": {
     "base_uri": "https://localhost:8080/",
     "height": 67
    },
    "colab_type": "code",
    "id": "_osQkqctzbWw",
    "outputId": "6575d029-2c10-4f3f-9b84-34fc0f4eb12e"
   },
   "outputs": [
    {
     "name": "stderr",
     "output_type": "stream",
     "text": [
      "[Parallel(n_jobs=-1)]: Using backend LokyBackend with 2 concurrent workers.\n",
      "[Parallel(n_jobs=-1)]: Done  46 tasks      | elapsed:  7.7min\n",
      "[Parallel(n_jobs=-1)]: Done 162 out of 162 | elapsed: 39.9min finished\n"
     ]
    }
   ],
   "source": [
    "algo=SVD\n",
    "algo_params={'n_factors' : [100,150],'biased':[True],\n",
    "             'n_epochs':[25,50,75],'lr_all':[0.005,0.01,0.05],\n",
    "             'reg_all':[0.02,0.05,0.1],'random_state':[1]}\n",
    "gs=generic_hyper_param_tuning_model(algo,algo_params)"
   ]
  },
  {
   "cell_type": "code",
   "execution_count": 255,
   "metadata": {
    "colab": {
     "base_uri": "https://localhost:8080/",
     "height": 867
    },
    "colab_type": "code",
    "id": "jRz3g4jxAeAJ",
    "outputId": "0be904be-249b-4c7e-8ff2-a37164267b6a"
   },
   "outputs": [
    {
     "data": {
      "text/html": [
       "<div>\n",
       "<style scoped>\n",
       "    .dataframe tbody tr th:only-of-type {\n",
       "        vertical-align: middle;\n",
       "    }\n",
       "\n",
       "    .dataframe tbody tr th {\n",
       "        vertical-align: top;\n",
       "    }\n",
       "\n",
       "    .dataframe thead th {\n",
       "        text-align: right;\n",
       "    }\n",
       "</style>\n",
       "<table border=\"1\" class=\"dataframe\">\n",
       "  <thead>\n",
       "    <tr style=\"text-align: right;\">\n",
       "      <th></th>\n",
       "      <th>split0_test_rmse</th>\n",
       "      <th>split1_test_rmse</th>\n",
       "      <th>split2_test_rmse</th>\n",
       "      <th>mean_test_rmse</th>\n",
       "      <th>std_test_rmse</th>\n",
       "      <th>rank_test_rmse</th>\n",
       "      <th>mean_fit_time</th>\n",
       "      <th>std_fit_time</th>\n",
       "      <th>mean_test_time</th>\n",
       "      <th>std_test_time</th>\n",
       "      <th>params</th>\n",
       "      <th>param_n_factors</th>\n",
       "      <th>param_biased</th>\n",
       "      <th>param_n_epochs</th>\n",
       "      <th>param_lr_all</th>\n",
       "      <th>param_reg_all</th>\n",
       "      <th>param_random_state</th>\n",
       "    </tr>\n",
       "  </thead>\n",
       "  <tbody>\n",
       "    <tr>\n",
       "      <th>2</th>\n",
       "      <td>0.985155</td>\n",
       "      <td>0.977800</td>\n",
       "      <td>0.982727</td>\n",
       "      <td>0.981894</td>\n",
       "      <td>0.003060</td>\n",
       "      <td>1</td>\n",
       "      <td>14.568503</td>\n",
       "      <td>0.288400</td>\n",
       "      <td>0.658174</td>\n",
       "      <td>0.179779</td>\n",
       "      <td>{'n_factors': 100, 'biased': True, 'n_epochs':...</td>\n",
       "      <td>100</td>\n",
       "      <td>True</td>\n",
       "      <td>25</td>\n",
       "      <td>0.005</td>\n",
       "      <td>0.10</td>\n",
       "      <td>1</td>\n",
       "    </tr>\n",
       "    <tr>\n",
       "      <th>29</th>\n",
       "      <td>0.985074</td>\n",
       "      <td>0.978953</td>\n",
       "      <td>0.984251</td>\n",
       "      <td>0.982759</td>\n",
       "      <td>0.002712</td>\n",
       "      <td>2</td>\n",
       "      <td>18.438179</td>\n",
       "      <td>0.354413</td>\n",
       "      <td>0.526949</td>\n",
       "      <td>0.004142</td>\n",
       "      <td>{'n_factors': 150, 'biased': True, 'n_epochs':...</td>\n",
       "      <td>150</td>\n",
       "      <td>True</td>\n",
       "      <td>25</td>\n",
       "      <td>0.005</td>\n",
       "      <td>0.10</td>\n",
       "      <td>1</td>\n",
       "    </tr>\n",
       "    <tr>\n",
       "      <th>11</th>\n",
       "      <td>0.987158</td>\n",
       "      <td>0.979064</td>\n",
       "      <td>0.985062</td>\n",
       "      <td>0.983762</td>\n",
       "      <td>0.003430</td>\n",
       "      <td>3</td>\n",
       "      <td>24.759192</td>\n",
       "      <td>0.453503</td>\n",
       "      <td>0.525353</td>\n",
       "      <td>0.002707</td>\n",
       "      <td>{'n_factors': 100, 'biased': True, 'n_epochs':...</td>\n",
       "      <td>100</td>\n",
       "      <td>True</td>\n",
       "      <td>50</td>\n",
       "      <td>0.005</td>\n",
       "      <td>0.10</td>\n",
       "      <td>1</td>\n",
       "    </tr>\n",
       "    <tr>\n",
       "      <th>5</th>\n",
       "      <td>0.987260</td>\n",
       "      <td>0.979182</td>\n",
       "      <td>0.985121</td>\n",
       "      <td>0.983854</td>\n",
       "      <td>0.003417</td>\n",
       "      <td>4</td>\n",
       "      <td>14.230725</td>\n",
       "      <td>0.319690</td>\n",
       "      <td>0.646615</td>\n",
       "      <td>0.171567</td>\n",
       "      <td>{'n_factors': 100, 'biased': True, 'n_epochs':...</td>\n",
       "      <td>100</td>\n",
       "      <td>True</td>\n",
       "      <td>25</td>\n",
       "      <td>0.010</td>\n",
       "      <td>0.10</td>\n",
       "      <td>1</td>\n",
       "    </tr>\n",
       "    <tr>\n",
       "      <th>38</th>\n",
       "      <td>0.986119</td>\n",
       "      <td>0.979783</td>\n",
       "      <td>0.985874</td>\n",
       "      <td>0.983925</td>\n",
       "      <td>0.002931</td>\n",
       "      <td>5</td>\n",
       "      <td>32.623958</td>\n",
       "      <td>0.441523</td>\n",
       "      <td>0.525071</td>\n",
       "      <td>0.001997</td>\n",
       "      <td>{'n_factors': 150, 'biased': True, 'n_epochs':...</td>\n",
       "      <td>150</td>\n",
       "      <td>True</td>\n",
       "      <td>50</td>\n",
       "      <td>0.005</td>\n",
       "      <td>0.10</td>\n",
       "      <td>1</td>\n",
       "    </tr>\n",
       "    <tr>\n",
       "      <th>32</th>\n",
       "      <td>0.986213</td>\n",
       "      <td>0.979905</td>\n",
       "      <td>0.985948</td>\n",
       "      <td>0.984022</td>\n",
       "      <td>0.002913</td>\n",
       "      <td>6</td>\n",
       "      <td>18.461023</td>\n",
       "      <td>0.337744</td>\n",
       "      <td>0.540048</td>\n",
       "      <td>0.016060</td>\n",
       "      <td>{'n_factors': 150, 'biased': True, 'n_epochs':...</td>\n",
       "      <td>150</td>\n",
       "      <td>True</td>\n",
       "      <td>25</td>\n",
       "      <td>0.010</td>\n",
       "      <td>0.10</td>\n",
       "      <td>1</td>\n",
       "    </tr>\n",
       "    <tr>\n",
       "      <th>1</th>\n",
       "      <td>0.987558</td>\n",
       "      <td>0.980190</td>\n",
       "      <td>0.984687</td>\n",
       "      <td>0.984145</td>\n",
       "      <td>0.003032</td>\n",
       "      <td>7</td>\n",
       "      <td>13.819474</td>\n",
       "      <td>0.297015</td>\n",
       "      <td>0.627654</td>\n",
       "      <td>0.152062</td>\n",
       "      <td>{'n_factors': 100, 'biased': True, 'n_epochs':...</td>\n",
       "      <td>100</td>\n",
       "      <td>True</td>\n",
       "      <td>25</td>\n",
       "      <td>0.005</td>\n",
       "      <td>0.05</td>\n",
       "      <td>1</td>\n",
       "    </tr>\n",
       "    <tr>\n",
       "      <th>28</th>\n",
       "      <td>0.987789</td>\n",
       "      <td>0.981949</td>\n",
       "      <td>0.987025</td>\n",
       "      <td>0.985588</td>\n",
       "      <td>0.002592</td>\n",
       "      <td>8</td>\n",
       "      <td>18.359002</td>\n",
       "      <td>0.373247</td>\n",
       "      <td>0.627120</td>\n",
       "      <td>0.139179</td>\n",
       "      <td>{'n_factors': 150, 'biased': True, 'n_epochs':...</td>\n",
       "      <td>150</td>\n",
       "      <td>True</td>\n",
       "      <td>25</td>\n",
       "      <td>0.005</td>\n",
       "      <td>0.05</td>\n",
       "      <td>1</td>\n",
       "    </tr>\n",
       "    <tr>\n",
       "      <th>47</th>\n",
       "      <td>0.987819</td>\n",
       "      <td>0.981308</td>\n",
       "      <td>0.987709</td>\n",
       "      <td>0.985612</td>\n",
       "      <td>0.003044</td>\n",
       "      <td>9</td>\n",
       "      <td>47.029381</td>\n",
       "      <td>0.074310</td>\n",
       "      <td>0.552451</td>\n",
       "      <td>0.012807</td>\n",
       "      <td>{'n_factors': 150, 'biased': True, 'n_epochs':...</td>\n",
       "      <td>150</td>\n",
       "      <td>True</td>\n",
       "      <td>75</td>\n",
       "      <td>0.005</td>\n",
       "      <td>0.10</td>\n",
       "      <td>1</td>\n",
       "    </tr>\n",
       "    <tr>\n",
       "      <th>20</th>\n",
       "      <td>0.989782</td>\n",
       "      <td>0.981409</td>\n",
       "      <td>0.987920</td>\n",
       "      <td>0.986370</td>\n",
       "      <td>0.003589</td>\n",
       "      <td>10</td>\n",
       "      <td>34.797085</td>\n",
       "      <td>0.505367</td>\n",
       "      <td>0.530066</td>\n",
       "      <td>0.000081</td>\n",
       "      <td>{'n_factors': 100, 'biased': True, 'n_epochs':...</td>\n",
       "      <td>100</td>\n",
       "      <td>True</td>\n",
       "      <td>75</td>\n",
       "      <td>0.005</td>\n",
       "      <td>0.10</td>\n",
       "      <td>1</td>\n",
       "    </tr>\n",
       "  </tbody>\n",
       "</table>\n",
       "</div>"
      ],
      "text/plain": [
       "    split0_test_rmse  split1_test_rmse  ...  param_reg_all  param_random_state\n",
       "2           0.985155          0.977800  ...           0.10                   1\n",
       "29          0.985074          0.978953  ...           0.10                   1\n",
       "11          0.987158          0.979064  ...           0.10                   1\n",
       "5           0.987260          0.979182  ...           0.10                   1\n",
       "38          0.986119          0.979783  ...           0.10                   1\n",
       "32          0.986213          0.979905  ...           0.10                   1\n",
       "1           0.987558          0.980190  ...           0.05                   1\n",
       "28          0.987789          0.981949  ...           0.05                   1\n",
       "47          0.987819          0.981308  ...           0.10                   1\n",
       "20          0.989782          0.981409  ...           0.10                   1\n",
       "\n",
       "[10 rows x 17 columns]"
      ]
     },
     "execution_count": 255,
     "metadata": {
      "tags": []
     },
     "output_type": "execute_result"
    }
   ],
   "source": [
    "pd.DataFrame(gs.cv_results).sort_values(by='rank_test_rmse',ascending=True).head(10)"
   ]
  },
  {
   "cell_type": "code",
   "execution_count": 256,
   "metadata": {
    "colab": {
     "base_uri": "https://localhost:8080/",
     "height": 118
    },
    "colab_type": "code",
    "id": "jJSGM3GUzbWz",
    "outputId": "0363d902-4f32-4ea1-bbf3-79422f7d7ebe"
   },
   "outputs": [
    {
     "data": {
      "text/plain": [
       "{'rmse': {'biased': True,\n",
       "  'lr_all': 0.005,\n",
       "  'n_epochs': 25,\n",
       "  'n_factors': 100,\n",
       "  'random_state': 1,\n",
       "  'reg_all': 0.1}}"
      ]
     },
     "execution_count": 256,
     "metadata": {
      "tags": []
     },
     "output_type": "execute_result"
    }
   ],
   "source": [
    "gs.best_params"
   ]
  },
  {
   "cell_type": "code",
   "execution_count": 257,
   "metadata": {
    "colab": {
     "base_uri": "https://localhost:8080/",
     "height": 50
    },
    "colab_type": "code",
    "id": "SYphZkxmDYvN",
    "outputId": "7c5a3ce0-018c-482b-96dd-922b51578317"
   },
   "outputs": [
    {
     "name": "stdout",
     "output_type": "stream",
     "text": [
      "RMSE: 0.7444\n",
      "MAE:  0.5554\n"
     ]
    }
   ],
   "source": [
    "# user-based collaborative filtering\n",
    "generic_model(model=gs.best_estimator['rmse'], Tuned=True)"
   ]
  },
  {
   "cell_type": "markdown",
   "metadata": {
    "colab_type": "text",
    "id": "C-sbKxV22mSb"
   },
   "source": [
    "#### 6. Evaluate the above model. ( Once the model is trained on the training data, it can be used to compute the error (like RMSE) on predictions made on the test data.) You can also use a different method to evaluate the models. ( 5 marks)"
   ]
  },
  {
   "cell_type": "code",
   "execution_count": 265,
   "metadata": {
    "colab": {
     "base_uri": "https://localhost:8080/",
     "height": 343
    },
    "colab_type": "code",
    "id": "rTUiV_Hj26ln",
    "outputId": "5a3206bd-4d27-4749-a564-f6a082218c00"
   },
   "outputs": [
    {
     "data": {
      "text/html": [
       "<div>\n",
       "<style scoped>\n",
       "    .dataframe tbody tr th:only-of-type {\n",
       "        vertical-align: middle;\n",
       "    }\n",
       "\n",
       "    .dataframe tbody tr th {\n",
       "        vertical-align: top;\n",
       "    }\n",
       "\n",
       "    .dataframe thead th {\n",
       "        text-align: right;\n",
       "    }\n",
       "</style>\n",
       "<table border=\"1\" class=\"dataframe\">\n",
       "  <thead>\n",
       "    <tr style=\"text-align: right;\">\n",
       "      <th></th>\n",
       "      <th>TEST_RMSE</th>\n",
       "      <th>TEST_MAE</th>\n",
       "    </tr>\n",
       "  </thead>\n",
       "  <tbody>\n",
       "    <tr>\n",
       "      <th>KNNBasic</th>\n",
       "      <td>1.1184</td>\n",
       "      <td>0.8058</td>\n",
       "    </tr>\n",
       "    <tr>\n",
       "      <th>KNNWithMeans</th>\n",
       "      <td>1.0711</td>\n",
       "      <td>0.7738</td>\n",
       "    </tr>\n",
       "    <tr>\n",
       "      <th>KNNWithZScore</th>\n",
       "      <td>1.0743</td>\n",
       "      <td>0.7706</td>\n",
       "    </tr>\n",
       "    <tr>\n",
       "      <th>KNNBaseline</th>\n",
       "      <td>1.0506</td>\n",
       "      <td>0.7533</td>\n",
       "    </tr>\n",
       "    <tr>\n",
       "      <th>SVD</th>\n",
       "      <td>0.9892</td>\n",
       "      <td>0.7304</td>\n",
       "    </tr>\n",
       "    <tr>\n",
       "      <th>KNNBasic_Tuned</th>\n",
       "      <td>1.0661</td>\n",
       "      <td>0.8363</td>\n",
       "    </tr>\n",
       "    <tr>\n",
       "      <th>KNNWithMeans_Tuned</th>\n",
       "      <td>0.9932</td>\n",
       "      <td>0.7416</td>\n",
       "    </tr>\n",
       "    <tr>\n",
       "      <th>KNNWithZScore_Tuned</th>\n",
       "      <td>0.9932</td>\n",
       "      <td>0.7416</td>\n",
       "    </tr>\n",
       "    <tr>\n",
       "      <th>KNNBaseline_Tuned</th>\n",
       "      <td>0.8918</td>\n",
       "      <td>0.6569</td>\n",
       "    </tr>\n",
       "    <tr>\n",
       "      <th>SVD_Tuned</th>\n",
       "      <td>0.7444</td>\n",
       "      <td>0.5554</td>\n",
       "    </tr>\n",
       "  </tbody>\n",
       "</table>\n",
       "</div>"
      ],
      "text/plain": [
       "                     TEST_RMSE  TEST_MAE\n",
       "KNNBasic                1.1184    0.8058\n",
       "KNNWithMeans            1.0711    0.7738\n",
       "KNNWithZScore           1.0743    0.7706\n",
       "KNNBaseline             1.0506    0.7533\n",
       "SVD                     0.9892    0.7304\n",
       "KNNBasic_Tuned          1.0661    0.8363\n",
       "KNNWithMeans_Tuned      0.9932    0.7416\n",
       "KNNWithZScore_Tuned     0.9932    0.7416\n",
       "KNNBaseline_Tuned       0.8918    0.6569\n",
       "SVD_Tuned               0.7444    0.5554"
      ]
     },
     "execution_count": 265,
     "metadata": {
      "tags": []
     },
     "output_type": "execute_result"
    }
   ],
   "source": [
    "# To convert the list of dictionaries into a single dictionary\n",
    "modr_dict=dict()\n",
    "for i in model_results:\n",
    "    for k,v in i.items():\n",
    "        modr_dict[k]=v\n",
    "\n",
    "modr_df=pd.DataFrame(data=modr_dict, index=['TEST_RMSE','TEST_MAE']).T\n",
    "modr_df"
   ]
  },
  {
   "cell_type": "code",
   "execution_count": 267,
   "metadata": {
    "colab": {
     "base_uri": "https://localhost:8080/",
     "height": 151
    },
    "colab_type": "code",
    "id": "6Hh2wN8r3mdY",
    "outputId": "015bf3b7-a15c-45d4-e71e-3aae625c4909"
   },
   "outputs": [
    {
     "name": "stdout",
     "output_type": "stream",
     "text": [
      "Metric:  TEST_RMSE\n",
      "Lowest value is:  0.7444 and present for below models:\n",
      "['SVD_Tuned']\n",
      "-------------------------------------------------------------------------------------------------------\n",
      "Metric:  TEST_MAE\n",
      "Lowest value is:  0.5554 and present for below models:\n",
      "['SVD_Tuned']\n",
      "-------------------------------------------------------------------------------------------------------\n"
     ]
    }
   ],
   "source": [
    "# To retrieve the best model for each metric and its corresponding value for it\n",
    "for i in ['TEST_RMSE','TEST_MAE']:\n",
    "    print(\"Metric: \",i)\n",
    "    print(\"Lowest value is: \",modr_df[i].sort_values(ascending=True).head(1)[0],\"and present for below models:\")\n",
    "    print(modr_df[modr_df[i]==float(modr_df[i].sort_values(ascending=True).head(1))][i].index.values)\n",
    "    print(\"-------------------------------------------------------------------------------------------------------\")"
   ]
  },
  {
   "cell_type": "code",
   "execution_count": 268,
   "metadata": {
    "colab": {
     "base_uri": "https://localhost:8080/",
     "height": 771
    },
    "colab_type": "code",
    "id": "YDFiJOB44QJB",
    "outputId": "e8479e9b-0d94-4fc1-d71e-97a1994a6bb7"
   },
   "outputs": [
    {
     "data": {
      "image/png": "[encoded data removed]",
      "text/plain": [
       "<Figure size 576x432 with 1 Axes>"
      ]
     },
     "metadata": {
      "tags": []
     },
     "output_type": "display_data"
    },
    {
     "data": {
      "image/png": "[encoded data removed]",
      "text/plain": [
       "<Figure size 576x432 with 1 Axes>"
      ]
     },
     "metadata": {
      "tags": []
     },
     "output_type": "display_data"
    }
   ],
   "source": [
    "count=0\n",
    "for i in modr_df.columns:\n",
    "    count=count+1\n",
    "    plt.figure(count,figsize=(8,6))\n",
    "    sns.barplot(x=modr_df[i], y=modr_df[i].index)"
   ]
  },
  {
   "cell_type": "markdown",
   "metadata": {
    "colab_type": "text",
    "id": "XaxtRA014X6o"
   },
   "source": [
    "In every aspect model based SVD Tuned algo is good compared to memory based algos. Lets use SVD for recommending to the users."
   ]
  },
  {
   "cell_type": "code",
   "execution_count": 259,
   "metadata": {
    "colab": {},
    "colab_type": "code",
    "id": "S1lK1RX-C3hj"
   },
   "outputs": [],
   "source": [
    "# release trainset and testset\n",
    "del trainset\n",
    "del testset"
   ]
  },
  {
   "cell_type": "markdown",
   "metadata": {
    "colab_type": "text",
    "id": "z0cxyHzF4sAX"
   },
   "source": [
    "#### 7. Get top - K ( K = 5) recommendations. Since our goal is to recommend new products to each user based on his/her habits, we will recommend 5 new products. ( 10 marks)"
   ]
  },
  {
   "cell_type": "code",
   "execution_count": 340,
   "metadata": {
    "colab": {},
    "colab_type": "code",
    "id": "95l41Z1g45FK"
   },
   "outputs": [],
   "source": [
    "# Since last tuned is SVD we can get the algo from gridsearch itself.\n",
    "algo=gs.best_estimator['rmse']"
   ]
  },
  {
   "cell_type": "code",
   "execution_count": 261,
   "metadata": {
    "colab": {},
    "colab_type": "code",
    "id": "9TkjlzUD7_G0"
   },
   "outputs": [],
   "source": [
    "# build anti testset which contains the user and item combinations for which info is not present in trainset\n",
    "recommset=data.build_full_trainset().build_anti_testset()"
   ]
  },
  {
   "cell_type": "code",
   "execution_count": 271,
   "metadata": {
    "colab": {},
    "colab_type": "code",
    "id": "LtzpwmiIKKGb"
   },
   "outputs": [],
   "source": [
    "# build collaborative recomm based on user-id\n",
    "def collaborative_recomm(uid,k):\n",
    "    user_item_set=[item for item in recommset if item[0] ==uid ]\n",
    "    recomm_data=algo.test(user_item_set)\n",
    "    uid=[i[0] for i in recomm_data]\n",
    "    iid=[i[1] for i in recomm_data]\n",
    "    rui=[i[3] for i in recomm_data]\n",
    "    recomm_df=pd.DataFrame(data={'userId':uid,'productId':iid,'ratings':rui})\n",
    "    return recomm_df.sort_values(by='ratings',ascending=False).head(k)"
   ]
  },
  {
   "cell_type": "code",
   "execution_count": 272,
   "metadata": {
    "colab": {
     "base_uri": "https://localhost:8080/",
     "height": 118
    },
    "colab_type": "code",
    "id": "WGtPoACfzbW8",
    "outputId": "f512b800-9a7a-4256-eac0-3e57e3436788"
   },
   "outputs": [
    {
     "name": "stdout",
     "output_type": "stream",
     "text": [
      "               userId   productId   ratings\n",
      "181    A3BY5KCNQZXV5U  B00007GQLS  4.889644\n",
      "2421   A3BY5KCNQZXV5U  B0052SCU8U  4.811760\n",
      "11010  A3BY5KCNQZXV5U  B004ELA0SS  4.782359\n",
      "4785   A3BY5KCNQZXV5U  B007FGYZFI  4.778689\n",
      "534    A3BY5KCNQZXV5U  B00IVPU6AA  4.772088\n"
     ]
    }
   ],
   "source": [
    "k=5\n",
    "recomm=collaborative_recomm(uid='A3BY5KCNQZXV5U',k=k)\n",
    "print(recomm)"
   ]
  },
  {
   "cell_type": "markdown",
   "metadata": {
    "colab_type": "text",
    "id": "ZDF32aNj5Qh4"
   },
   "source": [
    "#### 8. Summarise your insights. ( 10 marks)"
   ]
  },
  {
   "cell_type": "markdown",
   "metadata": {
    "colab_type": "text",
    "id": "23_C9YVp5QZn"
   },
   "source": [
    "\n",
    "1. Most of the users have rated majority of the products between 4 and 5. And also there are some significant set of users who have rated majority of their purchased products with least rating 1.\n",
    "2. Most of the products have their mean rating above 3 which is good. However the spike at rating 1 is alarming which needs to be taken care of.\n",
    "3. Out of 7.8M purchases, around 1M purchases are rated below the user mean rating, indicating the product is bad. This amounts to around 12.8% of the purchases which is quite alarming and in depth survey needs to be done for these. Products which have got high number of bad ratings should be investigated first. The top 15 bad products are captured in our analysis by removing the user-bias.\n",
    "4. Around 5.59M purchases are rated OK by customer(customer rating for that product is equal to customer mean rating). This is a good sign.\n",
    "And around 1.23M purchases are rated good/highly appreciated.\n",
    "5. Out of 4.2M Customer base, only 1.5k customers have purchased more than or equal to 50 times. \n",
    "6. These 1.5k high purchasing customers didn't even buy the top 10 purchased products. This is an important stat because if we try to make the dataset dense then these top 10 purchased products wouldn't even be considered further in the recommendations. So for popular recommendations, its better not to filter out any data and use the full dataset.\n",
    "7. Model base algorithm - SVD serves as best model for this dataset for collaborative filtering.\n",
    "8. In collaborative filtering by using 1.5k customers, only 48k products are considered. But in the store we have total of 476k. This indicates that only 10% of the products are considered in collaborative filtering. \n",
    "9. By considering Point#8, it would be better to check if content based recommendation is possible or not. Gather the product information for each item and do the content based recommendation. This can help business in recommending/selling the similar items.\n",
    "10. Overall, I feel that initially we should proceed with Popular based recommendation and content based recommendations. This should be the first step. Next, in further stages, business can include collaborative filtering that we have developed above."
   ]
  }
 ],
 "metadata": {
  "colab": {
   "collapsed_sections": [],
   "name": "Project Product Recommendation Systems.ipynb",
   "provenance": [],
   "toc_visible": true
  },
  "kernelspec": {
   "display_name": "Python 3",
   "language": "python",
   "name": "python3"
  },
  "language_info": {
   "codemirror_mode": {
    "name": "ipython",
    "version": 3
   },
   "file_extension": ".py",
   "mimetype": "text/x-python",
   "name": "python",
   "nbconvert_exporter": "python",
   "pygments_lexer": "ipython3",
   "version": "3.7.7"
  }
 },
 "nbformat": 4,
 "nbformat_minor": 1
}
